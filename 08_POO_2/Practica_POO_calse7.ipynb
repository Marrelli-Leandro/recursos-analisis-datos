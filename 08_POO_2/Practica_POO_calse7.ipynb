{
 "cells": [
  {
   "cell_type": "markdown",
   "id": "5ed58724-8a8c-4ba8-be39-8e4988d3e7cb",
   "metadata": {},
   "source": [
    "# PROGRAMACION ORIENTADA A OBJETOS - CLASE 8"
   ]
  },
  {
   "cell_type": "markdown",
   "id": "f17e885d-c4b7-4d07-b69f-5d5e1476fb31",
   "metadata": {},
   "source": [
    "## HERENCIA"
   ]
  },
  {
   "cell_type": "markdown",
   "id": "bee5594a-be97-46a0-8c45-e3249ffbff9d",
   "metadata": {},
   "source": [
    "### Ejercicio 1.2"
   ]
  },
  {
   "cell_type": "code",
   "execution_count": 27,
   "id": "325d54b2-8a93-4e03-995a-11bca285f350",
   "metadata": {},
   "outputs": [],
   "source": [
    "class Persona:\n",
    "    def __init__(self, nombre, apellido, dni, nacionalidad, domicilio):\n",
    "        self.__nombre = nombre\n",
    "        self.__apellido = apellido\n",
    "        self.__dni = dni\n",
    "        self.__nacionalidad = nacionalidad\n",
    "        self.__domicilio = domicilio\n",
    "\n",
    "    def __str__(self):\n",
    "        return(f\"Nombre --> {self.__nombre}\\nApellido --> {self.__apellido}\")\n",
    "\n",
    "    def GetNombre(self):\n",
    "        return(f\"Su Nomnre es --> {self.__nombre}\")\n",
    "        \n",
    "    def GetApellido(self):\n",
    "        return(f\"Su Apellido es --> {self.__apellido}\")\n",
    "\n",
    "    def GetDni(self):\n",
    "        return(f\"Su DNI es --> {self.__dni}\")\n",
    "\n",
    "    def GetNacionalidad(self):\n",
    "        return(f\"Su Nacionalidad es --> {self.__nacionalidad}\")\n",
    "\n",
    "    def GetDomicilio(self):\n",
    "        return(f\"Su Domicilio es --> {self.__domicilio}\")\n",
    "        \n",
    "    def SetDomicilio(self,domicilio_nuevo):\n",
    "        self.__domicilio = domicilio_nuevo"
   ]
  },
  {
   "cell_type": "code",
   "execution_count": 28,
   "id": "1099e15f-53bb-42dd-a1a4-fc94f8ca13ca",
   "metadata": {},
   "outputs": [
    {
     "name": "stdout",
     "output_type": "stream",
     "text": [
      "Nombre --> Leandro\n",
      "Apellido --> Marrelli\n"
     ]
    }
   ],
   "source": [
    "persona_1 = Persona(\"Leandro\", \"Marrelli\", 34785110, \"Argentino\", \"Carrodilla\")\n",
    "print(persona_1)"
   ]
  },
  {
   "cell_type": "code",
   "execution_count": 30,
   "id": "228efcb1-51df-456d-a9d9-af1b92421e62",
   "metadata": {},
   "outputs": [
    {
     "name": "stdout",
     "output_type": "stream",
     "text": [
      "Su Nomnre es --> Leandro\n",
      "Su Apellido es --> Marrelli\n",
      "Su DNI es --> 34785110\n",
      "Su Nacionalidad es --> Argentino\n",
      "Su Domicilio es --> Carrodilla\n"
     ]
    }
   ],
   "source": [
    "print(persona_1.GetNombre())\n",
    "print(persona_1.GetApellido())\n",
    "print(persona_1.GetDni())\n",
    "print(persona_1.GetNacionalidad())\n",
    "print(persona_1.GetDomicilio())"
   ]
  },
  {
   "cell_type": "code",
   "execution_count": 32,
   "id": "939474da-e1c4-48ec-a17a-35aa8cb36e14",
   "metadata": {},
   "outputs": [],
   "source": [
    "persona_1.SetDomicilio(\"Francisco Pinzon 224, Carrodilla, Lujan de Cuyo, Mendoza\")"
   ]
  },
  {
   "cell_type": "code",
   "execution_count": 33,
   "id": "2aa0dee7-8bf6-4aee-94de-fe48c0a4d93b",
   "metadata": {},
   "outputs": [
    {
     "name": "stdout",
     "output_type": "stream",
     "text": [
      "Su Domicilio es --> Francisco Pinzon 224, Carrodilla, Lujan de Cuyo, Mendoza\n"
     ]
    }
   ],
   "source": [
    "print(persona_1.GetDomicilio())"
   ]
  },
  {
   "cell_type": "code",
   "execution_count": 70,
   "id": "2be4d104-cadb-4416-b157-56c3328cdb63",
   "metadata": {},
   "outputs": [],
   "source": [
    "class IntegrantesAlkemy(Persona):\n",
    "    def __init__(self, nombre, apellido, dni, nacionalidad, domicilio, ocupacion, cbu = 0, sueldo = False):\n",
    "        super().__init__(nombre, apellido, dni, nacionalidad, domicilio)\n",
    "        self.__ocupacion = ocupacion\n",
    "        self.__sueldo = sueldo\n",
    "        self.__cbu = cbu\n",
    "\n",
    "    #def __str__(self):\n",
    "     #   return f\"{self.__nombre} {self.__apellido} se desempeña como {self.__ocupacion}\"\n",
    "    def __str__(self):\n",
    "        return f\"{self.GetNombre()}\\n{self.GetApellido()}\\nEs --> {self.__ocupacion}\"\n",
    "\n",
    "    def GetOcupacion(self):\n",
    "        return(f\"Esta persona es --> {self.__ocupacion}\")\n",
    "\n",
    "    def GetCbu(self):\n",
    "        if(self.__ocupacion == \"Alumno\"):\n",
    "            return(f\"Esta persona es Alumno, no tiene CBU\")\n",
    "        else:\n",
    "            return(f\"El CBU es --> {self.__cbu}\")\n",
    "\n",
    "    def GetSueldo(self):\n",
    "        if(self.__sueldo == False):\n",
    "            return(f\"Esta persona es Alumno, no cobra sueldo\")\n",
    "        else:\n",
    "            return(f\"Esta persona es --> {self.__ocupacion}, Si cobra sueldo\")"
   ]
  },
  {
   "cell_type": "code",
   "execution_count": 71,
   "id": "b3a78744-12b8-49ff-8c02-128d2f19a145",
   "metadata": {},
   "outputs": [],
   "source": [
    "integrante_1 = IntegrantesAlkemy(\"Leandro\", \"Marrelli\" , 34785110, \"Argentino\", \"Pinzon 224\", \"Alumno\")"
   ]
  },
  {
   "cell_type": "code",
   "execution_count": 67,
   "id": "f89754ca-79c4-4d8f-8022-6063afc7428e",
   "metadata": {},
   "outputs": [
    {
     "name": "stdout",
     "output_type": "stream",
     "text": [
      "Su Nomnre es --> Leandro\n",
      "Su Apellido es --> Marrelli\n",
      "Es --> Alumno\n"
     ]
    }
   ],
   "source": [
    "#print(integrante_1)"
   ]
  },
  {
   "cell_type": "code",
   "execution_count": 73,
   "id": "3b2aabb6-0818-414e-ab51-4a05ca123fad",
   "metadata": {},
   "outputs": [
    {
     "name": "stdout",
     "output_type": "stream",
     "text": [
      "Esta persona es --> Alumno\n",
      "Esta persona es Alumno, no tiene CBU\n",
      "Esta persona es Alumno, no cobra sueldo\n"
     ]
    }
   ],
   "source": [
    "print(integrante_1.GetOcupacion())\n",
    "print(integrante_1.GetCbu())\n",
    "print(integrante_1.GetSueldo())"
   ]
  },
  {
   "cell_type": "code",
   "execution_count": 74,
   "id": "66121bf8-d766-4cc0-af9b-e9e45d91b302",
   "metadata": {},
   "outputs": [],
   "source": [
    "integrante_2 = IntegrantesAlkemy(\"Ezequiel\", \"Linares\" , 34785111, \"Argentino\", \"Pinzon 229\", \"Profesor\", 123456789, True)"
   ]
  },
  {
   "cell_type": "code",
   "execution_count": 75,
   "id": "9820d965-0164-42bf-98f8-070884167b5a",
   "metadata": {},
   "outputs": [
    {
     "name": "stdout",
     "output_type": "stream",
     "text": [
      "Esta persona es --> Profesor\n",
      "El CBU es --> 123456789\n",
      "Esta persona es --> Profesor, Si cobra sueldo\n"
     ]
    }
   ],
   "source": [
    "print(integrante_2.GetOcupacion())\n",
    "print(integrante_2.GetCbu())\n",
    "print(integrante_2.GetSueldo())"
   ]
  },
  {
   "cell_type": "markdown",
   "id": "424def35-2fc9-47e4-be36-e46638b02cd8",
   "metadata": {},
   "source": [
    "### Ejercicio 1.3"
   ]
  },
  {
   "cell_type": "markdown",
   "id": "922f27d8-507f-4675-804d-e969f642bc96",
   "metadata": {},
   "source": [
    "En este caso, veremos otro ejemplo, pero donde la clase padre no tiene atributos privados.\n",
    "De esta manera no seran necesarias las funciones Get y Set"
   ]
  },
  {
   "cell_type": "code",
   "execution_count": null,
   "id": "a928bae5-d2ca-43e9-8bbb-e68fac6e072d",
   "metadata": {},
   "outputs": [],
   "source": [
    "class Auto"
   ]
  }
 ],
 "metadata": {
  "kernelspec": {
   "display_name": "Python 3 (ipykernel)",
   "language": "python",
   "name": "python3"
  },
  "language_info": {
   "codemirror_mode": {
    "name": "ipython",
    "version": 3
   },
   "file_extension": ".py",
   "mimetype": "text/x-python",
   "name": "python",
   "nbconvert_exporter": "python",
   "pygments_lexer": "ipython3",
   "version": "3.11.7"
  }
 },
 "nbformat": 4,
 "nbformat_minor": 5
}
