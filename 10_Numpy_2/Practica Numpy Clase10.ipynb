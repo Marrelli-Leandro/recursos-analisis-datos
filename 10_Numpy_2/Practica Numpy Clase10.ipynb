{
 "cells": [
  {
   "cell_type": "markdown",
   "id": "19147c22-aa5e-4ff8-9566-5441ed901512",
   "metadata": {},
   "source": [
    "# LIBRERIA NUMPY"
   ]
  },
  {
   "cell_type": "markdown",
   "id": "aeaabacd-7711-446e-8309-ecb3bdc95467",
   "metadata": {},
   "source": [
    "para poder trabjar con numpy, es necesario la importacion de una libreria que se llama de la misma manera\n",
    "la importacion de dicha libreria se hace de la siguiente manera"
   ]
  },
  {
   "cell_type": "markdown",
   "id": "be213012-a7f4-41bf-9b55-692bcff08404",
   "metadata": {},
   "source": [
    "### Importacion de librerias"
   ]
  },
  {
   "cell_type": "code",
   "execution_count": 24,
   "id": "7d50d608-8013-4551-939e-b39c4fa5cc66",
   "metadata": {},
   "outputs": [],
   "source": [
    "import math\n",
    "import numpy as np "
   ]
  },
  {
   "cell_type": "markdown",
   "id": "372165be-dab7-45f7-8f17-a0405bc687d4",
   "metadata": {},
   "source": [
    "## Ejercicio 1.0 --> producto matricial, matriz determinante y matriz transpuesta"
   ]
  },
  {
   "cell_type": "code",
   "execution_count": 12,
   "id": "f6cd1a08-e999-4ea5-9558-5b34ab9b5156",
   "metadata": {},
   "outputs": [
    {
     "name": "stdout",
     "output_type": "stream",
     "text": [
      "[[19 22]\n",
      " [43 50]]\n",
      "\n",
      "---------------\n",
      "\n",
      "-2.0000000000000004\n",
      "\n",
      "---------------\n",
      "\n",
      "-1.999999999999999\n",
      "\n",
      "---------------\n",
      "\n",
      "[[1 3]\n",
      " [2 4]]\n",
      "\n",
      "---------------\n",
      "\n",
      "[[5 7]\n",
      " [6 8]]\n"
     ]
    }
   ],
   "source": [
    "### CREACION DE MATRICES ###\n",
    "matriz_1 = np.array([[1,2],[3,4]])\n",
    "matriz_2 = np.array([[5,6],[7,8]])\n",
    "\n",
    "prod_matricial = np.matmul(matriz_1,matriz_2)\n",
    "determinante_1 = np.linalg.det(matriz_1)\n",
    "determinante_2 = np.linalg.det(matriz_2)\n",
    "transpuesta_1 = np.transpose(matriz_1)\n",
    "transpuesta_2 = np.transpose(matriz_2)\n",
    "\n",
    "print(prod_matricial)\n",
    "print(\"\\n---------------\\n\")\n",
    "print(determinante_1)\n",
    "print(\"\\n---------------\\n\")\n",
    "print(determinante_2)\n",
    "print(\"\\n---------------\\n\")\n",
    "print(transpuesta_1)\n",
    "print(\"\\n---------------\\n\")\n",
    "print(transpuesta_2)"
   ]
  },
  {
   "cell_type": "markdown",
   "id": "7f6e6dc1-0b69-4c5a-a680-91233360afd3",
   "metadata": {},
   "source": [
    "## Ejercicio 1.1 --> Resolucion de ecuaciones lineales"
   ]
  },
  {
   "cell_type": "markdown",
   "id": "8cf4420f-2e78-4bf4-b35f-c540e31f41ed",
   "metadata": {},
   "source": [
    "numpy tiene una funcion que permite solucionar ecuaciones lineales que se ecuentran de manera implisita.\n",
    "suponiendo que tenemos las siguientes ecuaciones\n",
    "\n",
    "2X + 3y = 5\n",
    "\n",
    "4X - y = 2\n",
    "\n",
    "De estas dos ecueaciones tenemos 2 array \n",
    "\n",
    "array_coeficiones = ([[2,3],[4,-1]])\n",
    "\n",
    "array_constantes = ([5,2])"
   ]
  },
  {
   "cell_type": "code",
   "execution_count": 7,
   "id": "ff86a2ab-227d-4e80-bea5-906e9c781733",
   "metadata": {},
   "outputs": [
    {
     "name": "stdout",
     "output_type": "stream",
     "text": [
      "El valor de X es -->  0.7857142857142857\n",
      "El valor de y es --> 1.1428571428571428\n"
     ]
    }
   ],
   "source": [
    "coeficientes = ([[2,3],[4,-1]])\n",
    "constantes = ([5,2])\n",
    "\n",
    "resolucion = np.linalg.solve(coeficientes, constantes)\n",
    "\n",
    "print (\"El valor de X es --> \",resolucion[0])\n",
    "print (\"El valor de y es -->\",resolucion[1])"
   ]
  },
  {
   "cell_type": "markdown",
   "id": "1460817a-4c29-41c0-9401-12f3aa4d50b2",
   "metadata": {},
   "source": [
    "## Ejercicio 1.2 --> obtenemos informacion de un array multidimencional"
   ]
  },
  {
   "cell_type": "code",
   "execution_count": 14,
   "id": "06f51a40-caf7-437e-8e39-2e1897b7395c",
   "metadata": {},
   "outputs": [],
   "source": [
    "array_1 = ([[[0,1,2,3],[4,5,6,7]],\n",
    "           [[8,9,10,11],[12,13,14,15]],\n",
    "           [[16,17,18,19],[20,21,22,23]]])"
   ]
  },
  {
   "cell_type": "markdown",
   "id": "bb1addb3-b198-4fb4-bf03-3116bd2d1ff3",
   "metadata": {},
   "source": [
    "Si queremos saber cual es la dimencion del array, utilizamos la siguiente funcion"
   ]
  },
  {
   "cell_type": "code",
   "execution_count": 15,
   "id": "7659fe60-3119-41b3-85a0-320aa82dc3a7",
   "metadata": {},
   "outputs": [
    {
     "name": "stdout",
     "output_type": "stream",
     "text": [
      "3\n"
     ]
    }
   ],
   "source": [
    "dimencion = np.ndim(array_1)\n",
    "print(dimencion)"
   ]
  },
  {
   "cell_type": "markdown",
   "id": "50f25b49-d76d-40e5-a3c8-9dfac2bfbc42",
   "metadata": {},
   "source": [
    "Si queremos saber cual es la cantidad total de elementos, sin importar la dimencion, utilizamos la siguiente funcion"
   ]
  },
  {
   "cell_type": "code",
   "execution_count": 16,
   "id": "6ff97bdf-ccae-4e68-8013-a931de968f41",
   "metadata": {},
   "outputs": [
    {
     "name": "stdout",
     "output_type": "stream",
     "text": [
      "24\n"
     ]
    }
   ],
   "source": [
    "elementos = np.size(array_1)\n",
    "print(elementos)"
   ]
  },
  {
   "cell_type": "markdown",
   "id": "a40e9afa-3775-4f68-a903-a2786131c155",
   "metadata": {},
   "source": [
    "Si queremos saber la estructura del array, es decir cuantos en z, en y y en x; utilizamos la siguiente funcion"
   ]
  },
  {
   "cell_type": "code",
   "execution_count": 17,
   "id": "2db0d46a-b99c-498d-9099-c44f1c7fac67",
   "metadata": {},
   "outputs": [
    {
     "name": "stdout",
     "output_type": "stream",
     "text": [
      "(3, 2, 4)\n"
     ]
    }
   ],
   "source": [
    "estructura = np.shape(array_1)\n",
    "print(estructura)"
   ]
  },
  {
   "cell_type": "markdown",
   "id": "0846d6cc-3098-48df-9ccf-9b6570513ff2",
   "metadata": {},
   "source": [
    "## Ejercicio 1.3 --> como obtener valores de un array"
   ]
  },
  {
   "cell_type": "code",
   "execution_count": 1,
   "id": "6343afd6-63fd-4633-b478-2aebb8dbef28",
   "metadata": {},
   "outputs": [],
   "source": [
    "array_2 = ([1,2,3,4,5,6,7,8,9,10,11,12,13,14,15,16,17,18,19,20])"
   ]
  },
  {
   "cell_type": "markdown",
   "id": "17631df1-c639-4b60-b463-050e33bea713",
   "metadata": {},
   "source": [
    "Recordando que el primer elemento es siempre el 0, teniendo un total de 20 numero, sabemos que va desde el 0 al 19.\n",
    "para poder obtener e valor de una posicion particular se hace de la siguiente manera."
   ]
  },
  {
   "cell_type": "code",
   "execution_count": 2,
   "id": "a406e158-513c-4c5d-8291-e039d023d46f",
   "metadata": {},
   "outputs": [
    {
     "name": "stdout",
     "output_type": "stream",
     "text": [
      "5\n"
     ]
    }
   ],
   "source": [
    "print(array_2[4]) #de esta manera obtenemos el valor de la posicion 4 q es el valor 5"
   ]
  },
  {
   "cell_type": "markdown",
   "id": "c2816f38-b796-429f-b06c-96a4acfcf645",
   "metadata": {},
   "source": [
    "si querenis ibtener un rango de posiciones, lo que se hace es lo siguiente"
   ]
  },
  {
   "cell_type": "code",
   "execution_count": 7,
   "id": "c337dbfd-5e60-4977-8bd1-5a671c18a62b",
   "metadata": {},
   "outputs": [
    {
     "name": "stdout",
     "output_type": "stream",
     "text": [
      "[1, 2, 3, 4]\n"
     ]
    }
   ],
   "source": [
    "print(array_2[0:4]) #de esta manera obtenemos los valores de las posiciones desde la posicion 0 hasta la 3 (una menos de la indicada)"
   ]
  },
  {
   "cell_type": "markdown",
   "id": "20be17ef-4670-40cb-9b16-582f94b13211",
   "metadata": {},
   "source": [
    "si uno no coloca el primer numero en el caso anterior, toma como si estuviese el cero y si no se coloca el ultimo numero, toma como si estuviese el ultimo"
   ]
  },
  {
   "cell_type": "code",
   "execution_count": 8,
   "id": "0db37175-e967-4426-a4d5-1749a3699cb7",
   "metadata": {},
   "outputs": [
    {
     "name": "stdout",
     "output_type": "stream",
     "text": [
      "[1, 2, 3, 4, 5]\n"
     ]
    }
   ],
   "source": [
    "print(array_2[:5])"
   ]
  },
  {
   "cell_type": "code",
   "execution_count": 9,
   "id": "7a15d9b0-e9a7-4b0f-a491-b7dc0d8f7333",
   "metadata": {},
   "outputs": [
    {
     "name": "stdout",
     "output_type": "stream",
     "text": [
      "[5, 6, 7, 8, 9, 10, 11, 12, 13, 14, 15, 16, 17, 18, 19, 20]\n"
     ]
    }
   ],
   "source": [
    "print(array_2[4:])"
   ]
  },
  {
   "cell_type": "markdown",
   "id": "6d1767bc-5529-42d4-be0d-dd4e403cb452",
   "metadata": {},
   "source": [
    "Si colocamos numero negativos desde el -1 en adelante, recorremos el array de atras para adelante.\n",
    "\n",
    "Es decir que si ponemos -1, obtendremos el 20"
   ]
  },
  {
   "cell_type": "code",
   "execution_count": 10,
   "id": "2816e878-4e00-4cec-969d-d6298217b46d",
   "metadata": {},
   "outputs": [
    {
     "name": "stdout",
     "output_type": "stream",
     "text": [
      "20\n"
     ]
    }
   ],
   "source": [
    "print(array_2[-1])"
   ]
  },
  {
   "cell_type": "code",
   "execution_count": 17,
   "id": "217a4d33-317c-4bdd-bcb1-b21f8c84a1e7",
   "metadata": {},
   "outputs": [
    {
     "name": "stdout",
     "output_type": "stream",
     "text": [
      "[16, 17, 18, 19]\n"
     ]
    }
   ],
   "source": [
    "print(array_2[-5:-1])"
   ]
  },
  {
   "cell_type": "markdown",
   "id": "9b2174c8-a818-4bb2-82d9-aa9c34ed7607",
   "metadata": {},
   "source": [
    "## Ejercicio 1.4 --> ordenar un array, lo cual se hace de la siguiente manera"
   ]
  },
  {
   "cell_type": "code",
   "execution_count": 25,
   "id": "5bcdaad6-caf3-4b81-a9d9-cb68070c13ca",
   "metadata": {},
   "outputs": [
    {
     "name": "stdout",
     "output_type": "stream",
     "text": [
      "[1 2 3 4 5 6 7 8 9]\n"
     ]
    }
   ],
   "source": [
    "array_desordenado = [5,7,2,4,1,9,8,3,6]\n",
    "array_ordenado = np.sort(array_desordenado)\n",
    "print(array_ordenado)"
   ]
  },
  {
   "cell_type": "markdown",
   "id": "f1762292-e413-477c-8db9-c2367f2ed993",
   "metadata": {},
   "source": [
    "tambien es posible dar vuelta el array llevando el primer elemento al ultimo y el ultimo al primero\n",
    "\n",
    "esto se realiza de la siguiente manera"
   ]
  },
  {
   "cell_type": "code",
   "execution_count": 27,
   "id": "71d1648e-e345-4b5d-9fd2-1ba7fe117734",
   "metadata": {},
   "outputs": [
    {
     "name": "stdout",
     "output_type": "stream",
     "text": [
      "[9 8 7 6 5 4 3 2 1]\n"
     ]
    }
   ],
   "source": [
    "array_ordenado_rotado = np.flip(array_ordenado)\n",
    "print(array_ordenado_rotado)"
   ]
  },
  {
   "cell_type": "markdown",
   "id": "a650564b-62ed-4186-baaf-62850113ef20",
   "metadata": {},
   "source": [
    "## Ejercicio 1.5 --> Generacion de array con valores random"
   ]
  },
  {
   "cell_type": "code",
   "execution_count": 42,
   "id": "cbab11a3-9380-4db7-9290-022fb701e638",
   "metadata": {},
   "outputs": [],
   "source": [
    "rng = np.random.default_rng()"
   ]
  },
  {
   "cell_type": "markdown",
   "id": "feb658d7-f7c6-4cb8-a89e-2ff08f0821da",
   "metadata": {},
   "source": [
    "para generar un arran con valores radom que van desde 0 sin incluirlo hasta 1 incluido, se hace lo siguiente"
   ]
  },
  {
   "cell_type": "code",
   "execution_count": 47,
   "id": "cefbb929-c154-464a-80f7-97ce377d3668",
   "metadata": {},
   "outputs": [
    {
     "name": "stdout",
     "output_type": "stream",
     "text": [
      "[[0.44923041 0.20659867 0.03818238 0.37506566 0.44170292]\n",
      " [0.35645967 0.27054911 0.58603726 0.36813599 0.74240525]\n",
      " [0.60052693 0.19307663 0.69389608 0.34099067 0.81512397]]\n"
     ]
    }
   ],
   "source": [
    "array_random = rng.random(size = (3,5)) # crea un array con 3 valores que van entre 0 no tomado hasta 1 si considerado\n",
    "print(array_random)"
   ]
  },
  {
   "cell_type": "markdown",
   "id": "107e37e8-dc80-471d-9f77-a8266a622647",
   "metadata": {},
   "source": [
    "para generar un array con valores enteros con maximo y minimo, se hace de la siguiente manera"
   ]
  },
  {
   "cell_type": "code",
   "execution_count": 40,
   "id": "e6240821-f35e-4df4-8c19-e6454cbc42d6",
   "metadata": {},
   "outputs": [
    {
     "name": "stdout",
     "output_type": "stream",
     "text": [
      "[[7 9 9 5]\n",
      " [5 9 9 9]\n",
      " [9 8 6 5]\n",
      " [9 6 9 9]]\n"
     ]
    }
   ],
   "source": [
    "array_random_entero = rng.integers(low = 5,high = 10,size=(4,4))\n",
    "print(array_random_entero)"
   ]
  },
  {
   "cell_type": "markdown",
   "id": "923a9ef3-1e56-4556-8127-1f35e1e964f5",
   "metadata": {},
   "source": [
    "## Ejercicio 1.6 --> obtener los valores unicos en otro array"
   ]
  },
  {
   "cell_type": "code",
   "execution_count": 41,
   "id": "99d568fc-9cc2-47f5-9a98-9658eab7e495",
   "metadata": {},
   "outputs": [
    {
     "name": "stdout",
     "output_type": "stream",
     "text": [
      "[1 2 3 4 5 6 7 8 9]\n"
     ]
    }
   ],
   "source": [
    "array_largo = [1,4,3,6,8,6,5,4,2,3,5,8,9,7,6,5,4,3,7,9,8,7,8,6,1,3,2,5,6,8,9,8,7,6,7,5,4,3,1,5,6,7,9,8,4,3,2,5]\n",
    "valores_unicos = np.unique(array_largo)\n",
    "print(valores_unicos)"
   ]
  },
  {
   "cell_type": "markdown",
   "id": "4ac3fae6-56be-437b-9cbf-63b8bfdba4e6",
   "metadata": {},
   "source": [
    "## Ejercicio 1.7 --> calcular valores estadisticos"
   ]
  },
  {
   "cell_type": "code",
   "execution_count": 50,
   "id": "9d3bb89e-feee-452e-b504-2ec49713bd99",
   "metadata": {},
   "outputs": [
    {
     "name": "stdout",
     "output_type": "stream",
     "text": [
      "[5110 8401 3802 1141  883 6582 8080 1148 3904 7109 8117 3563 8765 4626\n",
      " 8505 1074 2054 8432 1610 1871]\n"
     ]
    }
   ],
   "source": [
    "array_ran = rng.integers(size = 20, low = 1, high = 10000)\n",
    "print(array_ran)"
   ]
  },
  {
   "cell_type": "markdown",
   "id": "87c5417a-3c97-4cfd-92b3-d57140e686b9",
   "metadata": {},
   "source": [
    "Calculamos desviacion estandar"
   ]
  },
  {
   "cell_type": "code",
   "execution_count": 52,
   "id": "221f7551-145c-4d5a-ba1f-d7ee0b6b4303",
   "metadata": {},
   "outputs": [
    {
     "name": "stdout",
     "output_type": "stream",
     "text": [
      "2928.330194411142\n"
     ]
    }
   ],
   "source": [
    "des_estandar = np.std(array_ran)\n",
    "print(des_estandar)"
   ]
  },
  {
   "cell_type": "markdown",
   "id": "32a99b20-c5a3-42f3-950e-4d969a49f426",
   "metadata": {},
   "source": [
    "Calculamos la media"
   ]
  },
  {
   "cell_type": "code",
   "execution_count": 54,
   "id": "89ac6b7d-9541-4852-bd69-dff865b61406",
   "metadata": {},
   "outputs": [
    {
     "name": "stdout",
     "output_type": "stream",
     "text": [
      "4738.85\n"
     ]
    }
   ],
   "source": [
    "media = np.mean(array_ran)\n",
    "print(media)"
   ]
  },
  {
   "cell_type": "markdown",
   "id": "1f0e6ab4-fd2b-4837-bb1e-d5f02c79f3c4",
   "metadata": {},
   "source": [
    "Obtenemos valor maximo y minimo"
   ]
  },
  {
   "cell_type": "code",
   "execution_count": 55,
   "id": "edf1ae37-2bc4-4e5a-9b29-11b4c28e3965",
   "metadata": {},
   "outputs": [
    {
     "name": "stdout",
     "output_type": "stream",
     "text": [
      "El valor maximo es -->  8765\n",
      "El valor minimo es -->  883\n"
     ]
    }
   ],
   "source": [
    "val_max = np.max(array_ran)\n",
    "val_min = np.min(array_ran)\n",
    "print(\"El valor maximo es --> \",val_max)\n",
    "print(\"El valor minimo es --> \",val_min)"
   ]
  },
  {
   "cell_type": "code",
   "execution_count": null,
   "id": "eed93fb6-04e6-4074-8aab-90705dc262fa",
   "metadata": {},
   "outputs": [],
   "source": []
  }
 ],
 "metadata": {
  "kernelspec": {
   "display_name": "Python 3 (ipykernel)",
   "language": "python",
   "name": "python3"
  },
  "language_info": {
   "codemirror_mode": {
    "name": "ipython",
    "version": 3
   },
   "file_extension": ".py",
   "mimetype": "text/x-python",
   "name": "python",
   "nbconvert_exporter": "python",
   "pygments_lexer": "ipython3",
   "version": "3.11.7"
  }
 },
 "nbformat": 4,
 "nbformat_minor": 5
}
