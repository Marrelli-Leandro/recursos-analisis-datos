{
 "cells": [
  {
   "cell_type": "markdown",
   "id": "685b84dc-c40c-4fe3-81d9-a5a74819f3cf",
   "metadata": {
    "tags": []
   },
   "source": [
    "# PROYECTO FINAL"
   ]
  },
  {
   "cell_type": "markdown",
   "id": "dec5fb9a-7078-4587-aed6-b1521c7a752d",
   "metadata": {
    "tags": []
   },
   "source": [
    "## LIBRERIAS"
   ]
  },
  {
   "cell_type": "markdown",
   "id": "437a23b1-8f4b-4f47-aad8-76f795a99d68",
   "metadata": {},
   "source": [
    "## FUNCIONES"
   ]
  },
  {
   "cell_type": "markdown",
   "id": "8be99ba7-d1fa-4c58-a2cc-6c570f7c307c",
   "metadata": {},
   "source": [
    "## EXTRACCIÓN"
   ]
  },
  {
   "cell_type": "markdown",
   "id": "ee3fb09e-37ac-4b81-a379-99f68017d4e7",
   "metadata": {},
   "source": [
    "## TRANSFORMACIÓN"
   ]
  },
  {
   "cell_type": "markdown",
   "id": "e8f2a35c-ed3e-4a0c-9cae-eab193d18aab",
   "metadata": {},
   "source": [
    "## CARGA"
   ]
  },
  {
   "cell_type": "code",
   "execution_count": null,
   "id": "fd40af11-9565-45f4-97dc-7a2bb42494b4",
   "metadata": {},
   "outputs": [],
   "source": []
  }
 ],
 "metadata": {
  "kernelspec": {
   "display_name": "Python 3 (ipykernel)",
   "language": "python",
   "name": "python3"
  },
  "language_info": {
   "codemirror_mode": {
    "name": "ipython",
    "version": 3
   },
   "file_extension": ".py",
   "mimetype": "text/x-python",
   "name": "python",
   "nbconvert_exporter": "python",
   "pygments_lexer": "ipython3",
   "version": "3.11.7"
  }
 },
 "nbformat": 4,
 "nbformat_minor": 5
}
