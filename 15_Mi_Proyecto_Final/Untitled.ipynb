{
 "cells": [
  {
   "cell_type": "markdown",
   "id": "685b84dc-c40c-4fe3-81d9-a5a74819f3cf",
   "metadata": {
    "tags": []
   },
   "source": [
    "# PROYECTO FINAL"
   ]
  },
  {
   "cell_type": "markdown",
   "id": "dec5fb9a-7078-4587-aed6-b1521c7a752d",
   "metadata": {
    "jp-MarkdownHeadingCollapsed": true,
    "tags": []
   },
   "source": [
    "## LIBRERIAS"
   ]
  },
  {
   "cell_type": "markdown",
   "id": "85bda773-593b-4c0d-98cd-bb56ed77fcf2",
   "metadata": {
    "tags": []
   },
   "source": [
    "### IMPORTACION DE LIBRERIAS"
   ]
  },
  {
   "cell_type": "code",
   "execution_count": 156,
   "id": "6010513c-62cb-4546-889f-39c660269490",
   "metadata": {
    "tags": []
   },
   "outputs": [],
   "source": [
    "import pandas as pd\n",
    "import numpy as np\n",
    "import os"
   ]
  },
  {
   "cell_type": "markdown",
   "id": "437a23b1-8f4b-4f47-aad8-76f795a99d68",
   "metadata": {
    "jp-MarkdownHeadingCollapsed": true,
    "tags": []
   },
   "source": [
    "## FUNCIONES"
   ]
  },
  {
   "cell_type": "markdown",
   "id": "fdeae9ee-1e66-4670-a9b1-9b2d75466b64",
   "metadata": {
    "jp-MarkdownHeadingCollapsed": true,
    "tags": []
   },
   "source": [
    "### CAMBIO CAMPO A TIPO DATATIME"
   ]
  },
  {
   "cell_type": "code",
   "execution_count": 158,
   "id": "5784b0ab-bb8c-4baf-887f-bcd7fd9bc351",
   "metadata": {
    "tags": []
   },
   "outputs": [],
   "source": [
    "def CambioTipoFecha(df,columnas): # Recibimos dos argumentos, los cuales son: el dataframe a modificar y las coolumnas a modificar\n",
    "    df[columnas] = df[columnas].apply(pd.to_datetime) # aplicamos a las columnas obtenidas el cambio de tipo de dato a datatime\n",
    "    return df # Retornamos el dataframe con el cambio de tipo de dato en las clumnas "
   ]
  },
  {
   "cell_type": "markdown",
   "id": "adc0592f-1e9a-475a-a10a-066740311c8f",
   "metadata": {
    "jp-MarkdownHeadingCollapsed": true,
    "tags": []
   },
   "source": [
    "### CAMBIO CAMPO A MINUSCULA"
   ]
  },
  {
   "cell_type": "code",
   "execution_count": 160,
   "id": "cddab4d5-90ef-4458-9510-a700953eca85",
   "metadata": {
    "tags": []
   },
   "outputs": [],
   "source": [
    "def CambioMinuscula(df,columnas): # Recibimos dos argumentos, los cuales son: el dataframe a modificar y las coolumnas a modificar\n",
    "    for columna in columnas: # trabajamos con un for para seleccionar columna por columna deseadas, ya que str.lower trabaja por serie y no por dataframe\n",
    "        df[columna] = df[columna].str.lower() # aplicamos str.lower, el cual hace que todos los valores aparezcan en minuscula\n",
    "    return df # retornamos el dataframe modificado"
   ]
  },
  {
   "cell_type": "markdown",
   "id": "0baac0b0-ad33-4764-b9cb-6f061a91c707",
   "metadata": {
    "jp-MarkdownHeadingCollapsed": true,
    "tags": []
   },
   "source": [
    "### CAMBIO CAMPO A MAYUSCULA"
   ]
  },
  {
   "cell_type": "code",
   "execution_count": 162,
   "id": "6c0a0d4f-3408-4f75-8390-48452b4f59a3",
   "metadata": {
    "tags": []
   },
   "outputs": [],
   "source": [
    "def CambioMayuscula(df,columnas): # Recibimos dos argumentos, los cuales son: el dataframe a modificar y las coolumnas a modificar\n",
    "    for columna in columnas: # trabajamos con un for para seleccionar columna por columna deseadas, ya que str.lower trabaja por serie y no por dataframe\n",
    "        df[columna] = df[columna].str.upper() # aplicamos str.upper, el cual hace que todos los valores aparezcan en mayuscula \n",
    "    return df # retornamos el dataframe modificado"
   ]
  },
  {
   "cell_type": "markdown",
   "id": "be29d6e2-f6d0-4317-a9e1-9f4a8e8c39f1",
   "metadata": {
    "jp-MarkdownHeadingCollapsed": true,
    "tags": []
   },
   "source": [
    "### CAMBIO CAMPO A TIPO STR"
   ]
  },
  {
   "cell_type": "code",
   "execution_count": 164,
   "id": "1142222a-e3a0-4e39-823b-9e6cb4c93c5c",
   "metadata": {
    "tags": []
   },
   "outputs": [],
   "source": [
    "def CambioTipoStr(df,columnas): # Recibimos dos argumentos, los cuales son: el dataframe a modificar y las coolumnas a modificar\n",
    "    df[columnas] = df[columnas].astype(\"string\") # aplicamos a las columnas obtenidas el cambio de tipo de dato a str\n",
    "    return df # Retornamos el dataframe con el cambio de tipo de dato en las clumnas"
   ]
  },
  {
   "cell_type": "markdown",
   "id": "8be99ba7-d1fa-4c58-a2cc-6c570f7c307c",
   "metadata": {
    "tags": []
   },
   "source": [
    "## EXTRACCIÓN"
   ]
  },
  {
   "cell_type": "markdown",
   "id": "18a2bdc7-2817-41e1-a2e0-4f3848fcadb5",
   "metadata": {
    "jp-MarkdownHeadingCollapsed": true,
    "tags": []
   },
   "source": [
    "### CARGA"
   ]
  },
  {
   "cell_type": "code",
   "execution_count": 273,
   "id": "aa3d1418-53d6-474a-8912-08700ddad301",
   "metadata": {
    "tags": []
   },
   "outputs": [],
   "source": [
    "# En todas estas lineas, lo que estamos haciendo es leer harchivos con formato CSV, los cuales se cuentran en una carpeta de un repositorio\n",
    "# de github, y guardarlos cono dataframe mediante la libre ria pandas \n",
    "\n",
    "df_customers = pd.read_csv(\"https://raw.githubusercontent.com/Marrelli-Leandro/recursos-analisis-datos/main/14_Datasets_Originales/ecommerce_customers_dataset.csv\")\n",
    "df_orders = pd.read_csv(\"https://raw.githubusercontent.com/Marrelli-Leandro/recursos-analisis-datos/main/14_Datasets_Originales/ecommerce_orders_dataset.csv\")\n",
    "df_order_items = pd.read_csv(\"https://raw.githubusercontent.com/Marrelli-Leandro/recursos-analisis-datos/main/14_Datasets_Originales/ecommerce_order_items_dataset.csv\")\n",
    "df_products = pd.read_csv(\"https://raw.githubusercontent.com/Marrelli-Leandro/recursos-analisis-datos/main/14_Datasets_Originales/ecommerce_products_dataset.csv\")\n",
    "df_order_payments = pd.read_csv(\"https://raw.githubusercontent.com/Marrelli-Leandro/recursos-analisis-datos/main/14_Datasets_Originales/ecommerce_order_payments_dataset.csv\")"
   ]
  },
  {
   "cell_type": "markdown",
   "id": "8bf26093-f659-4436-8f9f-799a8c4d5483",
   "metadata": {
    "jp-MarkdownHeadingCollapsed": true,
    "tags": []
   },
   "source": [
    "### VISUALIZACIÓN"
   ]
  },
  {
   "cell_type": "markdown",
   "id": "16ba7347-be8a-49a7-965e-83f997e40a44",
   "metadata": {},
   "source": [
    "REALIZAREMOS UNA VISUALIZACION DE LOS 5 DATAFRAME, CON EL FIN DE PODER OBSERVAR\n",
    "\n",
    "QUE TIPO DE DATOS ENCONTRAMOS EN CADA UNO DE ELL0S"
   ]
  },
  {
   "cell_type": "markdown",
   "id": "0f07945e-9319-45c9-a9b3-02ece404555a",
   "metadata": {
    "jp-MarkdownHeadingCollapsed": true,
    "tags": []
   },
   "source": [
    "#### DATAFRAME DF_CUSTOMERS"
   ]
  },
  {
   "cell_type": "code",
   "execution_count": 170,
   "id": "718b76d6-dabf-4817-afe2-b10b94f0b4e9",
   "metadata": {
    "tags": []
   },
   "outputs": [
    {
     "data": {
      "text/html": [
       "<div>\n",
       "<style scoped>\n",
       "    .dataframe tbody tr th:only-of-type {\n",
       "        vertical-align: middle;\n",
       "    }\n",
       "\n",
       "    .dataframe tbody tr th {\n",
       "        vertical-align: top;\n",
       "    }\n",
       "\n",
       "    .dataframe thead th {\n",
       "        text-align: right;\n",
       "    }\n",
       "</style>\n",
       "<table border=\"1\" class=\"dataframe\">\n",
       "  <thead>\n",
       "    <tr style=\"text-align: right;\">\n",
       "      <th></th>\n",
       "      <th>customer_id</th>\n",
       "      <th>customer_unique_id</th>\n",
       "      <th>customer_zip_code_prefix</th>\n",
       "      <th>customer_city</th>\n",
       "      <th>customer_state</th>\n",
       "    </tr>\n",
       "  </thead>\n",
       "  <tbody>\n",
       "    <tr>\n",
       "      <th>0</th>\n",
       "      <td>06b8999e2fba1a1fbc88172c00ba8bc7</td>\n",
       "      <td>861eff4711a542e4b93843c6dd7febb0</td>\n",
       "      <td>14409</td>\n",
       "      <td>franca</td>\n",
       "      <td>SP</td>\n",
       "    </tr>\n",
       "    <tr>\n",
       "      <th>1</th>\n",
       "      <td>18955e83d337fd6b2def6b18a428ac77</td>\n",
       "      <td>290c77bc529b7ac935b93aa66c333dc3</td>\n",
       "      <td>9790</td>\n",
       "      <td>sao bernardo do campo</td>\n",
       "      <td>SP</td>\n",
       "    </tr>\n",
       "    <tr>\n",
       "      <th>2</th>\n",
       "      <td>4e7b3e00288586ebd08712fdd0374a03</td>\n",
       "      <td>060e732b5b29e8181a18229c7b0b2b5e</td>\n",
       "      <td>1151</td>\n",
       "      <td>sao paulo</td>\n",
       "      <td>SP</td>\n",
       "    </tr>\n",
       "    <tr>\n",
       "      <th>3</th>\n",
       "      <td>b2b6027bc5c5109e529d4dc6358b12c3</td>\n",
       "      <td>259dac757896d24d7702b9acbbff3f3c</td>\n",
       "      <td>8775</td>\n",
       "      <td>mogi das cruzes</td>\n",
       "      <td>SP</td>\n",
       "    </tr>\n",
       "    <tr>\n",
       "      <th>4</th>\n",
       "      <td>4f2d8ab171c80ec8364f7c12e35b23ad</td>\n",
       "      <td>345ecd01c38d18a9036ed96c73b8d066</td>\n",
       "      <td>13056</td>\n",
       "      <td>campinas</td>\n",
       "      <td>SP</td>\n",
       "    </tr>\n",
       "  </tbody>\n",
       "</table>\n",
       "</div>"
      ],
      "text/plain": [
       "                        customer_id                customer_unique_id  \\\n",
       "0  06b8999e2fba1a1fbc88172c00ba8bc7  861eff4711a542e4b93843c6dd7febb0   \n",
       "1  18955e83d337fd6b2def6b18a428ac77  290c77bc529b7ac935b93aa66c333dc3   \n",
       "2  4e7b3e00288586ebd08712fdd0374a03  060e732b5b29e8181a18229c7b0b2b5e   \n",
       "3  b2b6027bc5c5109e529d4dc6358b12c3  259dac757896d24d7702b9acbbff3f3c   \n",
       "4  4f2d8ab171c80ec8364f7c12e35b23ad  345ecd01c38d18a9036ed96c73b8d066   \n",
       "\n",
       "   customer_zip_code_prefix          customer_city customer_state  \n",
       "0                     14409                 franca             SP  \n",
       "1                      9790  sao bernardo do campo             SP  \n",
       "2                      1151              sao paulo             SP  \n",
       "3                      8775        mogi das cruzes             SP  \n",
       "4                     13056               campinas             SP  "
      ]
     },
     "execution_count": 170,
     "metadata": {},
     "output_type": "execute_result"
    }
   ],
   "source": [
    "df_customers.head() # Visalizamos los primeros 5 registros del dataframe df_customers, con el fin de poder ver que campos contiene y tipos de datos"
   ]
  },
  {
   "cell_type": "code",
   "execution_count": 174,
   "id": "4818a9b5-e436-4c77-b5d1-21a2f3b0a36a",
   "metadata": {
    "tags": []
   },
   "outputs": [
    {
     "data": {
      "text/plain": [
       "(99441, 5)"
      ]
     },
     "execution_count": 174,
     "metadata": {},
     "output_type": "execute_result"
    }
   ],
   "source": [
    "df_customers.shape # Con shape lo que hacemos, es visualizar la estructura del dataframe, con el fin de ver cuantos registros y campos hay"
   ]
  },
  {
   "cell_type": "code",
   "execution_count": 176,
   "id": "74875096-8b39-415b-9bb5-c81294b4b56e",
   "metadata": {
    "tags": []
   },
   "outputs": [
    {
     "data": {
      "text/plain": [
       "customer_id                 object\n",
       "customer_unique_id          object\n",
       "customer_zip_code_prefix     int64\n",
       "customer_city               object\n",
       "customer_state              object\n",
       "dtype: object"
      ]
     },
     "execution_count": 176,
     "metadata": {},
     "output_type": "execute_result"
    }
   ],
   "source": [
    "df_customers.dtypes # Con dtypes, visualizamos el tipo de dato que encontramos en cada campo"
   ]
  },
  {
   "cell_type": "code",
   "execution_count": 178,
   "id": "30268f0f-26af-4944-a705-43f99fc364ce",
   "metadata": {
    "tags": []
   },
   "outputs": [
    {
     "data": {
      "text/plain": [
       "customer_id                 0\n",
       "customer_unique_id          0\n",
       "customer_zip_code_prefix    0\n",
       "customer_city               0\n",
       "customer_state              0\n",
       "dtype: int64"
      ]
     },
     "execution_count": 178,
     "metadata": {},
     "output_type": "execute_result"
    }
   ],
   "source": [
    "df_customers.isnull().sum() # con isnull.sum, realizamos un conteo de cantidad de valores nulos en cada campo"
   ]
  },
  {
   "cell_type": "code",
   "execution_count": 180,
   "id": "4b3decbc-9157-46d1-be13-bbe52ab4dade",
   "metadata": {
    "tags": []
   },
   "outputs": [
    {
     "data": {
      "text/plain": [
       "0"
      ]
     },
     "execution_count": 180,
     "metadata": {},
     "output_type": "execute_result"
    }
   ],
   "source": [
    "df_customers.duplicated().sum() # Con duplicated.sum, realizamos un conteo de valores duplicados"
   ]
  },
  {
   "cell_type": "markdown",
   "id": "35771c86-7ae3-460d-9580-ec8d5febb871",
   "metadata": {},
   "source": [
    "PODEMOS OBSERVAR EN EL DATAFRAME DF_CUSTOMERS, QUE PRESETA 5 CAMPOS Y 99441 REGISTROS\n",
    "\n",
    "TENEMOS CAMPOS DE TIPO OBJETO Y DE TIPO ENTERO, LOS CUALES MAS ADELANTE SERA ESTUDIADO\n",
    "\n",
    "SI ES NECESARIO ESTABLECER UN NUEVO TIPO DE VARIABLE\n",
    "\n",
    "POR ULTIMO PODES INFORMAR QUE NO PRESENTA DATOS NULOS, POR LO CUAL NO SERA NECESARIO TRATAR DICHO TEMA Y TAMPOCO CONTIENE REGISTROS DUPLICADOS"
   ]
  },
  {
   "cell_type": "markdown",
   "id": "a6a7f871-10fd-4b8e-a48c-dbe1c3a6cbbb",
   "metadata": {
    "jp-MarkdownHeadingCollapsed": true,
    "tags": []
   },
   "source": [
    "#### DATAFRAME DF_ORDERS"
   ]
  },
  {
   "cell_type": "code",
   "execution_count": 183,
   "id": "86136830-c4f9-4d3a-9082-6ea8f5a5fc43",
   "metadata": {
    "tags": []
   },
   "outputs": [
    {
     "data": {
      "text/html": [
       "<div>\n",
       "<style scoped>\n",
       "    .dataframe tbody tr th:only-of-type {\n",
       "        vertical-align: middle;\n",
       "    }\n",
       "\n",
       "    .dataframe tbody tr th {\n",
       "        vertical-align: top;\n",
       "    }\n",
       "\n",
       "    .dataframe thead th {\n",
       "        text-align: right;\n",
       "    }\n",
       "</style>\n",
       "<table border=\"1\" class=\"dataframe\">\n",
       "  <thead>\n",
       "    <tr style=\"text-align: right;\">\n",
       "      <th></th>\n",
       "      <th>order_id</th>\n",
       "      <th>customer_id</th>\n",
       "      <th>order_status</th>\n",
       "      <th>order_purchase_timestamp</th>\n",
       "      <th>order_approved_at</th>\n",
       "      <th>order_delivered_carrier_date</th>\n",
       "      <th>order_delivered_customer_date</th>\n",
       "      <th>order_estimated_delivery_date</th>\n",
       "    </tr>\n",
       "  </thead>\n",
       "  <tbody>\n",
       "    <tr>\n",
       "      <th>0</th>\n",
       "      <td>e481f51cbdc54678b7cc49136f2d6af7</td>\n",
       "      <td>9ef432eb6251297304e76186b10a928d</td>\n",
       "      <td>delivered</td>\n",
       "      <td>2017-10-02 10:56:33</td>\n",
       "      <td>2017-10-02 11:07:15</td>\n",
       "      <td>2017-10-04 19:55:00</td>\n",
       "      <td>2017-10-10 21:25:13</td>\n",
       "      <td>2017-10-18 00:00:00</td>\n",
       "    </tr>\n",
       "    <tr>\n",
       "      <th>1</th>\n",
       "      <td>53cdb2fc8bc7dce0b6741e2150273451</td>\n",
       "      <td>b0830fb4747a6c6d20dea0b8c802d7ef</td>\n",
       "      <td>delivered</td>\n",
       "      <td>2018-07-24 20:41:37</td>\n",
       "      <td>2018-07-26 03:24:27</td>\n",
       "      <td>2018-07-26 14:31:00</td>\n",
       "      <td>2018-08-07 15:27:45</td>\n",
       "      <td>2018-08-13 00:00:00</td>\n",
       "    </tr>\n",
       "    <tr>\n",
       "      <th>2</th>\n",
       "      <td>47770eb9100c2d0c44946d9cf07ec65d</td>\n",
       "      <td>41ce2a54c0b03bf3443c3d931a367089</td>\n",
       "      <td>delivered</td>\n",
       "      <td>2018-08-08 08:38:49</td>\n",
       "      <td>2018-08-08 08:55:23</td>\n",
       "      <td>2018-08-08 13:50:00</td>\n",
       "      <td>2018-08-17 18:06:29</td>\n",
       "      <td>2018-09-04 00:00:00</td>\n",
       "    </tr>\n",
       "    <tr>\n",
       "      <th>3</th>\n",
       "      <td>949d5b44dbf5de918fe9c16f97b45f8a</td>\n",
       "      <td>f88197465ea7920adcdbec7375364d82</td>\n",
       "      <td>delivered</td>\n",
       "      <td>2017-11-18 19:28:06</td>\n",
       "      <td>2017-11-18 19:45:59</td>\n",
       "      <td>2017-11-22 13:39:59</td>\n",
       "      <td>2017-12-02 00:28:42</td>\n",
       "      <td>2017-12-15 00:00:00</td>\n",
       "    </tr>\n",
       "    <tr>\n",
       "      <th>4</th>\n",
       "      <td>ad21c59c0840e6cb83a9ceb5573f8159</td>\n",
       "      <td>8ab97904e6daea8866dbdbc4fb7aad2c</td>\n",
       "      <td>delivered</td>\n",
       "      <td>2018-02-13 21:18:39</td>\n",
       "      <td>2018-02-13 22:20:29</td>\n",
       "      <td>2018-02-14 19:46:34</td>\n",
       "      <td>2018-02-16 18:17:02</td>\n",
       "      <td>2018-02-26 00:00:00</td>\n",
       "    </tr>\n",
       "  </tbody>\n",
       "</table>\n",
       "</div>"
      ],
      "text/plain": [
       "                           order_id                       customer_id  \\\n",
       "0  e481f51cbdc54678b7cc49136f2d6af7  9ef432eb6251297304e76186b10a928d   \n",
       "1  53cdb2fc8bc7dce0b6741e2150273451  b0830fb4747a6c6d20dea0b8c802d7ef   \n",
       "2  47770eb9100c2d0c44946d9cf07ec65d  41ce2a54c0b03bf3443c3d931a367089   \n",
       "3  949d5b44dbf5de918fe9c16f97b45f8a  f88197465ea7920adcdbec7375364d82   \n",
       "4  ad21c59c0840e6cb83a9ceb5573f8159  8ab97904e6daea8866dbdbc4fb7aad2c   \n",
       "\n",
       "  order_status order_purchase_timestamp    order_approved_at  \\\n",
       "0    delivered      2017-10-02 10:56:33  2017-10-02 11:07:15   \n",
       "1    delivered      2018-07-24 20:41:37  2018-07-26 03:24:27   \n",
       "2    delivered      2018-08-08 08:38:49  2018-08-08 08:55:23   \n",
       "3    delivered      2017-11-18 19:28:06  2017-11-18 19:45:59   \n",
       "4    delivered      2018-02-13 21:18:39  2018-02-13 22:20:29   \n",
       "\n",
       "  order_delivered_carrier_date order_delivered_customer_date  \\\n",
       "0          2017-10-04 19:55:00           2017-10-10 21:25:13   \n",
       "1          2018-07-26 14:31:00           2018-08-07 15:27:45   \n",
       "2          2018-08-08 13:50:00           2018-08-17 18:06:29   \n",
       "3          2017-11-22 13:39:59           2017-12-02 00:28:42   \n",
       "4          2018-02-14 19:46:34           2018-02-16 18:17:02   \n",
       "\n",
       "  order_estimated_delivery_date  \n",
       "0           2017-10-18 00:00:00  \n",
       "1           2018-08-13 00:00:00  \n",
       "2           2018-09-04 00:00:00  \n",
       "3           2017-12-15 00:00:00  \n",
       "4           2018-02-26 00:00:00  "
      ]
     },
     "execution_count": 183,
     "metadata": {},
     "output_type": "execute_result"
    }
   ],
   "source": [
    "df_orders.head() # visualizamos los primero 5 registros del dataframe df_orders, con el fin de ver que campos y tipo de datos hay"
   ]
  },
  {
   "cell_type": "code",
   "execution_count": 185,
   "id": "7ecff5a8-21c1-4a61-8080-35a2754d1065",
   "metadata": {
    "tags": []
   },
   "outputs": [
    {
     "data": {
      "text/plain": [
       "(99441, 8)"
      ]
     },
     "execution_count": 185,
     "metadata": {},
     "output_type": "execute_result"
    }
   ],
   "source": [
    "df_orders.shape # con shape vemos la estructura del dataframe, pasa saber cuantos registros y campos hay"
   ]
  },
  {
   "cell_type": "code",
   "execution_count": 187,
   "id": "c5aa3128-2852-413f-b461-eba2450cca16",
   "metadata": {
    "tags": []
   },
   "outputs": [
    {
     "data": {
      "text/plain": [
       "order_id                         object\n",
       "customer_id                      object\n",
       "order_status                     object\n",
       "order_purchase_timestamp         object\n",
       "order_approved_at                object\n",
       "order_delivered_carrier_date     object\n",
       "order_delivered_customer_date    object\n",
       "order_estimated_delivery_date    object\n",
       "dtype: object"
      ]
     },
     "execution_count": 187,
     "metadata": {},
     "output_type": "execute_result"
    }
   ],
   "source": [
    "df_orders.dtypes # con dtype vemos que tipos de datos tenemos en los campos del dataframe"
   ]
  },
  {
   "cell_type": "code",
   "execution_count": 189,
   "id": "ac916159-7418-4d8a-9181-a5b39564d882",
   "metadata": {
    "tags": []
   },
   "outputs": [
    {
     "data": {
      "text/plain": [
       "order_id                            0\n",
       "customer_id                         0\n",
       "order_status                        0\n",
       "order_purchase_timestamp            0\n",
       "order_approved_at                 160\n",
       "order_delivered_carrier_date     1783\n",
       "order_delivered_customer_date    2965\n",
       "order_estimated_delivery_date       0\n",
       "dtype: int64"
      ]
     },
     "execution_count": 189,
     "metadata": {},
     "output_type": "execute_result"
    }
   ],
   "source": [
    "df_orders.isnull().sum() # con isnull.sum podemos ver la cantidad de valores nulos por cada campo"
   ]
  },
  {
   "cell_type": "code",
   "execution_count": 191,
   "id": "d91c3758-8a29-4ad0-a19b-00271fea404d",
   "metadata": {
    "tags": []
   },
   "outputs": [
    {
     "data": {
      "text/plain": [
       "0"
      ]
     },
     "execution_count": 191,
     "metadata": {},
     "output_type": "execute_result"
    }
   ],
   "source": [
    "df_orders.duplicated().sum() # Con duplicated.sum podemos visualizar cuantos calores duplicados hay"
   ]
  },
  {
   "cell_type": "markdown",
   "id": "6a00de23-4749-416d-a5fc-42b66be38a7d",
   "metadata": {},
   "source": [
    "PODEMOS OBSERVAR EN EL DATAFRAME DF_ORDERS, QUE PRESETA 8 CAMPOS Y 99441 REGISTROS\n",
    "\n",
    "TENEMOS TODOS LOS CAMPOS DE TIPO OBJETO, PERO SE OBSERVAN REGISTOS DE FECHAS, POR LO QUE SERA NECESARIO\n",
    "\n",
    "PASARLOS A TIPO DATE. TAMBIEN SERA ESTUDIADO SI ES NECESARIO ESTABLECER UN NUEVO TIPO DE VARIABLE PARA LOS CAMPOS RESTANTES\n",
    "\n",
    "POR ULTIMO PODEMOS INFORMAR QUE PRESENTA REGISTROS NULOS, EN TRES CAMPOS, LOS CUAL DEBERÁ SER TRATADO MAS ADELANTE, EVALUANDO CUAL ES LA ACCIÓN\n",
    "\n",
    "MAS CONVENIENTE PARA ESTE CASO Y TAMBIÉN PODEMOS DECIR QUE NO PRESENTA DUPLICADOS"
   ]
  },
  {
   "cell_type": "markdown",
   "id": "bd4cc2d0-3e24-45d2-aada-356b7bbfaf32",
   "metadata": {
    "jp-MarkdownHeadingCollapsed": true,
    "tags": []
   },
   "source": [
    "#### DATAFRAME DF_ORDER_ITEMS"
   ]
  },
  {
   "cell_type": "code",
   "execution_count": 194,
   "id": "eae41177-c801-4855-8862-b1121d1afa6b",
   "metadata": {
    "tags": []
   },
   "outputs": [
    {
     "data": {
      "text/html": [
       "<div>\n",
       "<style scoped>\n",
       "    .dataframe tbody tr th:only-of-type {\n",
       "        vertical-align: middle;\n",
       "    }\n",
       "\n",
       "    .dataframe tbody tr th {\n",
       "        vertical-align: top;\n",
       "    }\n",
       "\n",
       "    .dataframe thead th {\n",
       "        text-align: right;\n",
       "    }\n",
       "</style>\n",
       "<table border=\"1\" class=\"dataframe\">\n",
       "  <thead>\n",
       "    <tr style=\"text-align: right;\">\n",
       "      <th></th>\n",
       "      <th>order_id</th>\n",
       "      <th>order_item_id</th>\n",
       "      <th>product_id</th>\n",
       "      <th>seller_id</th>\n",
       "      <th>shipping_limit_date</th>\n",
       "      <th>price</th>\n",
       "      <th>freight_value</th>\n",
       "    </tr>\n",
       "  </thead>\n",
       "  <tbody>\n",
       "    <tr>\n",
       "      <th>0</th>\n",
       "      <td>00010242fe8c5a6d1ba2dd792cb16214</td>\n",
       "      <td>1</td>\n",
       "      <td>4244733e06e7ecb4970a6e2683c13e61</td>\n",
       "      <td>48436dade18ac8b2bce089ec2a041202</td>\n",
       "      <td>2017-09-19 09:45:35</td>\n",
       "      <td>58.90</td>\n",
       "      <td>13.29</td>\n",
       "    </tr>\n",
       "    <tr>\n",
       "      <th>1</th>\n",
       "      <td>00018f77f2f0320c557190d7a144bdd3</td>\n",
       "      <td>1</td>\n",
       "      <td>e5f2d52b802189ee658865ca93d83a8f</td>\n",
       "      <td>dd7ddc04e1b6c2c614352b383efe2d36</td>\n",
       "      <td>2017-05-03 11:05:13</td>\n",
       "      <td>239.90</td>\n",
       "      <td>19.93</td>\n",
       "    </tr>\n",
       "    <tr>\n",
       "      <th>2</th>\n",
       "      <td>000229ec398224ef6ca0657da4fc703e</td>\n",
       "      <td>1</td>\n",
       "      <td>c777355d18b72b67abbeef9df44fd0fd</td>\n",
       "      <td>5b51032eddd242adc84c38acab88f23d</td>\n",
       "      <td>2018-01-18 14:48:30</td>\n",
       "      <td>199.00</td>\n",
       "      <td>17.87</td>\n",
       "    </tr>\n",
       "    <tr>\n",
       "      <th>3</th>\n",
       "      <td>00024acbcdf0a6daa1e931b038114c75</td>\n",
       "      <td>1</td>\n",
       "      <td>7634da152a4610f1595efa32f14722fc</td>\n",
       "      <td>9d7a1d34a5052409006425275ba1c2b4</td>\n",
       "      <td>2018-08-15 10:10:18</td>\n",
       "      <td>12.99</td>\n",
       "      <td>12.79</td>\n",
       "    </tr>\n",
       "    <tr>\n",
       "      <th>4</th>\n",
       "      <td>00042b26cf59d7ce69dfabb4e55b4fd9</td>\n",
       "      <td>1</td>\n",
       "      <td>ac6c3623068f30de03045865e4e10089</td>\n",
       "      <td>df560393f3a51e74553ab94004ba5c87</td>\n",
       "      <td>2017-02-13 13:57:51</td>\n",
       "      <td>199.90</td>\n",
       "      <td>18.14</td>\n",
       "    </tr>\n",
       "  </tbody>\n",
       "</table>\n",
       "</div>"
      ],
      "text/plain": [
       "                           order_id  order_item_id  \\\n",
       "0  00010242fe8c5a6d1ba2dd792cb16214              1   \n",
       "1  00018f77f2f0320c557190d7a144bdd3              1   \n",
       "2  000229ec398224ef6ca0657da4fc703e              1   \n",
       "3  00024acbcdf0a6daa1e931b038114c75              1   \n",
       "4  00042b26cf59d7ce69dfabb4e55b4fd9              1   \n",
       "\n",
       "                         product_id                         seller_id  \\\n",
       "0  4244733e06e7ecb4970a6e2683c13e61  48436dade18ac8b2bce089ec2a041202   \n",
       "1  e5f2d52b802189ee658865ca93d83a8f  dd7ddc04e1b6c2c614352b383efe2d36   \n",
       "2  c777355d18b72b67abbeef9df44fd0fd  5b51032eddd242adc84c38acab88f23d   \n",
       "3  7634da152a4610f1595efa32f14722fc  9d7a1d34a5052409006425275ba1c2b4   \n",
       "4  ac6c3623068f30de03045865e4e10089  df560393f3a51e74553ab94004ba5c87   \n",
       "\n",
       "   shipping_limit_date   price  freight_value  \n",
       "0  2017-09-19 09:45:35   58.90          13.29  \n",
       "1  2017-05-03 11:05:13  239.90          19.93  \n",
       "2  2018-01-18 14:48:30  199.00          17.87  \n",
       "3  2018-08-15 10:10:18   12.99          12.79  \n",
       "4  2017-02-13 13:57:51  199.90          18.14  "
      ]
     },
     "execution_count": 194,
     "metadata": {},
     "output_type": "execute_result"
    }
   ],
   "source": [
    "df_order_items.head() # Visualizamos los primeros 5 registros del dataframe df_order_items, con el fin de poder ver que camposy datos tenemos"
   ]
  },
  {
   "cell_type": "code",
   "execution_count": 196,
   "id": "52bf2299-f811-4aac-bc01-a925c2b1e61c",
   "metadata": {
    "tags": []
   },
   "outputs": [
    {
     "data": {
      "text/plain": [
       "(112650, 7)"
      ]
     },
     "execution_count": 196,
     "metadata": {},
     "output_type": "execute_result"
    }
   ],
   "source": [
    "df_order_items.shape # Con shape estamos viendo la estructura del dataframe para saber cuando registros y campos hay"
   ]
  },
  {
   "cell_type": "code",
   "execution_count": 198,
   "id": "2e22b8f8-6528-49b8-b755-9b5cc24407a0",
   "metadata": {
    "tags": []
   },
   "outputs": [
    {
     "data": {
      "text/plain": [
       "order_id                object\n",
       "order_item_id            int64\n",
       "product_id              object\n",
       "seller_id               object\n",
       "shipping_limit_date     object\n",
       "price                  float64\n",
       "freight_value          float64\n",
       "dtype: object"
      ]
     },
     "execution_count": 198,
     "metadata": {},
     "output_type": "execute_result"
    }
   ],
   "source": [
    "df_order_items.dtypes # Con dtype estamos viendo que tipos de datos tenemos en el dataframe"
   ]
  },
  {
   "cell_type": "code",
   "execution_count": 200,
   "id": "ef52cfd2-547d-4859-a3b3-1fdf4b2caf03",
   "metadata": {
    "tags": []
   },
   "outputs": [
    {
     "data": {
      "text/plain": [
       "order_id               0\n",
       "order_item_id          0\n",
       "product_id             0\n",
       "seller_id              0\n",
       "shipping_limit_date    0\n",
       "price                  0\n",
       "freight_value          0\n",
       "dtype: int64"
      ]
     },
     "execution_count": 200,
     "metadata": {},
     "output_type": "execute_result"
    }
   ],
   "source": [
    "df_order_items.isnull().sum() # en esta linea estamos contando la cantidad de valores nuloes q tenemos en cada campo"
   ]
  },
  {
   "cell_type": "code",
   "execution_count": 202,
   "id": "2f9b36f2-5e6a-4048-8291-5c98f99c31da",
   "metadata": {
    "tags": []
   },
   "outputs": [
    {
     "data": {
      "text/plain": [
       "0"
      ]
     },
     "execution_count": 202,
     "metadata": {},
     "output_type": "execute_result"
    }
   ],
   "source": [
    "df_order_items.duplicated().sum() # En esta lonea estamos visualizando cuando duplicados existen"
   ]
  },
  {
   "cell_type": "markdown",
   "id": "c86dc63e-0256-43d2-82ad-add7446643fa",
   "metadata": {},
   "source": [
    "PODEMOS OBSERVAR EN EL DATAFRAME DF_ORDER_ITEMS, QUE PRESETA 7 CAMPOS Y 112650 REGISTROS\n",
    "\n",
    "TENEMOS CAMPOS DE TIPO OBJETO, DE TIPO ENTERO Y DE TIPO FLOAT, LOS CUALES MAS ADELANTE SERA ESTUDIADO\n",
    "\n",
    "SI ES NECESARIO ESTABLECER UN NUEVO TIPO DE VARIABLE. YA SE PUEDE DECIR QUE EL CAMPO QUE CONTIENE FECHAS, QUE ES DE TIPO OBJETO\n",
    "\n",
    "TENDRA QUE SER SETEADO A TIPO DATE\n",
    "\n",
    "POR ULTIMO PODEMOS INFORMAR QUE NO PRESENTA REGISTROS NULOS Y TAMPOCO TIENE DUPLICADOS"
   ]
  },
  {
   "cell_type": "markdown",
   "id": "f2fe3f50-ef29-4055-9ae2-bb2cd1547d21",
   "metadata": {
    "jp-MarkdownHeadingCollapsed": true,
    "tags": []
   },
   "source": [
    "#### DATAFRAME DF_PRODUCTS"
   ]
  },
  {
   "cell_type": "code",
   "execution_count": 205,
   "id": "82f7af3e-2239-489e-9a96-204c042d085e",
   "metadata": {
    "tags": []
   },
   "outputs": [
    {
     "data": {
      "text/html": [
       "<div>\n",
       "<style scoped>\n",
       "    .dataframe tbody tr th:only-of-type {\n",
       "        vertical-align: middle;\n",
       "    }\n",
       "\n",
       "    .dataframe tbody tr th {\n",
       "        vertical-align: top;\n",
       "    }\n",
       "\n",
       "    .dataframe thead th {\n",
       "        text-align: right;\n",
       "    }\n",
       "</style>\n",
       "<table border=\"1\" class=\"dataframe\">\n",
       "  <thead>\n",
       "    <tr style=\"text-align: right;\">\n",
       "      <th></th>\n",
       "      <th>product_id</th>\n",
       "      <th>product_category_name</th>\n",
       "      <th>product_name_lenght</th>\n",
       "      <th>product_description_lenght</th>\n",
       "      <th>product_photos_qty</th>\n",
       "      <th>product_weight_g</th>\n",
       "      <th>product_length_cm</th>\n",
       "      <th>product_height_cm</th>\n",
       "      <th>product_width_cm</th>\n",
       "    </tr>\n",
       "  </thead>\n",
       "  <tbody>\n",
       "    <tr>\n",
       "      <th>0</th>\n",
       "      <td>1e9e8ef04dbcff4541ed26657ea517e5</td>\n",
       "      <td>perfumaria</td>\n",
       "      <td>40.0</td>\n",
       "      <td>287.0</td>\n",
       "      <td>1.0</td>\n",
       "      <td>225.0</td>\n",
       "      <td>16.0</td>\n",
       "      <td>10.0</td>\n",
       "      <td>14.0</td>\n",
       "    </tr>\n",
       "    <tr>\n",
       "      <th>1</th>\n",
       "      <td>3aa071139cb16b67ca9e5dea641aaa2f</td>\n",
       "      <td>artes</td>\n",
       "      <td>44.0</td>\n",
       "      <td>276.0</td>\n",
       "      <td>1.0</td>\n",
       "      <td>1000.0</td>\n",
       "      <td>30.0</td>\n",
       "      <td>18.0</td>\n",
       "      <td>20.0</td>\n",
       "    </tr>\n",
       "    <tr>\n",
       "      <th>2</th>\n",
       "      <td>96bd76ec8810374ed1b65e291975717f</td>\n",
       "      <td>esporte_lazer</td>\n",
       "      <td>46.0</td>\n",
       "      <td>250.0</td>\n",
       "      <td>1.0</td>\n",
       "      <td>154.0</td>\n",
       "      <td>18.0</td>\n",
       "      <td>9.0</td>\n",
       "      <td>15.0</td>\n",
       "    </tr>\n",
       "    <tr>\n",
       "      <th>3</th>\n",
       "      <td>cef67bcfe19066a932b7673e239eb23d</td>\n",
       "      <td>bebes</td>\n",
       "      <td>27.0</td>\n",
       "      <td>261.0</td>\n",
       "      <td>1.0</td>\n",
       "      <td>371.0</td>\n",
       "      <td>26.0</td>\n",
       "      <td>4.0</td>\n",
       "      <td>26.0</td>\n",
       "    </tr>\n",
       "    <tr>\n",
       "      <th>4</th>\n",
       "      <td>9dc1a7de274444849c219cff195d0b71</td>\n",
       "      <td>utilidades_domesticas</td>\n",
       "      <td>37.0</td>\n",
       "      <td>402.0</td>\n",
       "      <td>4.0</td>\n",
       "      <td>625.0</td>\n",
       "      <td>20.0</td>\n",
       "      <td>17.0</td>\n",
       "      <td>13.0</td>\n",
       "    </tr>\n",
       "  </tbody>\n",
       "</table>\n",
       "</div>"
      ],
      "text/plain": [
       "                         product_id  product_category_name  \\\n",
       "0  1e9e8ef04dbcff4541ed26657ea517e5             perfumaria   \n",
       "1  3aa071139cb16b67ca9e5dea641aaa2f                  artes   \n",
       "2  96bd76ec8810374ed1b65e291975717f          esporte_lazer   \n",
       "3  cef67bcfe19066a932b7673e239eb23d                  bebes   \n",
       "4  9dc1a7de274444849c219cff195d0b71  utilidades_domesticas   \n",
       "\n",
       "   product_name_lenght  product_description_lenght  product_photos_qty  \\\n",
       "0                 40.0                       287.0                 1.0   \n",
       "1                 44.0                       276.0                 1.0   \n",
       "2                 46.0                       250.0                 1.0   \n",
       "3                 27.0                       261.0                 1.0   \n",
       "4                 37.0                       402.0                 4.0   \n",
       "\n",
       "   product_weight_g  product_length_cm  product_height_cm  product_width_cm  \n",
       "0             225.0               16.0               10.0              14.0  \n",
       "1            1000.0               30.0               18.0              20.0  \n",
       "2             154.0               18.0                9.0              15.0  \n",
       "3             371.0               26.0                4.0              26.0  \n",
       "4             625.0               20.0               17.0              13.0  "
      ]
     },
     "execution_count": 205,
     "metadata": {},
     "output_type": "execute_result"
    }
   ],
   "source": [
    "df_products.head() # Con head visualizamos los primeros 5 registros para poder ver que campos y q variables nos encontrmos"
   ]
  },
  {
   "cell_type": "code",
   "execution_count": 207,
   "id": "3ad3238b-8deb-4662-b0eb-916c2f2e8b46",
   "metadata": {
    "tags": []
   },
   "outputs": [
    {
     "data": {
      "text/plain": [
       "(32951, 9)"
      ]
     },
     "execution_count": 207,
     "metadata": {},
     "output_type": "execute_result"
    }
   ],
   "source": [
    "df_products.shape # en esta linea buscamos visualizar cual es la estructura del dataframe, para saber cuantos campos y regustros existen"
   ]
  },
  {
   "cell_type": "code",
   "execution_count": 209,
   "id": "0ffadb5f-ccad-404a-88b0-7d02e9cc66a3",
   "metadata": {
    "tags": []
   },
   "outputs": [
    {
     "data": {
      "text/plain": [
       "product_id                     object\n",
       "product_category_name          object\n",
       "product_name_lenght           float64\n",
       "product_description_lenght    float64\n",
       "product_photos_qty            float64\n",
       "product_weight_g              float64\n",
       "product_length_cm             float64\n",
       "product_height_cm             float64\n",
       "product_width_cm              float64\n",
       "dtype: object"
      ]
     },
     "execution_count": 209,
     "metadata": {},
     "output_type": "execute_result"
    }
   ],
   "source": [
    "df_products.dtypes # con dtypes buscamos saber que tipo de variables existen en cada campo"
   ]
  },
  {
   "cell_type": "code",
   "execution_count": 211,
   "id": "d8096c5a-81d1-4ddb-b6d3-1df3eb03f897",
   "metadata": {
    "tags": []
   },
   "outputs": [
    {
     "data": {
      "text/plain": [
       "product_id                      0\n",
       "product_category_name         610\n",
       "product_name_lenght           610\n",
       "product_description_lenght    610\n",
       "product_photos_qty            610\n",
       "product_weight_g                2\n",
       "product_length_cm               2\n",
       "product_height_cm               2\n",
       "product_width_cm                2\n",
       "dtype: int64"
      ]
     },
     "execution_count": 211,
     "metadata": {},
     "output_type": "execute_result"
    }
   ],
   "source": [
    "df_products.isnull().sum() # visualizamos la cantidad de valores nulos en cada campo"
   ]
  },
  {
   "cell_type": "code",
   "execution_count": 213,
   "id": "99cd797c-3f04-4b70-8973-0a78a86b6a6d",
   "metadata": {
    "tags": []
   },
   "outputs": [
    {
     "data": {
      "text/plain": [
       "0"
      ]
     },
     "execution_count": 213,
     "metadata": {},
     "output_type": "execute_result"
    }
   ],
   "source": [
    "df_products.duplicated().sum() # de esta manera contamos la cantidad de duplicados"
   ]
  },
  {
   "cell_type": "markdown",
   "id": "cbeb76df-c541-48ab-8467-690744d75f6c",
   "metadata": {
    "tags": []
   },
   "source": [
    "PODEMOS OBSERVAR EN EL DATAFRAME DF_PRODUCTS, QUE PRESENTA 9 CAMPOS Y 32951 REGISTROS\n",
    "\n",
    "TENEMOS CAMPOS DE TIPO OBJETO Y DE TIPO FLOAT, LOS CUALES MAS ADELANTE SERAN ESTUDIADO\n",
    "\n",
    "SI ES NECESARIO ESTABLECER UN NUEVO TIPO DE VARIABLE\n",
    "\n",
    "POR ULTIMO PODEMOS VER QUE EL DATAFRAME PRESENTA REGISTROS NULOS EN TODOS SUS CAMPOS, MENOS EN UNO, LO CUAL SERA TRATADO MAS ADELANTE,\n",
    "\n",
    "APLICANDO EL METODO MAS CONVENIENTE PARA ESTE CASO Y TAMBIEN PODEMOS INFORMA QUE NO PRESENTA DUPLICADOS"
   ]
  },
  {
   "cell_type": "markdown",
   "id": "1a305ee5-488d-4791-9e15-9902f852781a",
   "metadata": {
    "jp-MarkdownHeadingCollapsed": true,
    "tags": []
   },
   "source": [
    "#### DATAFRAME DF_ORDER_PAYMENTS"
   ]
  },
  {
   "cell_type": "code",
   "execution_count": 216,
   "id": "6f866ce5-be84-42af-a965-c1b899213a2c",
   "metadata": {
    "tags": []
   },
   "outputs": [
    {
     "data": {
      "text/html": [
       "<div>\n",
       "<style scoped>\n",
       "    .dataframe tbody tr th:only-of-type {\n",
       "        vertical-align: middle;\n",
       "    }\n",
       "\n",
       "    .dataframe tbody tr th {\n",
       "        vertical-align: top;\n",
       "    }\n",
       "\n",
       "    .dataframe thead th {\n",
       "        text-align: right;\n",
       "    }\n",
       "</style>\n",
       "<table border=\"1\" class=\"dataframe\">\n",
       "  <thead>\n",
       "    <tr style=\"text-align: right;\">\n",
       "      <th></th>\n",
       "      <th>order_id</th>\n",
       "      <th>payment_sequential</th>\n",
       "      <th>payment_type</th>\n",
       "      <th>payment_installments</th>\n",
       "      <th>payment_value</th>\n",
       "    </tr>\n",
       "  </thead>\n",
       "  <tbody>\n",
       "    <tr>\n",
       "      <th>0</th>\n",
       "      <td>b81ef226f3fe1789b1e8b2acac839d17</td>\n",
       "      <td>1</td>\n",
       "      <td>credit_card</td>\n",
       "      <td>8</td>\n",
       "      <td>99.33</td>\n",
       "    </tr>\n",
       "    <tr>\n",
       "      <th>1</th>\n",
       "      <td>a9810da82917af2d9aefd1278f1dcfa0</td>\n",
       "      <td>1</td>\n",
       "      <td>credit_card</td>\n",
       "      <td>1</td>\n",
       "      <td>24.39</td>\n",
       "    </tr>\n",
       "    <tr>\n",
       "      <th>2</th>\n",
       "      <td>25e8ea4e93396b6fa0d3dd708e76c1bd</td>\n",
       "      <td>1</td>\n",
       "      <td>credit_card</td>\n",
       "      <td>1</td>\n",
       "      <td>65.71</td>\n",
       "    </tr>\n",
       "    <tr>\n",
       "      <th>3</th>\n",
       "      <td>ba78997921bbcdc1373bb41e913ab953</td>\n",
       "      <td>1</td>\n",
       "      <td>credit_card</td>\n",
       "      <td>8</td>\n",
       "      <td>107.78</td>\n",
       "    </tr>\n",
       "    <tr>\n",
       "      <th>4</th>\n",
       "      <td>42fdf880ba16b47b59251dd489d4441a</td>\n",
       "      <td>1</td>\n",
       "      <td>credit_card</td>\n",
       "      <td>2</td>\n",
       "      <td>128.45</td>\n",
       "    </tr>\n",
       "  </tbody>\n",
       "</table>\n",
       "</div>"
      ],
      "text/plain": [
       "                           order_id  payment_sequential payment_type  \\\n",
       "0  b81ef226f3fe1789b1e8b2acac839d17                   1  credit_card   \n",
       "1  a9810da82917af2d9aefd1278f1dcfa0                   1  credit_card   \n",
       "2  25e8ea4e93396b6fa0d3dd708e76c1bd                   1  credit_card   \n",
       "3  ba78997921bbcdc1373bb41e913ab953                   1  credit_card   \n",
       "4  42fdf880ba16b47b59251dd489d4441a                   1  credit_card   \n",
       "\n",
       "   payment_installments  payment_value  \n",
       "0                     8          99.33  \n",
       "1                     1          24.39  \n",
       "2                     1          65.71  \n",
       "3                     8         107.78  \n",
       "4                     2         128.45  "
      ]
     },
     "execution_count": 216,
     "metadata": {},
     "output_type": "execute_result"
    }
   ],
   "source": [
    "df_order_payments.head() # En esta linea buscamos visualizar los primeros 5 registros, con el fin de ver los campos y q variables existen"
   ]
  },
  {
   "cell_type": "code",
   "execution_count": 218,
   "id": "70f2bd7e-101e-42e6-a490-a99b5a95f935",
   "metadata": {
    "tags": []
   },
   "outputs": [
    {
     "data": {
      "text/plain": [
       "(103886, 5)"
      ]
     },
     "execution_count": 218,
     "metadata": {},
     "output_type": "execute_result"
    }
   ],
   "source": [
    "df_order_payments.shape # En esta linea se consulta cual es la estructura del dataframe, con el fin de ver la cantidad de campos y registros"
   ]
  },
  {
   "cell_type": "code",
   "execution_count": 220,
   "id": "4a698f78-79b5-42dc-84c9-abe5d8797ec5",
   "metadata": {
    "tags": []
   },
   "outputs": [
    {
     "data": {
      "text/plain": [
       "order_id                 object\n",
       "payment_sequential        int64\n",
       "payment_type             object\n",
       "payment_installments      int64\n",
       "payment_value           float64\n",
       "dtype: object"
      ]
     },
     "execution_count": 220,
     "metadata": {},
     "output_type": "execute_result"
    }
   ],
   "source": [
    "df_order_payments.dtypes # con dtypes consultamos el tipo de variable que existe en cada campo"
   ]
  },
  {
   "cell_type": "code",
   "execution_count": 222,
   "id": "77907b59-0e72-4555-8f9e-8ee813fde3c6",
   "metadata": {
    "tags": []
   },
   "outputs": [
    {
     "data": {
      "text/plain": [
       "order_id                0\n",
       "payment_sequential      0\n",
       "payment_type            0\n",
       "payment_installments    0\n",
       "payment_value           0\n",
       "dtype: int64"
      ]
     },
     "execution_count": 222,
     "metadata": {},
     "output_type": "execute_result"
    }
   ],
   "source": [
    "df_order_payments.isnull().sum() # aca estamos contando la cantidad de valores nulos que existen en cada campo"
   ]
  },
  {
   "cell_type": "code",
   "execution_count": 224,
   "id": "40c3b7c8-bfa1-4454-81a1-f293938ded85",
   "metadata": {
    "tags": []
   },
   "outputs": [
    {
     "data": {
      "text/plain": [
       "0"
      ]
     },
     "execution_count": 224,
     "metadata": {},
     "output_type": "execute_result"
    }
   ],
   "source": [
    "df_order_payments.duplicated().sum() # con esta linea contamos la cantidad de duplicados"
   ]
  },
  {
   "cell_type": "markdown",
   "id": "2fd16db0-08e3-4984-9f6a-2a6325c9772a",
   "metadata": {
    "tags": []
   },
   "source": [
    "PODEMOS OBSERVAR EN EL DATAFRAME DF_ORDER_PAYMENTS, QUE PRENSETA 5 CAMPOS Y 103886 REGISTROS\n",
    "\n",
    "TENEMOS CAMPOS DE TIPO OBJETO, DE TIPO ENTERO Y TIPO FLOAT, LOS CUALES MAS ADELANTE SERA ESTUDIADO\n",
    "\n",
    "SI ES NECESARIO ESTABLECER UN NUEVO TIPO DE VARIABLE\n",
    "\n",
    "POR ULTIMO PODEMOS INFORMAR QUE NO SE PRESENTAN REGISTROS NULOS Y TAMPOCO DUPLICADOS."
   ]
  },
  {
   "cell_type": "markdown",
   "id": "ee3fb09e-37ac-4b81-a379-99f68017d4e7",
   "metadata": {
    "tags": []
   },
   "source": [
    "## TRANSFORMACIÓN"
   ]
  },
  {
   "cell_type": "markdown",
   "id": "a76ca6be-a72c-47d1-968a-257f1de6e221",
   "metadata": {
    "jp-MarkdownHeadingCollapsed": true,
    "tags": []
   },
   "source": [
    "###  DF_ORDERS"
   ]
  },
  {
   "cell_type": "markdown",
   "id": "79eb0a8c-508a-4919-9947-71e7e59b95d0",
   "metadata": {
    "tags": []
   },
   "source": [
    "#### ANALIZAMOS VALORES NULOS"
   ]
  },
  {
   "cell_type": "markdown",
   "id": "bf69ecf7-c46d-4981-a05a-bf05ef0377b6",
   "metadata": {},
   "source": [
    "PARA EL TRATAMIENTO DE LOS NULOS EN ESTE DATAFRAME, TENDREMOS EN CONCIDERACION QUE MANTENDREMOS AQUELAS COLUMNAS QUE NO SUPEREN\n",
    "\n",
    "UN 5% DE VALORES NULOS, EN EL TOTAL DE VALORES. UNA VEZ QUE TENGAMOS EL DATAFRAME NUEVO CON LAS COLUMNAS QUE COMPLAN CON DICHA\n",
    "\n",
    "CONDICION, SE PROCEDERÁ A REALIZAR LA ELIMINACION DE LOS REGISTROS QUE CONTENGAN VALORES NULOS."
   ]
  },
  {
   "cell_type": "code",
   "execution_count": 2,
   "id": "d5532816-240e-4a60-bdba-1c3b04a937b1",
   "metadata": {
    "tags": []
   },
   "outputs": [
    {
     "ename": "NameError",
     "evalue": "name 'df_orders' is not defined",
     "output_type": "error",
     "traceback": [
      "\u001b[1;31m---------------------------------------------------------------------------\u001b[0m",
      "\u001b[1;31mNameError\u001b[0m                                 Traceback (most recent call last)",
      "Cell \u001b[1;32mIn[2], line 3\u001b[0m\n\u001b[0;32m      1\u001b[0m \u001b[38;5;66;03m# En la linea siguiente lo que estamos haciendo es obtener de manera porcentual, respecto a la antidad total de registros, cual es el\u001b[39;00m\n\u001b[0;32m      2\u001b[0m \u001b[38;5;66;03m# porcentaje de valore nulos en cada campo.\u001b[39;00m\n\u001b[1;32m----> 3\u001b[0m porcentaje_nulos \u001b[38;5;241m=\u001b[39m (df_orders\u001b[38;5;241m.\u001b[39misnull()\u001b[38;5;241m.\u001b[39msum())\u001b[38;5;241m*\u001b[39m\u001b[38;5;241m100\u001b[39m\u001b[38;5;241m/\u001b[39m(\u001b[38;5;28mlen\u001b[39m(df_orders))\n\u001b[0;32m      4\u001b[0m porcentaje_nulos\n\u001b[0;32m      6\u001b[0m \u001b[38;5;66;03m# Podemos ver cuales son los porcentajes de nulosque existe en cada campo. En la linea siguiente vamos a filtrar por porcentaje, es decir\u001b[39;00m\n\u001b[0;32m      7\u001b[0m \u001b[38;5;66;03m# los camposque tengan un porcentaje de nulos menor a 5% seran campos considerados, si supera al 5%, esos campos no seran tenidos en cuenta.\u001b[39;00m\n\u001b[0;32m      8\u001b[0m \u001b[38;5;66;03m# Los campos se encuentran en el index, es por eso que estamos guardando en columnas, las columnas que complen con la condicion explicada.\u001b[39;00m\n",
      "\u001b[1;31mNameError\u001b[0m: name 'df_orders' is not defined"
     ]
    }
   ],
   "source": [
    "# En la linea siguiente lo que estamos haciendo es obtener de manera porcentual, respecto a la antidad total de registros, cual es el\n",
    "# porcentaje de valore nulos en cada campo.\n",
    "porcentaje_nulos = (df_orders.isnull().sum())*100/(len(df_orders))\n",
    "porcentaje_nulos\n",
    "\n",
    "# Podemos ver cuales son los porcentajes de nulosque existe en cada campo. En la linea siguiente vamos a filtrar por porcentaje, es decir\n",
    "# los camposque tengan un porcentaje de nulos menor a 5% seran campos considerados, si supera al 5%, esos campos no seran tenidos en cuenta.\n",
    "# Los campos se encuentran en el index, es por eso que estamos guardando en columnas, las columnas que complen con la condicion explicada.\n",
    "# Elcampo que complua con la condicion del 5% y contenga valores nulos, esos registros seran eliminados\n",
    "columnas = porcentaje_nulos[porcentaje_nulos  < 5].index\n",
    "df_orders = df_orders[columnas] # en esta linea estamos modificando el dataframe para que contenga las clumnas deseadas\n",
    "df_orders = df_orders.dropna() # en esta linea estamos eliminado los registros que contienen valores nulos."
   ]
  },
  {
   "cell_type": "markdown",
   "id": "51daae33-14bc-4f9a-80b9-3624a7b8950e",
   "metadata": {
    "tags": []
   },
   "source": [
    "#### CAMBIAMOS CAMPOS A TIPO DATATIME"
   ]
  },
  {
   "cell_type": "code",
   "execution_count": 275,
   "id": "16f09240-1160-400e-9bc0-db2c635c7091",
   "metadata": {
    "tags": []
   },
   "outputs": [],
   "source": [
    "# En esta celda vamos a convertir el tipo de datos de algunos campos a tipo datatime, para eso en la siguiente linea lo que hcemos es\n",
    "# crear una lista con los campos deseados.\n",
    "columnas = [\"order_purchase_timestamp\",\"order_approved_at\",\"order_delivered_carrier_date\",\"order_delivered_customer_date\",\"order_estimated_delivery_date\"]\n",
    "# en la siguiente linea llamamos a la funcon que se encarga de de realizar el cambio de tipo de variable, en la que le enviamos el dataframe que se quiere\n",
    "# modificar y tambien la lista con las columnas que deseamos modificar\n",
    "df_orders_mod = CambioTipoFecha(df_orders,columnas)"
   ]
  },
  {
   "cell_type": "markdown",
   "id": "d51e62d2-e729-46c2-a488-ec1269debe60",
   "metadata": {
    "tags": []
   },
   "source": [
    "#### CAMBIAMOS CAMPOS A TIPO STR"
   ]
  },
  {
   "cell_type": "code",
   "execution_count": 276,
   "id": "6f7ce4ec-545c-461a-ae74-8b3ec562afc9",
   "metadata": {
    "tags": []
   },
   "outputs": [],
   "source": [
    "# En esta celda lo que hacemos es llamar a la funcion que se encarga de realizar el cambio de tipo de dato a tipo str. Para eso en la siguiente linea\n",
    "# lo que hacemos es crear una lista con las columnas que deseamos realizar dicho cambio.\n",
    "columnas = [\"order_id\",\"customer_id\",\"order_status\"]\n",
    "# Una vez que se tenga la lista con los campos deseado, en la siguiente linea llamamos a la funcion y guardamos en df_orders_mod, el dataframe con los\n",
    "# cambios realizados por la funcion.\n",
    "df_orders_mod = CambioTipoStr(df_orders_mod,columnas)"
   ]
  },
  {
   "cell_type": "markdown",
   "id": "0fad19dd-703f-41c4-ac53-cc637dafb70d",
   "metadata": {
    "tags": []
   },
   "source": [
    "#### CAMBIO CAMPO A MINUSCULA"
   ]
  },
  {
   "cell_type": "code",
   "execution_count": 278,
   "id": "9ab8a5e6-f827-4464-882c-ea3b5dd7ff88",
   "metadata": {
    "tags": []
   },
   "outputs": [],
   "source": [
    "# En esta celda lo que se hace es llamar a la funcion que se encarga de hacer que todos los calores de un campo que contriene str, aparezcan\n",
    "# con minuscula. Para eso en la siguiente linea lo que se hace es crear una lista con los campos que deseamos que aparezcan en minuscula.\n",
    "columnas = [\"order_status\"]\n",
    "# Una vez que ya tenemos la lista con los campos, lo que hacemos es llamar a la funcion que se encarga de eso, donde se le envia el dataframe\n",
    "# y la lista con los campos que deseamos modificar.\n",
    "df_orders_mod = CambioMinuscula(df_orders_mod,columnas)"
   ]
  },
  {
   "cell_type": "code",
   "execution_count": 283,
   "id": "0a5d9c65-5c3f-45f1-8143-909c2cb27739",
   "metadata": {
    "tags": []
   },
   "outputs": [
    {
     "data": {
      "text/plain": [
       "order_id                         string[python]\n",
       "customer_id                      string[python]\n",
       "order_status                     string[python]\n",
       "order_purchase_timestamp         datetime64[ns]\n",
       "order_approved_at                datetime64[ns]\n",
       "order_delivered_carrier_date     datetime64[ns]\n",
       "order_delivered_customer_date    datetime64[ns]\n",
       "order_estimated_delivery_date    datetime64[ns]\n",
       "dtype: object"
      ]
     },
     "execution_count": 283,
     "metadata": {},
     "output_type": "execute_result"
    }
   ],
   "source": [
    "df_orders_mod.dtypes\n",
    "# con esta linea podemos visualizar cuales son los tipos de datos de los campos del dataframe que ya fue modificado,\n",
    "# donde podemos ver que ahora tenemos los campos con los tipos de variables deseados"
   ]
  },
  {
   "cell_type": "code",
   "execution_count": 237,
   "id": "aea1cbdc-2423-4662-bfab-07b9d070aaa0",
   "metadata": {
    "tags": []
   },
   "outputs": [
    {
     "data": {
      "text/plain": [
       "order_id                         0\n",
       "customer_id                      0\n",
       "order_status                     0\n",
       "order_purchase_timestamp         0\n",
       "order_approved_at                0\n",
       "order_delivered_carrier_date     0\n",
       "order_delivered_customer_date    0\n",
       "order_estimated_delivery_date    0\n",
       "dtype: int64"
      ]
     },
     "execution_count": 237,
     "metadata": {},
     "output_type": "execute_result"
    }
   ],
   "source": [
    "df_orders_mod.isnull().sum()\n",
    "# Con esta linea buscamos verificar que no existan mas valores nulos, y realmente es posible verificar que en eldataframe\n",
    "# ya no existen valores nulos, que es lo que se buscaba"
   ]
  },
  {
   "cell_type": "code",
   "execution_count": 239,
   "id": "bf5f71ed-4094-4f78-9613-e12cccb40596",
   "metadata": {
    "tags": []
   },
   "outputs": [
    {
     "data": {
      "text/plain": [
       "(96461, 8)"
      ]
     },
     "execution_count": 239,
     "metadata": {},
     "output_type": "execute_result"
    }
   ],
   "source": [
    "df_orders_mod.shape\n",
    "# De esta manera podemos ver que el dataframe sigue conservando la cantidad de campos, pero ya no contiene la misma cantidad de registros,\n",
    "# ya que se han eliminados varios registros."
   ]
  },
  {
   "cell_type": "code",
   "execution_count": 241,
   "id": "aa5e9d63-19d8-43cf-b756-63716c446a0f",
   "metadata": {
    "tags": []
   },
   "outputs": [
    {
     "data": {
      "text/html": [
       "<div>\n",
       "<style scoped>\n",
       "    .dataframe tbody tr th:only-of-type {\n",
       "        vertical-align: middle;\n",
       "    }\n",
       "\n",
       "    .dataframe tbody tr th {\n",
       "        vertical-align: top;\n",
       "    }\n",
       "\n",
       "    .dataframe thead th {\n",
       "        text-align: right;\n",
       "    }\n",
       "</style>\n",
       "<table border=\"1\" class=\"dataframe\">\n",
       "  <thead>\n",
       "    <tr style=\"text-align: right;\">\n",
       "      <th></th>\n",
       "      <th>order_id</th>\n",
       "      <th>customer_id</th>\n",
       "      <th>order_status</th>\n",
       "      <th>order_purchase_timestamp</th>\n",
       "      <th>order_approved_at</th>\n",
       "      <th>order_delivered_carrier_date</th>\n",
       "      <th>order_delivered_customer_date</th>\n",
       "      <th>order_estimated_delivery_date</th>\n",
       "    </tr>\n",
       "  </thead>\n",
       "  <tbody>\n",
       "    <tr>\n",
       "      <th>0</th>\n",
       "      <td>e481f51cbdc54678b7cc49136f2d6af7</td>\n",
       "      <td>9ef432eb6251297304e76186b10a928d</td>\n",
       "      <td>delivered</td>\n",
       "      <td>2017-10-02 10:56:33</td>\n",
       "      <td>2017-10-02 11:07:15</td>\n",
       "      <td>2017-10-04 19:55:00</td>\n",
       "      <td>2017-10-10 21:25:13</td>\n",
       "      <td>2017-10-18</td>\n",
       "    </tr>\n",
       "    <tr>\n",
       "      <th>1</th>\n",
       "      <td>53cdb2fc8bc7dce0b6741e2150273451</td>\n",
       "      <td>b0830fb4747a6c6d20dea0b8c802d7ef</td>\n",
       "      <td>delivered</td>\n",
       "      <td>2018-07-24 20:41:37</td>\n",
       "      <td>2018-07-26 03:24:27</td>\n",
       "      <td>2018-07-26 14:31:00</td>\n",
       "      <td>2018-08-07 15:27:45</td>\n",
       "      <td>2018-08-13</td>\n",
       "    </tr>\n",
       "    <tr>\n",
       "      <th>2</th>\n",
       "      <td>47770eb9100c2d0c44946d9cf07ec65d</td>\n",
       "      <td>41ce2a54c0b03bf3443c3d931a367089</td>\n",
       "      <td>delivered</td>\n",
       "      <td>2018-08-08 08:38:49</td>\n",
       "      <td>2018-08-08 08:55:23</td>\n",
       "      <td>2018-08-08 13:50:00</td>\n",
       "      <td>2018-08-17 18:06:29</td>\n",
       "      <td>2018-09-04</td>\n",
       "    </tr>\n",
       "    <tr>\n",
       "      <th>3</th>\n",
       "      <td>949d5b44dbf5de918fe9c16f97b45f8a</td>\n",
       "      <td>f88197465ea7920adcdbec7375364d82</td>\n",
       "      <td>delivered</td>\n",
       "      <td>2017-11-18 19:28:06</td>\n",
       "      <td>2017-11-18 19:45:59</td>\n",
       "      <td>2017-11-22 13:39:59</td>\n",
       "      <td>2017-12-02 00:28:42</td>\n",
       "      <td>2017-12-15</td>\n",
       "    </tr>\n",
       "    <tr>\n",
       "      <th>4</th>\n",
       "      <td>ad21c59c0840e6cb83a9ceb5573f8159</td>\n",
       "      <td>8ab97904e6daea8866dbdbc4fb7aad2c</td>\n",
       "      <td>delivered</td>\n",
       "      <td>2018-02-13 21:18:39</td>\n",
       "      <td>2018-02-13 22:20:29</td>\n",
       "      <td>2018-02-14 19:46:34</td>\n",
       "      <td>2018-02-16 18:17:02</td>\n",
       "      <td>2018-02-26</td>\n",
       "    </tr>\n",
       "  </tbody>\n",
       "</table>\n",
       "</div>"
      ],
      "text/plain": [
       "                           order_id                       customer_id  \\\n",
       "0  e481f51cbdc54678b7cc49136f2d6af7  9ef432eb6251297304e76186b10a928d   \n",
       "1  53cdb2fc8bc7dce0b6741e2150273451  b0830fb4747a6c6d20dea0b8c802d7ef   \n",
       "2  47770eb9100c2d0c44946d9cf07ec65d  41ce2a54c0b03bf3443c3d931a367089   \n",
       "3  949d5b44dbf5de918fe9c16f97b45f8a  f88197465ea7920adcdbec7375364d82   \n",
       "4  ad21c59c0840e6cb83a9ceb5573f8159  8ab97904e6daea8866dbdbc4fb7aad2c   \n",
       "\n",
       "  order_status order_purchase_timestamp   order_approved_at  \\\n",
       "0    delivered      2017-10-02 10:56:33 2017-10-02 11:07:15   \n",
       "1    delivered      2018-07-24 20:41:37 2018-07-26 03:24:27   \n",
       "2    delivered      2018-08-08 08:38:49 2018-08-08 08:55:23   \n",
       "3    delivered      2017-11-18 19:28:06 2017-11-18 19:45:59   \n",
       "4    delivered      2018-02-13 21:18:39 2018-02-13 22:20:29   \n",
       "\n",
       "  order_delivered_carrier_date order_delivered_customer_date  \\\n",
       "0          2017-10-04 19:55:00           2017-10-10 21:25:13   \n",
       "1          2018-07-26 14:31:00           2018-08-07 15:27:45   \n",
       "2          2018-08-08 13:50:00           2018-08-17 18:06:29   \n",
       "3          2017-11-22 13:39:59           2017-12-02 00:28:42   \n",
       "4          2018-02-14 19:46:34           2018-02-16 18:17:02   \n",
       "\n",
       "  order_estimated_delivery_date  \n",
       "0                    2017-10-18  \n",
       "1                    2018-08-13  \n",
       "2                    2018-09-04  \n",
       "3                    2017-12-15  \n",
       "4                    2018-02-26  "
      ]
     },
     "execution_count": 241,
     "metadata": {},
     "output_type": "execute_result"
    }
   ],
   "source": [
    "df_orders_mod.head()\n",
    "# en esta linea volvemos a visualizar los primeros 5 registros del dataframe modificado, con el fin de poder visualizar\n",
    "# lo cambios realizados."
   ]
  },
  {
   "cell_type": "markdown",
   "id": "5bd0c42b-c927-4113-a05f-1e1c0dbfc11a",
   "metadata": {
    "jp-MarkdownHeadingCollapsed": true,
    "tags": []
   },
   "source": [
    "### DF_CUSTOMERS"
   ]
  },
  {
   "cell_type": "markdown",
   "id": "61e73d28-1d2e-4fee-bd86-aea703f69282",
   "metadata": {
    "tags": []
   },
   "source": [
    "#### CAMBIAMOS CAMPOS A TIPO STR"
   ]
  },
  {
   "cell_type": "code",
   "execution_count": 243,
   "id": "f0372a4e-4187-4671-9c83-3eff273c97a7",
   "metadata": {
    "tags": []
   },
   "outputs": [],
   "source": [
    "# En esta celda lo que buscamos hacer es cambiar el tipo de datos de algunas columnas en tipo str. En la siguiente linea\n",
    "# creamos una lista con las columnas a las cuales neceitamos realizar dicho cambio\n",
    "columnas = [\"customer_id\",\"customer_unique_id\",\"customer_city\",\"customer_state\"]\n",
    "# En la linea siguiente llamamos a la funcion encargada de dicha tarea, en donde enviamos el dataframe que deceamos modifical\n",
    "# y tambien las columnas de dicho dataframe qye queremos cambiar\n",
    "df_customers_mod = CambioTipoStr(df_customers,columnas)"
   ]
  },
  {
   "cell_type": "markdown",
   "id": "4261ed7f-37e4-4f21-8352-0f5322e74ffa",
   "metadata": {
    "jp-MarkdownHeadingCollapsed": true,
    "tags": []
   },
   "source": [
    "#### CAMBIO CAMPO A MINUSCULA"
   ]
  },
  {
   "cell_type": "code",
   "execution_count": 245,
   "id": "bd4eae2c-f480-4ae2-9940-bfc299f97480",
   "metadata": {
    "tags": []
   },
   "outputs": [],
   "source": [
    "# En la sguiente celda buscamos modificar columnas que son str y que aparezcan todos los registros escritos en minuscula\n",
    "# en la linea siguiente creamos una lista con las columnas que necesitamos modificar\n",
    "columnas = [\"customer_city\"]\n",
    "# ahora llamamos a la funcion encargada de eso yle enviamos el dataframe que necesitamos modificar, con las\n",
    "# columnas necesarias\n",
    "df_customers_mod = CambioMinuscula(df_customers_mod,columnas)"
   ]
  },
  {
   "cell_type": "markdown",
   "id": "c72e7930-b391-4694-9a11-c939bad91807",
   "metadata": {
    "jp-MarkdownHeadingCollapsed": true,
    "tags": []
   },
   "source": [
    "#### CAMBIO CAMPO A MAYUSCULA"
   ]
  },
  {
   "cell_type": "code",
   "execution_count": 247,
   "id": "2cf4da38-5011-444b-adcb-9a9d3005f72d",
   "metadata": {
    "tags": []
   },
   "outputs": [],
   "source": [
    "# En la sguiente celda buscamos modificar columnas que son str y que aparezcan todos los registros escritos en mayuscula\n",
    "# en la linea siguiente creamos una lista con las columnas que necesitamos modificar\n",
    "columnas = [\"customer_state\"]\n",
    "# ahora llamamos a la funcion encargada de eso yle enviamos el dataframe que necesitamos modificar, con las\n",
    "# columnas necesarias\n",
    "df_customers_mod = CambioMayuscula(df_customers_mod,columnas)"
   ]
  },
  {
   "cell_type": "code",
   "execution_count": 249,
   "id": "bba287aa-e5ce-45e2-82f6-b372cd4e4474",
   "metadata": {
    "tags": []
   },
   "outputs": [
    {
     "data": {
      "text/plain": [
       "customer_id                 string[python]\n",
       "customer_unique_id          string[python]\n",
       "customer_zip_code_prefix             int64\n",
       "customer_city               string[python]\n",
       "customer_state              string[python]\n",
       "dtype: object"
      ]
     },
     "execution_count": 249,
     "metadata": {},
     "output_type": "execute_result"
    }
   ],
   "source": [
    "# con dtypes vamos a controlar que se hayan realizado los cambios de tipo de datos. \n",
    "df_customers_mod.dtypes"
   ]
  },
  {
   "cell_type": "code",
   "execution_count": 251,
   "id": "b2b07cc1-7360-4002-9d03-977a4357347e",
   "metadata": {
    "tags": []
   },
   "outputs": [
    {
     "data": {
      "text/html": [
       "<div>\n",
       "<style scoped>\n",
       "    .dataframe tbody tr th:only-of-type {\n",
       "        vertical-align: middle;\n",
       "    }\n",
       "\n",
       "    .dataframe tbody tr th {\n",
       "        vertical-align: top;\n",
       "    }\n",
       "\n",
       "    .dataframe thead th {\n",
       "        text-align: right;\n",
       "    }\n",
       "</style>\n",
       "<table border=\"1\" class=\"dataframe\">\n",
       "  <thead>\n",
       "    <tr style=\"text-align: right;\">\n",
       "      <th></th>\n",
       "      <th>customer_id</th>\n",
       "      <th>customer_unique_id</th>\n",
       "      <th>customer_zip_code_prefix</th>\n",
       "      <th>customer_city</th>\n",
       "      <th>customer_state</th>\n",
       "    </tr>\n",
       "  </thead>\n",
       "  <tbody>\n",
       "    <tr>\n",
       "      <th>0</th>\n",
       "      <td>06b8999e2fba1a1fbc88172c00ba8bc7</td>\n",
       "      <td>861eff4711a542e4b93843c6dd7febb0</td>\n",
       "      <td>14409</td>\n",
       "      <td>franca</td>\n",
       "      <td>SP</td>\n",
       "    </tr>\n",
       "    <tr>\n",
       "      <th>1</th>\n",
       "      <td>18955e83d337fd6b2def6b18a428ac77</td>\n",
       "      <td>290c77bc529b7ac935b93aa66c333dc3</td>\n",
       "      <td>9790</td>\n",
       "      <td>sao bernardo do campo</td>\n",
       "      <td>SP</td>\n",
       "    </tr>\n",
       "    <tr>\n",
       "      <th>2</th>\n",
       "      <td>4e7b3e00288586ebd08712fdd0374a03</td>\n",
       "      <td>060e732b5b29e8181a18229c7b0b2b5e</td>\n",
       "      <td>1151</td>\n",
       "      <td>sao paulo</td>\n",
       "      <td>SP</td>\n",
       "    </tr>\n",
       "    <tr>\n",
       "      <th>3</th>\n",
       "      <td>b2b6027bc5c5109e529d4dc6358b12c3</td>\n",
       "      <td>259dac757896d24d7702b9acbbff3f3c</td>\n",
       "      <td>8775</td>\n",
       "      <td>mogi das cruzes</td>\n",
       "      <td>SP</td>\n",
       "    </tr>\n",
       "    <tr>\n",
       "      <th>4</th>\n",
       "      <td>4f2d8ab171c80ec8364f7c12e35b23ad</td>\n",
       "      <td>345ecd01c38d18a9036ed96c73b8d066</td>\n",
       "      <td>13056</td>\n",
       "      <td>campinas</td>\n",
       "      <td>SP</td>\n",
       "    </tr>\n",
       "  </tbody>\n",
       "</table>\n",
       "</div>"
      ],
      "text/plain": [
       "                        customer_id                customer_unique_id  \\\n",
       "0  06b8999e2fba1a1fbc88172c00ba8bc7  861eff4711a542e4b93843c6dd7febb0   \n",
       "1  18955e83d337fd6b2def6b18a428ac77  290c77bc529b7ac935b93aa66c333dc3   \n",
       "2  4e7b3e00288586ebd08712fdd0374a03  060e732b5b29e8181a18229c7b0b2b5e   \n",
       "3  b2b6027bc5c5109e529d4dc6358b12c3  259dac757896d24d7702b9acbbff3f3c   \n",
       "4  4f2d8ab171c80ec8364f7c12e35b23ad  345ecd01c38d18a9036ed96c73b8d066   \n",
       "\n",
       "   customer_zip_code_prefix          customer_city customer_state  \n",
       "0                     14409                 franca             SP  \n",
       "1                      9790  sao bernardo do campo             SP  \n",
       "2                      1151              sao paulo             SP  \n",
       "3                      8775        mogi das cruzes             SP  \n",
       "4                     13056               campinas             SP  "
      ]
     },
     "execution_count": 251,
     "metadata": {},
     "output_type": "execute_result"
    }
   ],
   "source": [
    "# visualmente controlamos los primeros 5 registros del dataframe, con el fin de podecon controlar si se hicieron\n",
    "# los cambios anteriores\n",
    "df_customers_mod.head()"
   ]
  },
  {
   "cell_type": "markdown",
   "id": "d4167d99-07dd-47d6-b88d-d40dc3eed96c",
   "metadata": {
    "jp-MarkdownHeadingCollapsed": true,
    "tags": []
   },
   "source": [
    "### DF_ORDER_ITEMS"
   ]
  },
  {
   "cell_type": "markdown",
   "id": "6045b3e6-d450-45c9-bfef-c8187039c312",
   "metadata": {
    "jp-MarkdownHeadingCollapsed": true,
    "tags": []
   },
   "source": [
    "#### CAMBIAMOS CAMPOS A TIPO DATATIME"
   ]
  },
  {
   "cell_type": "code",
   "execution_count": 253,
   "id": "9a251d35-2ad7-4c4f-94ef-a7488c9869fc",
   "metadata": {
    "tags": []
   },
   "outputs": [],
   "source": [
    "# en esta celda llamamos a la funcion encargada de cambiar el tipo de dato de las columnas a tipo datatime\n",
    "# en la siguiente linea creamos una lista con las columas que necesitamos realizar dicho cambio\n",
    "columnas = [\"shipping_limit_date\"]\n",
    "# ahora llamamos a la funcion y le enviamos el dataframe y las columnas que deseanis cambiar\n",
    "df_order_items_mod = CambioTipoFecha(df_order_items,columnas)"
   ]
  },
  {
   "cell_type": "markdown",
   "id": "ea14d997-3860-44a3-9765-00fb1f490683",
   "metadata": {
    "jp-MarkdownHeadingCollapsed": true,
    "tags": []
   },
   "source": [
    "#### CAMBIAMOS DATOS A TIPO STR"
   ]
  },
  {
   "cell_type": "code",
   "execution_count": 255,
   "id": "f7069f53-23cf-491e-bc7f-f97b0ea181b9",
   "metadata": {
    "tags": []
   },
   "outputs": [],
   "source": [
    "# en esta celda llamanos a la funcion encargada de cambiar el tipo de datos de las columnas a str\n",
    "# en la siguiente line creamos una lista con las columnas que necesitamos cambiar\n",
    "columnas = [\"order_id\",\"product_id\",\"seller_id\"]\n",
    "# ahora llamamos a la funcion y le enviamos el dataframe necesario con las columnas que deseamos cambiar\n",
    "df_order_items_mod = CambioTipoStr(df_order_items_mod,columnas)"
   ]
  },
  {
   "cell_type": "code",
   "execution_count": 257,
   "id": "13887723-ff03-486a-ae49-dc418905b4e6",
   "metadata": {
    "tags": []
   },
   "outputs": [
    {
     "data": {
      "text/plain": [
       "order_id               string[python]\n",
       "order_item_id                   int64\n",
       "product_id             string[python]\n",
       "seller_id              string[python]\n",
       "shipping_limit_date    datetime64[ns]\n",
       "price                         float64\n",
       "freight_value                 float64\n",
       "dtype: object"
      ]
     },
     "execution_count": 257,
     "metadata": {},
     "output_type": "execute_result"
    }
   ],
   "source": [
    "# controlamos que los cambios ahora tengas los tipos de datos que necesitamos\n",
    "df_order_items_mod.dtypes"
   ]
  },
  {
   "cell_type": "markdown",
   "id": "fac101cd-e540-4ba1-bf69-7e4cd8a38de8",
   "metadata": {
    "jp-MarkdownHeadingCollapsed": true,
    "tags": []
   },
   "source": [
    "### DF_PRODUCTS"
   ]
  },
  {
   "cell_type": "markdown",
   "id": "8f742a33-ec15-4d3f-ba95-019288701055",
   "metadata": {},
   "source": [
    "#### ANALIZAMOS VALORES NULOS"
   ]
  },
  {
   "cell_type": "markdown",
   "id": "a8702bef-0072-4eaf-8063-e8a337cd341d",
   "metadata": {},
   "source": [
    "ESTE DATAFRAME POSEE 4 COLUMAS CON VALORES NULOS, LAS CUALES SON LAS SIGUINTES:\n",
    "\n",
    "product_category_name         610\n",
    "\n",
    "product_name_lenght           610\n",
    "\n",
    "product_description_lenght    610\n",
    "\n",
    "product_photos_qty            610\n",
    "\n",
    "product_weight_g                2\n",
    "\n",
    "product_length_cm               2\n",
    "\n",
    "product_height_cm               2\n",
    "\n",
    "product_width_cm                2\n",
    "\n",
    "LA REGLA QUE SERA UTILIZADA EN EL MANEJO DE LOS NULOS ES LA SIGUIENTE:\n",
    "\n",
    "PARA EL CAMPO \"product_category_name\" REEMPLAZAREMOS LOS CAMPOS NULS POR \"Desconocida\"\n",
    "\n",
    "PARA EL RESTO DE LOS CAMPOS, REEMPLAZAREMOS LOS NULOS POR EL VALOR \"-1\", EL CUAL DICHO VALOR, INDICA QUE ES DESCONOCIDO EL VALOR REAL.\n",
    "\n",
    "SE TOMO ESTA DECICION, YA QUE LOS CAMPOS CON LOS QUE ESTAMOS TRABAJANDO, NO SON DE VALORES DE PRECIO, NI CANTIDAD DE STOCK, NI OTROS VALORES \n",
    "\n",
    "DE ESE TIPO. LOS VALORES CON LOS QUE TRABAJAMOS EN ESTE DATAFRAME, SON TAMAÑO DE PRODUCTO, LARGO DEL NOMBRE, CANTIDAD DE IMAGENES EN EL POSTEO.\n",
    "\n",
    "SE TENDRA EN CUENTA QUE AL MOMENTO DE QUERER REALIZAR ALGUN CALCULO, DE SER NECESARIO EXCLUIREMOS A LOS REGISTROS SON -1, YA QUE SON DESCONOCIDOS"
   ]
  },
  {
   "cell_type": "code",
   "execution_count": 259,
   "id": "04c3e9be-f130-42eb-8767-fff85c8c2f7a",
   "metadata": {
    "tags": []
   },
   "outputs": [],
   "source": [
    "# en la siguiente line vamos a completar los vlores nulos con la palabra \"Desconocido\"\n",
    "df_products[\"product_category_name\"] = df_products[\"product_category_name\"].fillna(\"Desconocida\")\n",
    "# A continuacion creamos una lista con las columnas que vamos a querer modificar, luego a todas esas columnas la completamos\n",
    "#en sus valores nulos con el valor -1\n",
    "columnas = [\"product_name_lenght\",\"product_description_lenght\",\"product_photos_qty\",\"product_weight_g\",\"product_length_cm\",\"product_height_cm\",\"product_width_cm\"]\n",
    "df_products[columnas] = df_products[columnas].fillna(-1)"
   ]
  },
  {
   "cell_type": "markdown",
   "id": "7bbd09f4-76aa-4662-94d3-595bdf5f1212",
   "metadata": {
    "jp-MarkdownHeadingCollapsed": true,
    "tags": []
   },
   "source": [
    "#### CAMBIAMOS CAMPOS A TIPO STR"
   ]
  },
  {
   "cell_type": "code",
   "execution_count": 261,
   "id": "8b21f3e5-ad96-421d-adb4-cea986112a3f",
   "metadata": {
    "tags": []
   },
   "outputs": [],
   "source": [
    "# en esta celda lo que hacemos es llamar a la funcion encargada de cambiar el tipo de dato de los campos a tipo str.\n",
    "# en la siguiente linea creamos una lista con los campos que desemaos cambiar el tipo de dato a tipo str\n",
    "columnas = [\"product_id\",\"product_category_name\"]\n",
    "# luego llamamos a la funcion que se encarda de dicha tarea y le eviamos el dataframe y las columnas que deseamos cambiar\n",
    "df_products_mod = CambioTipoStr(df_products,columnas)"
   ]
  },
  {
   "cell_type": "markdown",
   "id": "a8440863-3567-4a6f-a473-7caf6854c6bc",
   "metadata": {
    "jp-MarkdownHeadingCollapsed": true,
    "tags": []
   },
   "source": [
    "#### CAMBIAMOS CAMPO A MINUSCULA"
   ]
  },
  {
   "cell_type": "code",
   "execution_count": 263,
   "id": "76a3719d-1fa4-4d4e-97e1-a66c4711aeb0",
   "metadata": {
    "tags": []
   },
   "outputs": [],
   "source": [
    "# en esta celda estamos buscando que en los campos deseados del dataframe, nos aseguremos que aparezcan en minuscula.\n",
    "# en la proxima linea creamos una lista con los campos deaseados a cambiar a minuscula\n",
    "columnas = [\"product_category_name\"]\n",
    "# ahora llamanos a la funcion encargada de dicha tarea y le enviamos el dataframe y las columnas que deseamos cambiar\n",
    "df_products_mod = CambioMinuscula(df_products_mod,columnas)"
   ]
  },
  {
   "cell_type": "code",
   "execution_count": 265,
   "id": "e302ab9d-065b-4355-84f2-b9214fdbb821",
   "metadata": {
    "tags": []
   },
   "outputs": [
    {
     "data": {
      "text/plain": [
       "product_id                    string[python]\n",
       "product_category_name         string[python]\n",
       "product_name_lenght                  float64\n",
       "product_description_lenght           float64\n",
       "product_photos_qty                   float64\n",
       "product_weight_g                     float64\n",
       "product_length_cm                    float64\n",
       "product_height_cm                    float64\n",
       "product_width_cm                     float64\n",
       "dtype: object"
      ]
     },
     "execution_count": 265,
     "metadata": {},
     "output_type": "execute_result"
    }
   ],
   "source": [
    "# visualizamos que los campos ahora tengan los tipos de datos que necesitamos\n",
    "df_products_mod.dtypes"
   ]
  },
  {
   "cell_type": "code",
   "execution_count": 267,
   "id": "dafa3e09-5c4b-4128-b99b-88aa58f36ec6",
   "metadata": {
    "tags": []
   },
   "outputs": [
    {
     "data": {
      "text/plain": [
       "product_id                    0\n",
       "product_category_name         0\n",
       "product_name_lenght           0\n",
       "product_description_lenght    0\n",
       "product_photos_qty            0\n",
       "product_weight_g              0\n",
       "product_length_cm             0\n",
       "product_height_cm             0\n",
       "product_width_cm              0\n",
       "dtype: int64"
      ]
     },
     "execution_count": 267,
     "metadata": {},
     "output_type": "execute_result"
    }
   ],
   "source": [
    "#controlamos que la sumatoria de valores nulos en cada campo sea cero\n",
    "df_products_mod.isnull().sum()"
   ]
  },
  {
   "cell_type": "code",
   "execution_count": 269,
   "id": "a09977bc-f29f-47b2-9f1b-abf76c0d2927",
   "metadata": {
    "tags": []
   },
   "outputs": [
    {
     "data": {
      "text/plain": [
       "(32951, 9)"
      ]
     },
     "execution_count": 269,
     "metadata": {},
     "output_type": "execute_result"
    }
   ],
   "source": [
    "# vemos la estructura del dataframe y se observa que la cantidad de columnas sigue siendo la mismoa, al igual que los registros,\n",
    "# ya que no se eliminaron registros, si no que se completaron con otros valres\n",
    "df_products_mod.shape"
   ]
  },
  {
   "cell_type": "code",
   "execution_count": 271,
   "id": "133cb3e9-3e11-47f2-8736-3113dcbd0e82",
   "metadata": {
    "tags": []
   },
   "outputs": [
    {
     "data": {
      "text/html": [
       "<div>\n",
       "<style scoped>\n",
       "    .dataframe tbody tr th:only-of-type {\n",
       "        vertical-align: middle;\n",
       "    }\n",
       "\n",
       "    .dataframe tbody tr th {\n",
       "        vertical-align: top;\n",
       "    }\n",
       "\n",
       "    .dataframe thead th {\n",
       "        text-align: right;\n",
       "    }\n",
       "</style>\n",
       "<table border=\"1\" class=\"dataframe\">\n",
       "  <thead>\n",
       "    <tr style=\"text-align: right;\">\n",
       "      <th></th>\n",
       "      <th>product_id</th>\n",
       "      <th>product_category_name</th>\n",
       "      <th>product_name_lenght</th>\n",
       "      <th>product_description_lenght</th>\n",
       "      <th>product_photos_qty</th>\n",
       "      <th>product_weight_g</th>\n",
       "      <th>product_length_cm</th>\n",
       "      <th>product_height_cm</th>\n",
       "      <th>product_width_cm</th>\n",
       "    </tr>\n",
       "  </thead>\n",
       "  <tbody>\n",
       "    <tr>\n",
       "      <th>0</th>\n",
       "      <td>1e9e8ef04dbcff4541ed26657ea517e5</td>\n",
       "      <td>perfumaria</td>\n",
       "      <td>40.0</td>\n",
       "      <td>287.0</td>\n",
       "      <td>1.0</td>\n",
       "      <td>225.0</td>\n",
       "      <td>16.0</td>\n",
       "      <td>10.0</td>\n",
       "      <td>14.0</td>\n",
       "    </tr>\n",
       "    <tr>\n",
       "      <th>1</th>\n",
       "      <td>3aa071139cb16b67ca9e5dea641aaa2f</td>\n",
       "      <td>artes</td>\n",
       "      <td>44.0</td>\n",
       "      <td>276.0</td>\n",
       "      <td>1.0</td>\n",
       "      <td>1000.0</td>\n",
       "      <td>30.0</td>\n",
       "      <td>18.0</td>\n",
       "      <td>20.0</td>\n",
       "    </tr>\n",
       "    <tr>\n",
       "      <th>2</th>\n",
       "      <td>96bd76ec8810374ed1b65e291975717f</td>\n",
       "      <td>esporte_lazer</td>\n",
       "      <td>46.0</td>\n",
       "      <td>250.0</td>\n",
       "      <td>1.0</td>\n",
       "      <td>154.0</td>\n",
       "      <td>18.0</td>\n",
       "      <td>9.0</td>\n",
       "      <td>15.0</td>\n",
       "    </tr>\n",
       "    <tr>\n",
       "      <th>3</th>\n",
       "      <td>cef67bcfe19066a932b7673e239eb23d</td>\n",
       "      <td>bebes</td>\n",
       "      <td>27.0</td>\n",
       "      <td>261.0</td>\n",
       "      <td>1.0</td>\n",
       "      <td>371.0</td>\n",
       "      <td>26.0</td>\n",
       "      <td>4.0</td>\n",
       "      <td>26.0</td>\n",
       "    </tr>\n",
       "    <tr>\n",
       "      <th>4</th>\n",
       "      <td>9dc1a7de274444849c219cff195d0b71</td>\n",
       "      <td>utilidades_domesticas</td>\n",
       "      <td>37.0</td>\n",
       "      <td>402.0</td>\n",
       "      <td>4.0</td>\n",
       "      <td>625.0</td>\n",
       "      <td>20.0</td>\n",
       "      <td>17.0</td>\n",
       "      <td>13.0</td>\n",
       "    </tr>\n",
       "  </tbody>\n",
       "</table>\n",
       "</div>"
      ],
      "text/plain": [
       "                         product_id  product_category_name  \\\n",
       "0  1e9e8ef04dbcff4541ed26657ea517e5             perfumaria   \n",
       "1  3aa071139cb16b67ca9e5dea641aaa2f                  artes   \n",
       "2  96bd76ec8810374ed1b65e291975717f          esporte_lazer   \n",
       "3  cef67bcfe19066a932b7673e239eb23d                  bebes   \n",
       "4  9dc1a7de274444849c219cff195d0b71  utilidades_domesticas   \n",
       "\n",
       "   product_name_lenght  product_description_lenght  product_photos_qty  \\\n",
       "0                 40.0                       287.0                 1.0   \n",
       "1                 44.0                       276.0                 1.0   \n",
       "2                 46.0                       250.0                 1.0   \n",
       "3                 27.0                       261.0                 1.0   \n",
       "4                 37.0                       402.0                 4.0   \n",
       "\n",
       "   product_weight_g  product_length_cm  product_height_cm  product_width_cm  \n",
       "0             225.0               16.0               10.0              14.0  \n",
       "1            1000.0               30.0               18.0              20.0  \n",
       "2             154.0               18.0                9.0              15.0  \n",
       "3             371.0               26.0                4.0              26.0  \n",
       "4             625.0               20.0               17.0              13.0  "
      ]
     },
     "execution_count": 271,
     "metadata": {},
     "output_type": "execute_result"
    }
   ],
   "source": [
    "# controlamos visualmente que los datos aparezcan como los hemos trabajado\n",
    "df_products_mod.head()"
   ]
  },
  {
   "cell_type": "markdown",
   "id": "5650e67b-b416-4284-b084-28b5d9319aa1",
   "metadata": {
    "tags": []
   },
   "source": [
    "### DF_ORDER_PAYMENTS"
   ]
  },
  {
   "cell_type": "markdown",
   "id": "b790a139-4c8d-4600-998f-4aae48769960",
   "metadata": {
    "tags": []
   },
   "source": [
    "#### CAMBIAMOS CAMPOS A TIPO STR"
   ]
  },
  {
   "cell_type": "code",
   "execution_count": 51,
   "id": "7a6dd1cc-0d92-4467-912a-5eb54a047573",
   "metadata": {},
   "outputs": [],
   "source": [
    "# en esta caleda llamamos a la funcion encargada de transformar el tipo de dato de los campos de un dataframe a tipo str\n",
    "# en la siguiente linea creamos una lista con los campos que neceitamos mnodificar\n",
    "columnas = [\"order_id\",\"payment_type\"]\n",
    "# ahora llamamos a la funcion, enviandole el dataframe y los campos necesarios\n",
    "df_order_payments_mod = CambioTipoStr(df_order_payments,columnas)"
   ]
  },
  {
   "cell_type": "markdown",
   "id": "304c5841-4ce3-4fa8-902b-d12d30e7e838",
   "metadata": {},
   "source": [
    "#### CAMBIAMOS CAMPOS A MINUSCULA"
   ]
  },
  {
   "cell_type": "code",
   "execution_count": null,
   "id": "c861d3d5-fcb8-4fe7-ab35-67a4cee4e467",
   "metadata": {},
   "outputs": [],
   "source": [
    "# en esta celda llamamos a la funcion encargada de hacer que losvalores de un campo aparezcan en minuscula\n",
    "# en la linea que sigue creamos una lista con los campos que necesitamos cambiar\n",
    "columnas = [\"payment_type\"]\n",
    "# en la linea que sigue llamamos a la funcion y le enviamos el dataframe y los campos deseados\n",
    "df_order_payments_mod = CambioMinuscula(df_order_payments_mod,columnas)"
   ]
  },
  {
   "cell_type": "code",
   "execution_count": 53,
   "id": "6bc3c07e-4f81-4aae-8b05-574c3a64b4e9",
   "metadata": {
    "tags": []
   },
   "outputs": [
    {
     "data": {
      "text/plain": [
       "order_id                string[python]\n",
       "payment_sequential               int64\n",
       "payment_type            string[python]\n",
       "payment_installments             int64\n",
       "payment_value                  float64\n",
       "dtype: object"
      ]
     },
     "execution_count": 53,
     "metadata": {},
     "output_type": "execute_result"
    }
   ],
   "source": [
    "# ahora visualizamos que los tipos de datos de los campos esten como necesitamos.\n",
    "df_order_payments_mod.dtypes"
   ]
  },
  {
   "cell_type": "code",
   "execution_count": null,
   "id": "fd40af11-9565-45f4-97dc-7a2bb42494b4",
   "metadata": {},
   "outputs": [],
   "source": []
  }
 ],
 "metadata": {
  "kernelspec": {
   "display_name": "Python 3 (ipykernel)",
   "language": "python",
   "name": "python3"
  },
  "language_info": {
   "codemirror_mode": {
    "name": "ipython",
    "version": 3
   },
   "file_extension": ".py",
   "mimetype": "text/x-python",
   "name": "python",
   "nbconvert_exporter": "python",
   "pygments_lexer": "ipython3",
   "version": "3.11.7"
  }
 },
 "nbformat": 4,
 "nbformat_minor": 5
}
