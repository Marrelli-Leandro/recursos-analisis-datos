{
 "cells": [
  {
   "cell_type": "markdown",
   "id": "685b84dc-c40c-4fe3-81d9-a5a74819f3cf",
   "metadata": {
    "tags": []
   },
   "source": [
    "# PROYECTO FINAL"
   ]
  },
  {
   "cell_type": "markdown",
   "id": "dec5fb9a-7078-4587-aed6-b1521c7a752d",
   "metadata": {
    "jp-MarkdownHeadingCollapsed": true,
    "tags": []
   },
   "source": [
    "## LIBRERIAS"
   ]
  },
  {
   "cell_type": "markdown",
   "id": "85bda773-593b-4c0d-98cd-bb56ed77fcf2",
   "metadata": {
    "jp-MarkdownHeadingCollapsed": true,
    "tags": []
   },
   "source": [
    "### IMPORTACION DE LIBRERIAS"
   ]
  },
  {
   "cell_type": "code",
   "execution_count": 2,
   "id": "6010513c-62cb-4546-889f-39c660269490",
   "metadata": {
    "tags": []
   },
   "outputs": [],
   "source": [
    "import pandas as pd\n",
    "import numpy as np\n",
    "import os"
   ]
  },
  {
   "cell_type": "markdown",
   "id": "437a23b1-8f4b-4f47-aad8-76f795a99d68",
   "metadata": {
    "jp-MarkdownHeadingCollapsed": true,
    "tags": []
   },
   "source": [
    "## FUNCIONES"
   ]
  },
  {
   "cell_type": "markdown",
   "id": "fdeae9ee-1e66-4670-a9b1-9b2d75466b64",
   "metadata": {
    "jp-MarkdownHeadingCollapsed": true,
    "tags": []
   },
   "source": [
    "### CAMBIO CAMPO A TIPO DATATIME"
   ]
  },
  {
   "cell_type": "code",
   "execution_count": 4,
   "id": "5784b0ab-bb8c-4baf-887f-bcd7fd9bc351",
   "metadata": {
    "tags": []
   },
   "outputs": [],
   "source": [
    "def CambioTipoFecha(df,columnas): # Recibimos dos argumentos, los cuales son: el dataframe a modificar y las coolumnas a modificar\n",
    "    df[columnas] = df[columnas].apply(pd.to_datetime) # aplicamos a las columnas obtenidas el cambio de tipo de dato a datatime\n",
    "    df[columnas] = df[columnas].apply(lambda x: x.dt.date)\n",
    "    return df # Retornamos el dataframe con el cambio de tipo de dato en las clumnas "
   ]
  },
  {
   "cell_type": "markdown",
   "id": "adc0592f-1e9a-475a-a10a-066740311c8f",
   "metadata": {
    "jp-MarkdownHeadingCollapsed": true,
    "tags": []
   },
   "source": [
    "### CAMBIO CAMPO A MINUSCULA"
   ]
  },
  {
   "cell_type": "code",
   "execution_count": 6,
   "id": "cddab4d5-90ef-4458-9510-a700953eca85",
   "metadata": {
    "tags": []
   },
   "outputs": [],
   "source": [
    "def CambioMinuscula(df,columnas): # Recibimos dos argumentos, los cuales son: el dataframe a modificar y las coolumnas a modificar\n",
    "    for columna in columnas: # trabajamos con un for para seleccionar columna por columna deseadas, ya que str.lower trabaja por serie y no por dataframe\n",
    "        df[columna] = df[columna].str.lower() # aplicamos str.lower, el cual hace que todos los valores aparezcan en minuscula\n",
    "    return df # retornamos el dataframe modificado"
   ]
  },
  {
   "cell_type": "markdown",
   "id": "0baac0b0-ad33-4764-b9cb-6f061a91c707",
   "metadata": {
    "tags": []
   },
   "source": [
    "### CAMBIO CAMPO A MAYUSCULA"
   ]
  },
  {
   "cell_type": "code",
   "execution_count": 8,
   "id": "6c0a0d4f-3408-4f75-8390-48452b4f59a3",
   "metadata": {
    "tags": []
   },
   "outputs": [],
   "source": [
    "def CambioMayuscula(df,columnas): # Recibimos dos argumentos, los cuales son: el dataframe a modificar y las coolumnas a modificar\n",
    "    for columna in columnas: # trabajamos con un for para seleccionar columna por columna deseadas, ya que str.lower trabaja por serie y no por dataframe\n",
    "        df[columna] = df[columna].str.upper() # aplicamos str.upper, el cual hace que todos los valores aparezcan en mayuscula \n",
    "    return df # retornamos el dataframe modificado"
   ]
  },
  {
   "cell_type": "markdown",
   "id": "be29d6e2-f6d0-4317-a9e1-9f4a8e8c39f1",
   "metadata": {
    "jp-MarkdownHeadingCollapsed": true,
    "tags": []
   },
   "source": [
    "### CAMBIO CAMPO A TIPO STR"
   ]
  },
  {
   "cell_type": "code",
   "execution_count": 10,
   "id": "1142222a-e3a0-4e39-823b-9e6cb4c93c5c",
   "metadata": {
    "tags": []
   },
   "outputs": [],
   "source": [
    "def CambioTipoStr(df,columnas): # Recibimos dos argumentos, los cuales son: el dataframe a modificar y las coolumnas a modificar\n",
    "    df[columnas] = df[columnas].astype(\"string\") # aplicamos a las columnas obtenidas el cambio de tipo de dato a str\n",
    "    return df # Retornamos el dataframe con el cambio de tipo de dato en las clumnas"
   ]
  },
  {
   "cell_type": "markdown",
   "id": "8be99ba7-d1fa-4c58-a2cc-6c570f7c307c",
   "metadata": {
    "jp-MarkdownHeadingCollapsed": true,
    "tags": []
   },
   "source": [
    "## EXTRACCIÓN"
   ]
  },
  {
   "cell_type": "markdown",
   "id": "18a2bdc7-2817-41e1-a2e0-4f3848fcadb5",
   "metadata": {
    "jp-MarkdownHeadingCollapsed": true,
    "tags": []
   },
   "source": [
    "### CARGA"
   ]
  },
  {
   "cell_type": "code",
   "execution_count": 12,
   "id": "aa3d1418-53d6-474a-8912-08700ddad301",
   "metadata": {
    "tags": []
   },
   "outputs": [],
   "source": [
    "# En todas estas lineas, lo que estamos haciendo es leer harchivos con formato CSV, los cuales se cuentran en una carpeta de un repositorio\n",
    "# de github, y guardarlos cono dataframe mediante la libre ria pandas \n",
    "\n",
    "df_customers = pd.read_csv(\"https://raw.githubusercontent.com/Marrelli-Leandro/recursos-analisis-datos/main/14_Datasets_Originales/ecommerce_customers_dataset.csv\")\n",
    "df_orders = pd.read_csv(\"https://raw.githubusercontent.com/Marrelli-Leandro/recursos-analisis-datos/main/14_Datasets_Originales/ecommerce_orders_dataset.csv\")\n",
    "df_order_items = pd.read_csv(\"https://raw.githubusercontent.com/Marrelli-Leandro/recursos-analisis-datos/main/14_Datasets_Originales/ecommerce_order_items_dataset.csv\")\n",
    "df_products = pd.read_csv(\"https://raw.githubusercontent.com/Marrelli-Leandro/recursos-analisis-datos/main/14_Datasets_Originales/ecommerce_products_dataset.csv\")\n",
    "df_order_payments = pd.read_csv(\"https://raw.githubusercontent.com/Marrelli-Leandro/recursos-analisis-datos/main/14_Datasets_Originales/ecommerce_order_payments_dataset.csv\")"
   ]
  },
  {
   "cell_type": "markdown",
   "id": "8bf26093-f659-4436-8f9f-799a8c4d5483",
   "metadata": {
    "jp-MarkdownHeadingCollapsed": true,
    "tags": []
   },
   "source": [
    "### VISUALIZACIÓN"
   ]
  },
  {
   "cell_type": "markdown",
   "id": "16ba7347-be8a-49a7-965e-83f997e40a44",
   "metadata": {},
   "source": [
    "REALIZAREMOS UNA VISUALIZACION DE LOS 5 DATAFRAME, CON EL FIN DE PODER OBSERVAR\n",
    "\n",
    "QUE TIPO DE DATOS ENCONTRAMOS EN CADA UNO DE ELL0S"
   ]
  },
  {
   "cell_type": "markdown",
   "id": "0f07945e-9319-45c9-a9b3-02ece404555a",
   "metadata": {
    "jp-MarkdownHeadingCollapsed": true,
    "tags": []
   },
   "source": [
    "#### DATAFRAME DF_CUSTOMERS"
   ]
  },
  {
   "cell_type": "code",
   "execution_count": 170,
   "id": "718b76d6-dabf-4817-afe2-b10b94f0b4e9",
   "metadata": {
    "tags": []
   },
   "outputs": [
    {
     "data": {
      "text/html": [
       "<div>\n",
       "<style scoped>\n",
       "    .dataframe tbody tr th:only-of-type {\n",
       "        vertical-align: middle;\n",
       "    }\n",
       "\n",
       "    .dataframe tbody tr th {\n",
       "        vertical-align: top;\n",
       "    }\n",
       "\n",
       "    .dataframe thead th {\n",
       "        text-align: right;\n",
       "    }\n",
       "</style>\n",
       "<table border=\"1\" class=\"dataframe\">\n",
       "  <thead>\n",
       "    <tr style=\"text-align: right;\">\n",
       "      <th></th>\n",
       "      <th>customer_id</th>\n",
       "      <th>customer_unique_id</th>\n",
       "      <th>customer_zip_code_prefix</th>\n",
       "      <th>customer_city</th>\n",
       "      <th>customer_state</th>\n",
       "    </tr>\n",
       "  </thead>\n",
       "  <tbody>\n",
       "    <tr>\n",
       "      <th>0</th>\n",
       "      <td>06b8999e2fba1a1fbc88172c00ba8bc7</td>\n",
       "      <td>861eff4711a542e4b93843c6dd7febb0</td>\n",
       "      <td>14409</td>\n",
       "      <td>franca</td>\n",
       "      <td>SP</td>\n",
       "    </tr>\n",
       "    <tr>\n",
       "      <th>1</th>\n",
       "      <td>18955e83d337fd6b2def6b18a428ac77</td>\n",
       "      <td>290c77bc529b7ac935b93aa66c333dc3</td>\n",
       "      <td>9790</td>\n",
       "      <td>sao bernardo do campo</td>\n",
       "      <td>SP</td>\n",
       "    </tr>\n",
       "    <tr>\n",
       "      <th>2</th>\n",
       "      <td>4e7b3e00288586ebd08712fdd0374a03</td>\n",
       "      <td>060e732b5b29e8181a18229c7b0b2b5e</td>\n",
       "      <td>1151</td>\n",
       "      <td>sao paulo</td>\n",
       "      <td>SP</td>\n",
       "    </tr>\n",
       "    <tr>\n",
       "      <th>3</th>\n",
       "      <td>b2b6027bc5c5109e529d4dc6358b12c3</td>\n",
       "      <td>259dac757896d24d7702b9acbbff3f3c</td>\n",
       "      <td>8775</td>\n",
       "      <td>mogi das cruzes</td>\n",
       "      <td>SP</td>\n",
       "    </tr>\n",
       "    <tr>\n",
       "      <th>4</th>\n",
       "      <td>4f2d8ab171c80ec8364f7c12e35b23ad</td>\n",
       "      <td>345ecd01c38d18a9036ed96c73b8d066</td>\n",
       "      <td>13056</td>\n",
       "      <td>campinas</td>\n",
       "      <td>SP</td>\n",
       "    </tr>\n",
       "  </tbody>\n",
       "</table>\n",
       "</div>"
      ],
      "text/plain": [
       "                        customer_id                customer_unique_id  \\\n",
       "0  06b8999e2fba1a1fbc88172c00ba8bc7  861eff4711a542e4b93843c6dd7febb0   \n",
       "1  18955e83d337fd6b2def6b18a428ac77  290c77bc529b7ac935b93aa66c333dc3   \n",
       "2  4e7b3e00288586ebd08712fdd0374a03  060e732b5b29e8181a18229c7b0b2b5e   \n",
       "3  b2b6027bc5c5109e529d4dc6358b12c3  259dac757896d24d7702b9acbbff3f3c   \n",
       "4  4f2d8ab171c80ec8364f7c12e35b23ad  345ecd01c38d18a9036ed96c73b8d066   \n",
       "\n",
       "   customer_zip_code_prefix          customer_city customer_state  \n",
       "0                     14409                 franca             SP  \n",
       "1                      9790  sao bernardo do campo             SP  \n",
       "2                      1151              sao paulo             SP  \n",
       "3                      8775        mogi das cruzes             SP  \n",
       "4                     13056               campinas             SP  "
      ]
     },
     "execution_count": 170,
     "metadata": {},
     "output_type": "execute_result"
    }
   ],
   "source": [
    "df_customers.head() # Visalizamos los primeros 5 registros del dataframe df_customers, con el fin de poder ver que campos contiene y tipos de datos"
   ]
  },
  {
   "cell_type": "code",
   "execution_count": 174,
   "id": "4818a9b5-e436-4c77-b5d1-21a2f3b0a36a",
   "metadata": {
    "tags": []
   },
   "outputs": [
    {
     "data": {
      "text/plain": [
       "(99441, 5)"
      ]
     },
     "execution_count": 174,
     "metadata": {},
     "output_type": "execute_result"
    }
   ],
   "source": [
    "df_customers.shape # Con shape lo que hacemos, es visualizar la estructura del dataframe, con el fin de ver cuantos registros y campos hay"
   ]
  },
  {
   "cell_type": "code",
   "execution_count": 176,
   "id": "74875096-8b39-415b-9bb5-c81294b4b56e",
   "metadata": {
    "tags": []
   },
   "outputs": [
    {
     "data": {
      "text/plain": [
       "customer_id                 object\n",
       "customer_unique_id          object\n",
       "customer_zip_code_prefix     int64\n",
       "customer_city               object\n",
       "customer_state              object\n",
       "dtype: object"
      ]
     },
     "execution_count": 176,
     "metadata": {},
     "output_type": "execute_result"
    }
   ],
   "source": [
    "df_customers.dtypes # Con dtypes, visualizamos el tipo de dato que encontramos en cada campo"
   ]
  },
  {
   "cell_type": "code",
   "execution_count": 178,
   "id": "30268f0f-26af-4944-a705-43f99fc364ce",
   "metadata": {
    "tags": []
   },
   "outputs": [
    {
     "data": {
      "text/plain": [
       "customer_id                 0\n",
       "customer_unique_id          0\n",
       "customer_zip_code_prefix    0\n",
       "customer_city               0\n",
       "customer_state              0\n",
       "dtype: int64"
      ]
     },
     "execution_count": 178,
     "metadata": {},
     "output_type": "execute_result"
    }
   ],
   "source": [
    "df_customers.isnull().sum() # con isnull.sum, realizamos un conteo de cantidad de valores nulos en cada campo"
   ]
  },
  {
   "cell_type": "code",
   "execution_count": 180,
   "id": "4b3decbc-9157-46d1-be13-bbe52ab4dade",
   "metadata": {
    "tags": []
   },
   "outputs": [
    {
     "data": {
      "text/plain": [
       "0"
      ]
     },
     "execution_count": 180,
     "metadata": {},
     "output_type": "execute_result"
    }
   ],
   "source": [
    "df_customers.duplicated().sum() # Con duplicated.sum, realizamos un conteo de valores duplicados"
   ]
  },
  {
   "cell_type": "markdown",
   "id": "35771c86-7ae3-460d-9580-ec8d5febb871",
   "metadata": {},
   "source": [
    "PODEMOS OBSERVAR EN EL DATAFRAME DF_CUSTOMERS, QUE PRESETA 5 CAMPOS Y 99441 REGISTROS\n",
    "\n",
    "TENEMOS CAMPOS DE TIPO OBJETO Y DE TIPO ENTERO, LOS CUALES MAS ADELANTE SERA ESTUDIADO\n",
    "\n",
    "SI ES NECESARIO ESTABLECER UN NUEVO TIPO DE VARIABLE\n",
    "\n",
    "POR ULTIMO PODES INFORMAR QUE NO PRESENTA DATOS NULOS, POR LO CUAL NO SERA NECESARIO TRATAR DICHO TEMA Y TAMPOCO CONTIENE REGISTROS DUPLICADOS"
   ]
  },
  {
   "cell_type": "markdown",
   "id": "a6a7f871-10fd-4b8e-a48c-dbe1c3a6cbbb",
   "metadata": {
    "jp-MarkdownHeadingCollapsed": true,
    "tags": []
   },
   "source": [
    "#### DATAFRAME DF_ORDERS"
   ]
  },
  {
   "cell_type": "code",
   "execution_count": 183,
   "id": "86136830-c4f9-4d3a-9082-6ea8f5a5fc43",
   "metadata": {
    "tags": []
   },
   "outputs": [
    {
     "data": {
      "text/html": [
       "<div>\n",
       "<style scoped>\n",
       "    .dataframe tbody tr th:only-of-type {\n",
       "        vertical-align: middle;\n",
       "    }\n",
       "\n",
       "    .dataframe tbody tr th {\n",
       "        vertical-align: top;\n",
       "    }\n",
       "\n",
       "    .dataframe thead th {\n",
       "        text-align: right;\n",
       "    }\n",
       "</style>\n",
       "<table border=\"1\" class=\"dataframe\">\n",
       "  <thead>\n",
       "    <tr style=\"text-align: right;\">\n",
       "      <th></th>\n",
       "      <th>order_id</th>\n",
       "      <th>customer_id</th>\n",
       "      <th>order_status</th>\n",
       "      <th>order_purchase_timestamp</th>\n",
       "      <th>order_approved_at</th>\n",
       "      <th>order_delivered_carrier_date</th>\n",
       "      <th>order_delivered_customer_date</th>\n",
       "      <th>order_estimated_delivery_date</th>\n",
       "    </tr>\n",
       "  </thead>\n",
       "  <tbody>\n",
       "    <tr>\n",
       "      <th>0</th>\n",
       "      <td>e481f51cbdc54678b7cc49136f2d6af7</td>\n",
       "      <td>9ef432eb6251297304e76186b10a928d</td>\n",
       "      <td>delivered</td>\n",
       "      <td>2017-10-02 10:56:33</td>\n",
       "      <td>2017-10-02 11:07:15</td>\n",
       "      <td>2017-10-04 19:55:00</td>\n",
       "      <td>2017-10-10 21:25:13</td>\n",
       "      <td>2017-10-18 00:00:00</td>\n",
       "    </tr>\n",
       "    <tr>\n",
       "      <th>1</th>\n",
       "      <td>53cdb2fc8bc7dce0b6741e2150273451</td>\n",
       "      <td>b0830fb4747a6c6d20dea0b8c802d7ef</td>\n",
       "      <td>delivered</td>\n",
       "      <td>2018-07-24 20:41:37</td>\n",
       "      <td>2018-07-26 03:24:27</td>\n",
       "      <td>2018-07-26 14:31:00</td>\n",
       "      <td>2018-08-07 15:27:45</td>\n",
       "      <td>2018-08-13 00:00:00</td>\n",
       "    </tr>\n",
       "    <tr>\n",
       "      <th>2</th>\n",
       "      <td>47770eb9100c2d0c44946d9cf07ec65d</td>\n",
       "      <td>41ce2a54c0b03bf3443c3d931a367089</td>\n",
       "      <td>delivered</td>\n",
       "      <td>2018-08-08 08:38:49</td>\n",
       "      <td>2018-08-08 08:55:23</td>\n",
       "      <td>2018-08-08 13:50:00</td>\n",
       "      <td>2018-08-17 18:06:29</td>\n",
       "      <td>2018-09-04 00:00:00</td>\n",
       "    </tr>\n",
       "    <tr>\n",
       "      <th>3</th>\n",
       "      <td>949d5b44dbf5de918fe9c16f97b45f8a</td>\n",
       "      <td>f88197465ea7920adcdbec7375364d82</td>\n",
       "      <td>delivered</td>\n",
       "      <td>2017-11-18 19:28:06</td>\n",
       "      <td>2017-11-18 19:45:59</td>\n",
       "      <td>2017-11-22 13:39:59</td>\n",
       "      <td>2017-12-02 00:28:42</td>\n",
       "      <td>2017-12-15 00:00:00</td>\n",
       "    </tr>\n",
       "    <tr>\n",
       "      <th>4</th>\n",
       "      <td>ad21c59c0840e6cb83a9ceb5573f8159</td>\n",
       "      <td>8ab97904e6daea8866dbdbc4fb7aad2c</td>\n",
       "      <td>delivered</td>\n",
       "      <td>2018-02-13 21:18:39</td>\n",
       "      <td>2018-02-13 22:20:29</td>\n",
       "      <td>2018-02-14 19:46:34</td>\n",
       "      <td>2018-02-16 18:17:02</td>\n",
       "      <td>2018-02-26 00:00:00</td>\n",
       "    </tr>\n",
       "  </tbody>\n",
       "</table>\n",
       "</div>"
      ],
      "text/plain": [
       "                           order_id                       customer_id  \\\n",
       "0  e481f51cbdc54678b7cc49136f2d6af7  9ef432eb6251297304e76186b10a928d   \n",
       "1  53cdb2fc8bc7dce0b6741e2150273451  b0830fb4747a6c6d20dea0b8c802d7ef   \n",
       "2  47770eb9100c2d0c44946d9cf07ec65d  41ce2a54c0b03bf3443c3d931a367089   \n",
       "3  949d5b44dbf5de918fe9c16f97b45f8a  f88197465ea7920adcdbec7375364d82   \n",
       "4  ad21c59c0840e6cb83a9ceb5573f8159  8ab97904e6daea8866dbdbc4fb7aad2c   \n",
       "\n",
       "  order_status order_purchase_timestamp    order_approved_at  \\\n",
       "0    delivered      2017-10-02 10:56:33  2017-10-02 11:07:15   \n",
       "1    delivered      2018-07-24 20:41:37  2018-07-26 03:24:27   \n",
       "2    delivered      2018-08-08 08:38:49  2018-08-08 08:55:23   \n",
       "3    delivered      2017-11-18 19:28:06  2017-11-18 19:45:59   \n",
       "4    delivered      2018-02-13 21:18:39  2018-02-13 22:20:29   \n",
       "\n",
       "  order_delivered_carrier_date order_delivered_customer_date  \\\n",
       "0          2017-10-04 19:55:00           2017-10-10 21:25:13   \n",
       "1          2018-07-26 14:31:00           2018-08-07 15:27:45   \n",
       "2          2018-08-08 13:50:00           2018-08-17 18:06:29   \n",
       "3          2017-11-22 13:39:59           2017-12-02 00:28:42   \n",
       "4          2018-02-14 19:46:34           2018-02-16 18:17:02   \n",
       "\n",
       "  order_estimated_delivery_date  \n",
       "0           2017-10-18 00:00:00  \n",
       "1           2018-08-13 00:00:00  \n",
       "2           2018-09-04 00:00:00  \n",
       "3           2017-12-15 00:00:00  \n",
       "4           2018-02-26 00:00:00  "
      ]
     },
     "execution_count": 183,
     "metadata": {},
     "output_type": "execute_result"
    }
   ],
   "source": [
    "df_orders.head() # visualizamos los primero 5 registros del dataframe df_orders, con el fin de ver que campos y tipo de datos hay"
   ]
  },
  {
   "cell_type": "code",
   "execution_count": 185,
   "id": "7ecff5a8-21c1-4a61-8080-35a2754d1065",
   "metadata": {
    "tags": []
   },
   "outputs": [
    {
     "data": {
      "text/plain": [
       "(99441, 8)"
      ]
     },
     "execution_count": 185,
     "metadata": {},
     "output_type": "execute_result"
    }
   ],
   "source": [
    "df_orders.shape # con shape vemos la estructura del dataframe, pasa saber cuantos registros y campos hay"
   ]
  },
  {
   "cell_type": "code",
   "execution_count": 187,
   "id": "c5aa3128-2852-413f-b461-eba2450cca16",
   "metadata": {
    "tags": []
   },
   "outputs": [
    {
     "data": {
      "text/plain": [
       "order_id                         object\n",
       "customer_id                      object\n",
       "order_status                     object\n",
       "order_purchase_timestamp         object\n",
       "order_approved_at                object\n",
       "order_delivered_carrier_date     object\n",
       "order_delivered_customer_date    object\n",
       "order_estimated_delivery_date    object\n",
       "dtype: object"
      ]
     },
     "execution_count": 187,
     "metadata": {},
     "output_type": "execute_result"
    }
   ],
   "source": [
    "df_orders.dtypes # con dtype vemos que tipos de datos tenemos en los campos del dataframe"
   ]
  },
  {
   "cell_type": "code",
   "execution_count": 189,
   "id": "ac916159-7418-4d8a-9181-a5b39564d882",
   "metadata": {
    "tags": []
   },
   "outputs": [
    {
     "data": {
      "text/plain": [
       "order_id                            0\n",
       "customer_id                         0\n",
       "order_status                        0\n",
       "order_purchase_timestamp            0\n",
       "order_approved_at                 160\n",
       "order_delivered_carrier_date     1783\n",
       "order_delivered_customer_date    2965\n",
       "order_estimated_delivery_date       0\n",
       "dtype: int64"
      ]
     },
     "execution_count": 189,
     "metadata": {},
     "output_type": "execute_result"
    }
   ],
   "source": [
    "df_orders.isnull().sum() # con isnull.sum podemos ver la cantidad de valores nulos por cada campo"
   ]
  },
  {
   "cell_type": "code",
   "execution_count": 191,
   "id": "d91c3758-8a29-4ad0-a19b-00271fea404d",
   "metadata": {
    "tags": []
   },
   "outputs": [
    {
     "data": {
      "text/plain": [
       "0"
      ]
     },
     "execution_count": 191,
     "metadata": {},
     "output_type": "execute_result"
    }
   ],
   "source": [
    "df_orders.duplicated().sum() # Con duplicated.sum podemos visualizar cuantos calores duplicados hay"
   ]
  },
  {
   "cell_type": "markdown",
   "id": "6a00de23-4749-416d-a5fc-42b66be38a7d",
   "metadata": {},
   "source": [
    "PODEMOS OBSERVAR EN EL DATAFRAME DF_ORDERS, QUE PRESETA 8 CAMPOS Y 99441 REGISTROS\n",
    "\n",
    "TENEMOS TODOS LOS CAMPOS DE TIPO OBJETO, PERO SE OBSERVAN REGISTOS DE FECHAS, POR LO QUE SERA NECESARIO\n",
    "\n",
    "PASARLOS A TIPO DATE. TAMBIEN SERA ESTUDIADO SI ES NECESARIO ESTABLECER UN NUEVO TIPO DE VARIABLE PARA LOS CAMPOS RESTANTES\n",
    "\n",
    "POR ULTIMO PODEMOS INFORMAR QUE PRESENTA REGISTROS NULOS, EN TRES CAMPOS, LOS CUAL DEBERÁ SER TRATADO MAS ADELANTE, EVALUANDO CUAL ES LA ACCIÓN\n",
    "\n",
    "MAS CONVENIENTE PARA ESTE CASO Y TAMBIÉN PODEMOS DECIR QUE NO PRESENTA DUPLICADOS"
   ]
  },
  {
   "cell_type": "markdown",
   "id": "bd4cc2d0-3e24-45d2-aada-356b7bbfaf32",
   "metadata": {
    "jp-MarkdownHeadingCollapsed": true,
    "tags": []
   },
   "source": [
    "#### DATAFRAME DF_ORDER_ITEMS"
   ]
  },
  {
   "cell_type": "code",
   "execution_count": 194,
   "id": "eae41177-c801-4855-8862-b1121d1afa6b",
   "metadata": {
    "tags": []
   },
   "outputs": [
    {
     "data": {
      "text/html": [
       "<div>\n",
       "<style scoped>\n",
       "    .dataframe tbody tr th:only-of-type {\n",
       "        vertical-align: middle;\n",
       "    }\n",
       "\n",
       "    .dataframe tbody tr th {\n",
       "        vertical-align: top;\n",
       "    }\n",
       "\n",
       "    .dataframe thead th {\n",
       "        text-align: right;\n",
       "    }\n",
       "</style>\n",
       "<table border=\"1\" class=\"dataframe\">\n",
       "  <thead>\n",
       "    <tr style=\"text-align: right;\">\n",
       "      <th></th>\n",
       "      <th>order_id</th>\n",
       "      <th>order_item_id</th>\n",
       "      <th>product_id</th>\n",
       "      <th>seller_id</th>\n",
       "      <th>shipping_limit_date</th>\n",
       "      <th>price</th>\n",
       "      <th>freight_value</th>\n",
       "    </tr>\n",
       "  </thead>\n",
       "  <tbody>\n",
       "    <tr>\n",
       "      <th>0</th>\n",
       "      <td>00010242fe8c5a6d1ba2dd792cb16214</td>\n",
       "      <td>1</td>\n",
       "      <td>4244733e06e7ecb4970a6e2683c13e61</td>\n",
       "      <td>48436dade18ac8b2bce089ec2a041202</td>\n",
       "      <td>2017-09-19 09:45:35</td>\n",
       "      <td>58.90</td>\n",
       "      <td>13.29</td>\n",
       "    </tr>\n",
       "    <tr>\n",
       "      <th>1</th>\n",
       "      <td>00018f77f2f0320c557190d7a144bdd3</td>\n",
       "      <td>1</td>\n",
       "      <td>e5f2d52b802189ee658865ca93d83a8f</td>\n",
       "      <td>dd7ddc04e1b6c2c614352b383efe2d36</td>\n",
       "      <td>2017-05-03 11:05:13</td>\n",
       "      <td>239.90</td>\n",
       "      <td>19.93</td>\n",
       "    </tr>\n",
       "    <tr>\n",
       "      <th>2</th>\n",
       "      <td>000229ec398224ef6ca0657da4fc703e</td>\n",
       "      <td>1</td>\n",
       "      <td>c777355d18b72b67abbeef9df44fd0fd</td>\n",
       "      <td>5b51032eddd242adc84c38acab88f23d</td>\n",
       "      <td>2018-01-18 14:48:30</td>\n",
       "      <td>199.00</td>\n",
       "      <td>17.87</td>\n",
       "    </tr>\n",
       "    <tr>\n",
       "      <th>3</th>\n",
       "      <td>00024acbcdf0a6daa1e931b038114c75</td>\n",
       "      <td>1</td>\n",
       "      <td>7634da152a4610f1595efa32f14722fc</td>\n",
       "      <td>9d7a1d34a5052409006425275ba1c2b4</td>\n",
       "      <td>2018-08-15 10:10:18</td>\n",
       "      <td>12.99</td>\n",
       "      <td>12.79</td>\n",
       "    </tr>\n",
       "    <tr>\n",
       "      <th>4</th>\n",
       "      <td>00042b26cf59d7ce69dfabb4e55b4fd9</td>\n",
       "      <td>1</td>\n",
       "      <td>ac6c3623068f30de03045865e4e10089</td>\n",
       "      <td>df560393f3a51e74553ab94004ba5c87</td>\n",
       "      <td>2017-02-13 13:57:51</td>\n",
       "      <td>199.90</td>\n",
       "      <td>18.14</td>\n",
       "    </tr>\n",
       "  </tbody>\n",
       "</table>\n",
       "</div>"
      ],
      "text/plain": [
       "                           order_id  order_item_id  \\\n",
       "0  00010242fe8c5a6d1ba2dd792cb16214              1   \n",
       "1  00018f77f2f0320c557190d7a144bdd3              1   \n",
       "2  000229ec398224ef6ca0657da4fc703e              1   \n",
       "3  00024acbcdf0a6daa1e931b038114c75              1   \n",
       "4  00042b26cf59d7ce69dfabb4e55b4fd9              1   \n",
       "\n",
       "                         product_id                         seller_id  \\\n",
       "0  4244733e06e7ecb4970a6e2683c13e61  48436dade18ac8b2bce089ec2a041202   \n",
       "1  e5f2d52b802189ee658865ca93d83a8f  dd7ddc04e1b6c2c614352b383efe2d36   \n",
       "2  c777355d18b72b67abbeef9df44fd0fd  5b51032eddd242adc84c38acab88f23d   \n",
       "3  7634da152a4610f1595efa32f14722fc  9d7a1d34a5052409006425275ba1c2b4   \n",
       "4  ac6c3623068f30de03045865e4e10089  df560393f3a51e74553ab94004ba5c87   \n",
       "\n",
       "   shipping_limit_date   price  freight_value  \n",
       "0  2017-09-19 09:45:35   58.90          13.29  \n",
       "1  2017-05-03 11:05:13  239.90          19.93  \n",
       "2  2018-01-18 14:48:30  199.00          17.87  \n",
       "3  2018-08-15 10:10:18   12.99          12.79  \n",
       "4  2017-02-13 13:57:51  199.90          18.14  "
      ]
     },
     "execution_count": 194,
     "metadata": {},
     "output_type": "execute_result"
    }
   ],
   "source": [
    "df_order_items.head() # Visualizamos los primeros 5 registros del dataframe df_order_items, con el fin de poder ver que camposy datos tenemos"
   ]
  },
  {
   "cell_type": "code",
   "execution_count": 196,
   "id": "52bf2299-f811-4aac-bc01-a925c2b1e61c",
   "metadata": {
    "tags": []
   },
   "outputs": [
    {
     "data": {
      "text/plain": [
       "(112650, 7)"
      ]
     },
     "execution_count": 196,
     "metadata": {},
     "output_type": "execute_result"
    }
   ],
   "source": [
    "df_order_items.shape # Con shape estamos viendo la estructura del dataframe para saber cuando registros y campos hay"
   ]
  },
  {
   "cell_type": "code",
   "execution_count": 198,
   "id": "2e22b8f8-6528-49b8-b755-9b5cc24407a0",
   "metadata": {
    "tags": []
   },
   "outputs": [
    {
     "data": {
      "text/plain": [
       "order_id                object\n",
       "order_item_id            int64\n",
       "product_id              object\n",
       "seller_id               object\n",
       "shipping_limit_date     object\n",
       "price                  float64\n",
       "freight_value          float64\n",
       "dtype: object"
      ]
     },
     "execution_count": 198,
     "metadata": {},
     "output_type": "execute_result"
    }
   ],
   "source": [
    "df_order_items.dtypes # Con dtype estamos viendo que tipos de datos tenemos en el dataframe"
   ]
  },
  {
   "cell_type": "code",
   "execution_count": 200,
   "id": "ef52cfd2-547d-4859-a3b3-1fdf4b2caf03",
   "metadata": {
    "tags": []
   },
   "outputs": [
    {
     "data": {
      "text/plain": [
       "order_id               0\n",
       "order_item_id          0\n",
       "product_id             0\n",
       "seller_id              0\n",
       "shipping_limit_date    0\n",
       "price                  0\n",
       "freight_value          0\n",
       "dtype: int64"
      ]
     },
     "execution_count": 200,
     "metadata": {},
     "output_type": "execute_result"
    }
   ],
   "source": [
    "df_order_items.isnull().sum() # en esta linea estamos contando la cantidad de valores nuloes q tenemos en cada campo"
   ]
  },
  {
   "cell_type": "code",
   "execution_count": 202,
   "id": "2f9b36f2-5e6a-4048-8291-5c98f99c31da",
   "metadata": {
    "tags": []
   },
   "outputs": [
    {
     "data": {
      "text/plain": [
       "0"
      ]
     },
     "execution_count": 202,
     "metadata": {},
     "output_type": "execute_result"
    }
   ],
   "source": [
    "df_order_items.duplicated().sum() # En esta lonea estamos visualizando cuando duplicados existen"
   ]
  },
  {
   "cell_type": "markdown",
   "id": "c86dc63e-0256-43d2-82ad-add7446643fa",
   "metadata": {},
   "source": [
    "PODEMOS OBSERVAR EN EL DATAFRAME DF_ORDER_ITEMS, QUE PRESETA 7 CAMPOS Y 112650 REGISTROS\n",
    "\n",
    "TENEMOS CAMPOS DE TIPO OBJETO, DE TIPO ENTERO Y DE TIPO FLOAT, LOS CUALES MAS ADELANTE SERA ESTUDIADO\n",
    "\n",
    "SI ES NECESARIO ESTABLECER UN NUEVO TIPO DE VARIABLE. YA SE PUEDE DECIR QUE EL CAMPO QUE CONTIENE FECHAS, QUE ES DE TIPO OBJETO\n",
    "\n",
    "TENDRA QUE SER SETEADO A TIPO DATE\n",
    "\n",
    "POR ULTIMO PODEMOS INFORMAR QUE NO PRESENTA REGISTROS NULOS Y TAMPOCO TIENE DUPLICADOS"
   ]
  },
  {
   "cell_type": "markdown",
   "id": "f2fe3f50-ef29-4055-9ae2-bb2cd1547d21",
   "metadata": {
    "jp-MarkdownHeadingCollapsed": true,
    "tags": []
   },
   "source": [
    "#### DATAFRAME DF_PRODUCTS"
   ]
  },
  {
   "cell_type": "code",
   "execution_count": 205,
   "id": "82f7af3e-2239-489e-9a96-204c042d085e",
   "metadata": {
    "tags": []
   },
   "outputs": [
    {
     "data": {
      "text/html": [
       "<div>\n",
       "<style scoped>\n",
       "    .dataframe tbody tr th:only-of-type {\n",
       "        vertical-align: middle;\n",
       "    }\n",
       "\n",
       "    .dataframe tbody tr th {\n",
       "        vertical-align: top;\n",
       "    }\n",
       "\n",
       "    .dataframe thead th {\n",
       "        text-align: right;\n",
       "    }\n",
       "</style>\n",
       "<table border=\"1\" class=\"dataframe\">\n",
       "  <thead>\n",
       "    <tr style=\"text-align: right;\">\n",
       "      <th></th>\n",
       "      <th>product_id</th>\n",
       "      <th>product_category_name</th>\n",
       "      <th>product_name_lenght</th>\n",
       "      <th>product_description_lenght</th>\n",
       "      <th>product_photos_qty</th>\n",
       "      <th>product_weight_g</th>\n",
       "      <th>product_length_cm</th>\n",
       "      <th>product_height_cm</th>\n",
       "      <th>product_width_cm</th>\n",
       "    </tr>\n",
       "  </thead>\n",
       "  <tbody>\n",
       "    <tr>\n",
       "      <th>0</th>\n",
       "      <td>1e9e8ef04dbcff4541ed26657ea517e5</td>\n",
       "      <td>perfumaria</td>\n",
       "      <td>40.0</td>\n",
       "      <td>287.0</td>\n",
       "      <td>1.0</td>\n",
       "      <td>225.0</td>\n",
       "      <td>16.0</td>\n",
       "      <td>10.0</td>\n",
       "      <td>14.0</td>\n",
       "    </tr>\n",
       "    <tr>\n",
       "      <th>1</th>\n",
       "      <td>3aa071139cb16b67ca9e5dea641aaa2f</td>\n",
       "      <td>artes</td>\n",
       "      <td>44.0</td>\n",
       "      <td>276.0</td>\n",
       "      <td>1.0</td>\n",
       "      <td>1000.0</td>\n",
       "      <td>30.0</td>\n",
       "      <td>18.0</td>\n",
       "      <td>20.0</td>\n",
       "    </tr>\n",
       "    <tr>\n",
       "      <th>2</th>\n",
       "      <td>96bd76ec8810374ed1b65e291975717f</td>\n",
       "      <td>esporte_lazer</td>\n",
       "      <td>46.0</td>\n",
       "      <td>250.0</td>\n",
       "      <td>1.0</td>\n",
       "      <td>154.0</td>\n",
       "      <td>18.0</td>\n",
       "      <td>9.0</td>\n",
       "      <td>15.0</td>\n",
       "    </tr>\n",
       "    <tr>\n",
       "      <th>3</th>\n",
       "      <td>cef67bcfe19066a932b7673e239eb23d</td>\n",
       "      <td>bebes</td>\n",
       "      <td>27.0</td>\n",
       "      <td>261.0</td>\n",
       "      <td>1.0</td>\n",
       "      <td>371.0</td>\n",
       "      <td>26.0</td>\n",
       "      <td>4.0</td>\n",
       "      <td>26.0</td>\n",
       "    </tr>\n",
       "    <tr>\n",
       "      <th>4</th>\n",
       "      <td>9dc1a7de274444849c219cff195d0b71</td>\n",
       "      <td>utilidades_domesticas</td>\n",
       "      <td>37.0</td>\n",
       "      <td>402.0</td>\n",
       "      <td>4.0</td>\n",
       "      <td>625.0</td>\n",
       "      <td>20.0</td>\n",
       "      <td>17.0</td>\n",
       "      <td>13.0</td>\n",
       "    </tr>\n",
       "  </tbody>\n",
       "</table>\n",
       "</div>"
      ],
      "text/plain": [
       "                         product_id  product_category_name  \\\n",
       "0  1e9e8ef04dbcff4541ed26657ea517e5             perfumaria   \n",
       "1  3aa071139cb16b67ca9e5dea641aaa2f                  artes   \n",
       "2  96bd76ec8810374ed1b65e291975717f          esporte_lazer   \n",
       "3  cef67bcfe19066a932b7673e239eb23d                  bebes   \n",
       "4  9dc1a7de274444849c219cff195d0b71  utilidades_domesticas   \n",
       "\n",
       "   product_name_lenght  product_description_lenght  product_photos_qty  \\\n",
       "0                 40.0                       287.0                 1.0   \n",
       "1                 44.0                       276.0                 1.0   \n",
       "2                 46.0                       250.0                 1.0   \n",
       "3                 27.0                       261.0                 1.0   \n",
       "4                 37.0                       402.0                 4.0   \n",
       "\n",
       "   product_weight_g  product_length_cm  product_height_cm  product_width_cm  \n",
       "0             225.0               16.0               10.0              14.0  \n",
       "1            1000.0               30.0               18.0              20.0  \n",
       "2             154.0               18.0                9.0              15.0  \n",
       "3             371.0               26.0                4.0              26.0  \n",
       "4             625.0               20.0               17.0              13.0  "
      ]
     },
     "execution_count": 205,
     "metadata": {},
     "output_type": "execute_result"
    }
   ],
   "source": [
    "df_products.head() # Con head visualizamos los primeros 5 registros para poder ver que campos y q variables nos encontrmos"
   ]
  },
  {
   "cell_type": "code",
   "execution_count": 207,
   "id": "3ad3238b-8deb-4662-b0eb-916c2f2e8b46",
   "metadata": {
    "tags": []
   },
   "outputs": [
    {
     "data": {
      "text/plain": [
       "(32951, 9)"
      ]
     },
     "execution_count": 207,
     "metadata": {},
     "output_type": "execute_result"
    }
   ],
   "source": [
    "df_products.shape # en esta linea buscamos visualizar cual es la estructura del dataframe, para saber cuantos campos y regustros existen"
   ]
  },
  {
   "cell_type": "code",
   "execution_count": 209,
   "id": "0ffadb5f-ccad-404a-88b0-7d02e9cc66a3",
   "metadata": {
    "tags": []
   },
   "outputs": [
    {
     "data": {
      "text/plain": [
       "product_id                     object\n",
       "product_category_name          object\n",
       "product_name_lenght           float64\n",
       "product_description_lenght    float64\n",
       "product_photos_qty            float64\n",
       "product_weight_g              float64\n",
       "product_length_cm             float64\n",
       "product_height_cm             float64\n",
       "product_width_cm              float64\n",
       "dtype: object"
      ]
     },
     "execution_count": 209,
     "metadata": {},
     "output_type": "execute_result"
    }
   ],
   "source": [
    "df_products.dtypes # con dtypes buscamos saber que tipo de variables existen en cada campo"
   ]
  },
  {
   "cell_type": "code",
   "execution_count": 211,
   "id": "d8096c5a-81d1-4ddb-b6d3-1df3eb03f897",
   "metadata": {
    "tags": []
   },
   "outputs": [
    {
     "data": {
      "text/plain": [
       "product_id                      0\n",
       "product_category_name         610\n",
       "product_name_lenght           610\n",
       "product_description_lenght    610\n",
       "product_photos_qty            610\n",
       "product_weight_g                2\n",
       "product_length_cm               2\n",
       "product_height_cm               2\n",
       "product_width_cm                2\n",
       "dtype: int64"
      ]
     },
     "execution_count": 211,
     "metadata": {},
     "output_type": "execute_result"
    }
   ],
   "source": [
    "df_products.isnull().sum() # visualizamos la cantidad de valores nulos en cada campo"
   ]
  },
  {
   "cell_type": "code",
   "execution_count": 213,
   "id": "99cd797c-3f04-4b70-8973-0a78a86b6a6d",
   "metadata": {
    "tags": []
   },
   "outputs": [
    {
     "data": {
      "text/plain": [
       "0"
      ]
     },
     "execution_count": 213,
     "metadata": {},
     "output_type": "execute_result"
    }
   ],
   "source": [
    "df_products.duplicated().sum() # de esta manera contamos la cantidad de duplicados"
   ]
  },
  {
   "cell_type": "markdown",
   "id": "cbeb76df-c541-48ab-8467-690744d75f6c",
   "metadata": {
    "tags": []
   },
   "source": [
    "PODEMOS OBSERVAR EN EL DATAFRAME DF_PRODUCTS, QUE PRESENTA 9 CAMPOS Y 32951 REGISTROS\n",
    "\n",
    "TENEMOS CAMPOS DE TIPO OBJETO Y DE TIPO FLOAT, LOS CUALES MAS ADELANTE SERAN ESTUDIADO\n",
    "\n",
    "SI ES NECESARIO ESTABLECER UN NUEVO TIPO DE VARIABLE\n",
    "\n",
    "POR ULTIMO PODEMOS VER QUE EL DATAFRAME PRESENTA REGISTROS NULOS EN TODOS SUS CAMPOS, MENOS EN UNO, LO CUAL SERA TRATADO MAS ADELANTE,\n",
    "\n",
    "APLICANDO EL METODO MAS CONVENIENTE PARA ESTE CASO Y TAMBIEN PODEMOS INFORMA QUE NO PRESENTA DUPLICADOS"
   ]
  },
  {
   "cell_type": "markdown",
   "id": "1a305ee5-488d-4791-9e15-9902f852781a",
   "metadata": {
    "tags": []
   },
   "source": [
    "#### DATAFRAME DF_ORDER_PAYMENTS"
   ]
  },
  {
   "cell_type": "code",
   "execution_count": 216,
   "id": "6f866ce5-be84-42af-a965-c1b899213a2c",
   "metadata": {
    "tags": []
   },
   "outputs": [
    {
     "data": {
      "text/html": [
       "<div>\n",
       "<style scoped>\n",
       "    .dataframe tbody tr th:only-of-type {\n",
       "        vertical-align: middle;\n",
       "    }\n",
       "\n",
       "    .dataframe tbody tr th {\n",
       "        vertical-align: top;\n",
       "    }\n",
       "\n",
       "    .dataframe thead th {\n",
       "        text-align: right;\n",
       "    }\n",
       "</style>\n",
       "<table border=\"1\" class=\"dataframe\">\n",
       "  <thead>\n",
       "    <tr style=\"text-align: right;\">\n",
       "      <th></th>\n",
       "      <th>order_id</th>\n",
       "      <th>payment_sequential</th>\n",
       "      <th>payment_type</th>\n",
       "      <th>payment_installments</th>\n",
       "      <th>payment_value</th>\n",
       "    </tr>\n",
       "  </thead>\n",
       "  <tbody>\n",
       "    <tr>\n",
       "      <th>0</th>\n",
       "      <td>b81ef226f3fe1789b1e8b2acac839d17</td>\n",
       "      <td>1</td>\n",
       "      <td>credit_card</td>\n",
       "      <td>8</td>\n",
       "      <td>99.33</td>\n",
       "    </tr>\n",
       "    <tr>\n",
       "      <th>1</th>\n",
       "      <td>a9810da82917af2d9aefd1278f1dcfa0</td>\n",
       "      <td>1</td>\n",
       "      <td>credit_card</td>\n",
       "      <td>1</td>\n",
       "      <td>24.39</td>\n",
       "    </tr>\n",
       "    <tr>\n",
       "      <th>2</th>\n",
       "      <td>25e8ea4e93396b6fa0d3dd708e76c1bd</td>\n",
       "      <td>1</td>\n",
       "      <td>credit_card</td>\n",
       "      <td>1</td>\n",
       "      <td>65.71</td>\n",
       "    </tr>\n",
       "    <tr>\n",
       "      <th>3</th>\n",
       "      <td>ba78997921bbcdc1373bb41e913ab953</td>\n",
       "      <td>1</td>\n",
       "      <td>credit_card</td>\n",
       "      <td>8</td>\n",
       "      <td>107.78</td>\n",
       "    </tr>\n",
       "    <tr>\n",
       "      <th>4</th>\n",
       "      <td>42fdf880ba16b47b59251dd489d4441a</td>\n",
       "      <td>1</td>\n",
       "      <td>credit_card</td>\n",
       "      <td>2</td>\n",
       "      <td>128.45</td>\n",
       "    </tr>\n",
       "  </tbody>\n",
       "</table>\n",
       "</div>"
      ],
      "text/plain": [
       "                           order_id  payment_sequential payment_type  \\\n",
       "0  b81ef226f3fe1789b1e8b2acac839d17                   1  credit_card   \n",
       "1  a9810da82917af2d9aefd1278f1dcfa0                   1  credit_card   \n",
       "2  25e8ea4e93396b6fa0d3dd708e76c1bd                   1  credit_card   \n",
       "3  ba78997921bbcdc1373bb41e913ab953                   1  credit_card   \n",
       "4  42fdf880ba16b47b59251dd489d4441a                   1  credit_card   \n",
       "\n",
       "   payment_installments  payment_value  \n",
       "0                     8          99.33  \n",
       "1                     1          24.39  \n",
       "2                     1          65.71  \n",
       "3                     8         107.78  \n",
       "4                     2         128.45  "
      ]
     },
     "execution_count": 216,
     "metadata": {},
     "output_type": "execute_result"
    }
   ],
   "source": [
    "df_order_payments.head() # En esta linea buscamos visualizar los primeros 5 registros, con el fin de ver los campos y q variables existen"
   ]
  },
  {
   "cell_type": "code",
   "execution_count": 218,
   "id": "70f2bd7e-101e-42e6-a490-a99b5a95f935",
   "metadata": {
    "tags": []
   },
   "outputs": [
    {
     "data": {
      "text/plain": [
       "(103886, 5)"
      ]
     },
     "execution_count": 218,
     "metadata": {},
     "output_type": "execute_result"
    }
   ],
   "source": [
    "df_order_payments.shape # En esta linea se consulta cual es la estructura del dataframe, con el fin de ver la cantidad de campos y registros"
   ]
  },
  {
   "cell_type": "code",
   "execution_count": 220,
   "id": "4a698f78-79b5-42dc-84c9-abe5d8797ec5",
   "metadata": {
    "tags": []
   },
   "outputs": [
    {
     "data": {
      "text/plain": [
       "order_id                 object\n",
       "payment_sequential        int64\n",
       "payment_type             object\n",
       "payment_installments      int64\n",
       "payment_value           float64\n",
       "dtype: object"
      ]
     },
     "execution_count": 220,
     "metadata": {},
     "output_type": "execute_result"
    }
   ],
   "source": [
    "df_order_payments.dtypes # con dtypes consultamos el tipo de variable que existe en cada campo"
   ]
  },
  {
   "cell_type": "code",
   "execution_count": 222,
   "id": "77907b59-0e72-4555-8f9e-8ee813fde3c6",
   "metadata": {
    "tags": []
   },
   "outputs": [
    {
     "data": {
      "text/plain": [
       "order_id                0\n",
       "payment_sequential      0\n",
       "payment_type            0\n",
       "payment_installments    0\n",
       "payment_value           0\n",
       "dtype: int64"
      ]
     },
     "execution_count": 222,
     "metadata": {},
     "output_type": "execute_result"
    }
   ],
   "source": [
    "df_order_payments.isnull().sum() # aca estamos contando la cantidad de valores nulos que existen en cada campo"
   ]
  },
  {
   "cell_type": "code",
   "execution_count": 224,
   "id": "40c3b7c8-bfa1-4454-81a1-f293938ded85",
   "metadata": {
    "tags": []
   },
   "outputs": [
    {
     "data": {
      "text/plain": [
       "0"
      ]
     },
     "execution_count": 224,
     "metadata": {},
     "output_type": "execute_result"
    }
   ],
   "source": [
    "df_order_payments.duplicated().sum() # con esta linea contamos la cantidad de duplicados"
   ]
  },
  {
   "cell_type": "markdown",
   "id": "2fd16db0-08e3-4984-9f6a-2a6325c9772a",
   "metadata": {
    "tags": []
   },
   "source": [
    "PODEMOS OBSERVAR EN EL DATAFRAME DF_ORDER_PAYMENTS, QUE PRENSETA 5 CAMPOS Y 103886 REGISTROS\n",
    "\n",
    "TENEMOS CAMPOS DE TIPO OBJETO, DE TIPO ENTERO Y TIPO FLOAT, LOS CUALES MAS ADELANTE SERA ESTUDIADO\n",
    "\n",
    "SI ES NECESARIO ESTABLECER UN NUEVO TIPO DE VARIABLE\n",
    "\n",
    "POR ULTIMO PODEMOS INFORMAR QUE NO SE PRESENTAN REGISTROS NULOS Y TAMPOCO DUPLICADOS."
   ]
  },
  {
   "cell_type": "markdown",
   "id": "ee3fb09e-37ac-4b81-a379-99f68017d4e7",
   "metadata": {
    "jp-MarkdownHeadingCollapsed": true,
    "tags": []
   },
   "source": [
    "## TRANSFORMACIÓN"
   ]
  },
  {
   "cell_type": "markdown",
   "id": "a76ca6be-a72c-47d1-968a-257f1de6e221",
   "metadata": {
    "jp-MarkdownHeadingCollapsed": true,
    "tags": []
   },
   "source": [
    "###  DF_ORDERS"
   ]
  },
  {
   "cell_type": "markdown",
   "id": "79eb0a8c-508a-4919-9947-71e7e59b95d0",
   "metadata": {
    "tags": []
   },
   "source": [
    "#### ANALIZAMOS VALORES NULOS"
   ]
  },
  {
   "cell_type": "markdown",
   "id": "bf69ecf7-c46d-4981-a05a-bf05ef0377b6",
   "metadata": {},
   "source": [
    "PARA EL TRATAMIENTO DE LOS NULOS EN ESTE DATAFRAME, TENDREMOS EN CONCIDERACION QUE MANTENDREMOS AQUELAS COLUMNAS QUE NO SUPEREN\n",
    "\n",
    "UN 5% DE VALORES NULOS, EN EL TOTAL DE VALORES. UNA VEZ QUE TENGAMOS EL DATAFRAME NUEVO CON LAS COLUMNAS QUE COMPLAN CON DICHA\n",
    "\n",
    "CONDICION, SE PROCEDERÁ A REALIZAR LA ELIMINACION DE LOS REGISTROS QUE CONTENGAN VALORES NULOS."
   ]
  },
  {
   "cell_type": "code",
   "execution_count": 14,
   "id": "d5532816-240e-4a60-bdba-1c3b04a937b1",
   "metadata": {
    "tags": []
   },
   "outputs": [],
   "source": [
    "# En la linea siguiente lo que estamos haciendo es obtener de manera porcentual, respecto a la antidad total de registros, cual es el\n",
    "# porcentaje de valore nulos en cada campo.\n",
    "porcentaje_nulos = (df_orders.isnull().sum())*100/(len(df_orders))\n",
    "porcentaje_nulos\n",
    "\n",
    "# Podemos ver cuales son los porcentajes de nulosque existe en cada campo. En la linea siguiente vamos a filtrar por porcentaje, es decir\n",
    "# los camposque tengan un porcentaje de nulos menor a 5% seran campos considerados, si supera al 5%, esos campos no seran tenidos en cuenta.\n",
    "# Los campos se encuentran en el index, es por eso que estamos guardando en columnas, las columnas que complen con la condicion explicada.\n",
    "# Elcampo que complua con la condicion del 5% y contenga valores nulos, esos registros seran eliminados\n",
    "columnas = porcentaje_nulos[porcentaje_nulos  < 5].index\n",
    "df_orders = df_orders[columnas] # en esta linea estamos modificando el dataframe para que contenga las clumnas deseadas\n",
    "df_orders = df_orders.dropna() # en esta linea estamos eliminado los registros que contienen valores nulos."
   ]
  },
  {
   "cell_type": "markdown",
   "id": "51daae33-14bc-4f9a-80b9-3624a7b8950e",
   "metadata": {
    "tags": []
   },
   "source": [
    "#### CAMBIAMOS CAMPOS A TIPO DATATIME"
   ]
  },
  {
   "cell_type": "code",
   "execution_count": 15,
   "id": "16f09240-1160-400e-9bc0-db2c635c7091",
   "metadata": {
    "tags": []
   },
   "outputs": [],
   "source": [
    "# En esta celda vamos a convertir el tipo de datos de algunos campos a tipo datatime, para eso en la siguiente linea lo que hcemos es\n",
    "# crear una lista con los campos deseados.\n",
    "columnas = [\"order_purchase_timestamp\",\"order_approved_at\",\"order_delivered_carrier_date\",\"order_delivered_customer_date\",\"order_estimated_delivery_date\"]\n",
    "# en la siguiente linea llamamos a la funcon que se encarga de de realizar el cambio de tipo de variable, en la que le enviamos el dataframe que se quiere\n",
    "# modificar y tambien la lista con las columnas que deseamos modificar\n",
    "df_orders_mod = CambioTipoFecha(df_orders,columnas)"
   ]
  },
  {
   "cell_type": "markdown",
   "id": "d51e62d2-e729-46c2-a488-ec1269debe60",
   "metadata": {
    "tags": []
   },
   "source": [
    "#### CAMBIAMOS CAMPOS A TIPO STR"
   ]
  },
  {
   "cell_type": "code",
   "execution_count": 20,
   "id": "6f7ce4ec-545c-461a-ae74-8b3ec562afc9",
   "metadata": {
    "tags": []
   },
   "outputs": [],
   "source": [
    "# En esta celda lo que hacemos es llamar a la funcion que se encarga de realizar el cambio de tipo de dato a tipo str. Para eso en la siguiente linea\n",
    "# lo que hacemos es crear una lista con las columnas que deseamos realizar dicho cambio.\n",
    "columnas = [\"order_id\",\"customer_id\",\"order_status\"]\n",
    "# Una vez que se tenga la lista con los campos deseado, en la siguiente linea llamamos a la funcion y guardamos en df_orders_mod, el dataframe con los\n",
    "# cambios realizados por la funcion.\n",
    "df_orders_mod = CambioTipoStr(df_orders_mod,columnas)"
   ]
  },
  {
   "cell_type": "markdown",
   "id": "0fad19dd-703f-41c4-ac53-cc637dafb70d",
   "metadata": {
    "tags": []
   },
   "source": [
    "#### CAMBIO CAMPO A MINUSCULA"
   ]
  },
  {
   "cell_type": "code",
   "execution_count": 22,
   "id": "9ab8a5e6-f827-4464-882c-ea3b5dd7ff88",
   "metadata": {
    "tags": []
   },
   "outputs": [],
   "source": [
    "# En esta celda lo que se hace es llamar a la funcion que se encarga de hacer que todos los calores de un campo que contriene str, aparezcan\n",
    "# con minuscula. Para eso en la siguiente linea lo que se hace es crear una lista con los campos que deseamos que aparezcan en minuscula.\n",
    "columnas = [\"order_status\"]\n",
    "# Una vez que ya tenemos la lista con los campos, lo que hacemos es llamar a la funcion que se encarga de eso, donde se le envia el dataframe\n",
    "# y la lista con los campos que deseamos modificar.\n",
    "df_orders_mod = CambioMinuscula(df_orders_mod,columnas)"
   ]
  },
  {
   "cell_type": "code",
   "execution_count": 24,
   "id": "0a5d9c65-5c3f-45f1-8143-909c2cb27739",
   "metadata": {
    "tags": []
   },
   "outputs": [
    {
     "data": {
      "text/plain": [
       "order_id                         string[python]\n",
       "customer_id                      string[python]\n",
       "order_status                     string[python]\n",
       "order_purchase_timestamp                 object\n",
       "order_approved_at                        object\n",
       "order_delivered_carrier_date             object\n",
       "order_delivered_customer_date            object\n",
       "order_estimated_delivery_date            object\n",
       "dtype: object"
      ]
     },
     "execution_count": 24,
     "metadata": {},
     "output_type": "execute_result"
    }
   ],
   "source": [
    "df_orders_mod.dtypes\n",
    "# con esta linea podemos visualizar cuales son los tipos de datos de los campos del dataframe que ya fue modificado,\n",
    "# donde podemos ver que ahora tenemos los campos con los tipos de variables deseados"
   ]
  },
  {
   "cell_type": "code",
   "execution_count": 26,
   "id": "aea1cbdc-2423-4662-bfab-07b9d070aaa0",
   "metadata": {
    "tags": []
   },
   "outputs": [
    {
     "data": {
      "text/plain": [
       "order_id                         0\n",
       "customer_id                      0\n",
       "order_status                     0\n",
       "order_purchase_timestamp         0\n",
       "order_approved_at                0\n",
       "order_delivered_carrier_date     0\n",
       "order_delivered_customer_date    0\n",
       "order_estimated_delivery_date    0\n",
       "dtype: int64"
      ]
     },
     "execution_count": 26,
     "metadata": {},
     "output_type": "execute_result"
    }
   ],
   "source": [
    "df_orders_mod.isnull().sum()\n",
    "# Con esta linea buscamos verificar que no existan mas valores nulos, y realmente es posible verificar que en eldataframe\n",
    "# ya no existen valores nulos, que es lo que se buscaba"
   ]
  },
  {
   "cell_type": "code",
   "execution_count": 28,
   "id": "bf5f71ed-4094-4f78-9613-e12cccb40596",
   "metadata": {
    "tags": []
   },
   "outputs": [
    {
     "data": {
      "text/plain": [
       "(96461, 8)"
      ]
     },
     "execution_count": 28,
     "metadata": {},
     "output_type": "execute_result"
    }
   ],
   "source": [
    "df_orders_mod.shape\n",
    "# De esta manera podemos ver que el dataframe sigue conservando la cantidad de campos, pero ya no contiene la misma cantidad de registros,\n",
    "# ya que se han eliminados varios registros."
   ]
  },
  {
   "cell_type": "code",
   "execution_count": 32,
   "id": "aa5e9d63-19d8-43cf-b756-63716c446a0f",
   "metadata": {
    "tags": []
   },
   "outputs": [
    {
     "data": {
      "text/html": [
       "<div>\n",
       "<style scoped>\n",
       "    .dataframe tbody tr th:only-of-type {\n",
       "        vertical-align: middle;\n",
       "    }\n",
       "\n",
       "    .dataframe tbody tr th {\n",
       "        vertical-align: top;\n",
       "    }\n",
       "\n",
       "    .dataframe thead th {\n",
       "        text-align: right;\n",
       "    }\n",
       "</style>\n",
       "<table border=\"1\" class=\"dataframe\">\n",
       "  <thead>\n",
       "    <tr style=\"text-align: right;\">\n",
       "      <th></th>\n",
       "      <th>order_id</th>\n",
       "      <th>customer_id</th>\n",
       "      <th>order_status</th>\n",
       "      <th>order_purchase_timestamp</th>\n",
       "      <th>order_approved_at</th>\n",
       "      <th>order_delivered_carrier_date</th>\n",
       "      <th>order_delivered_customer_date</th>\n",
       "      <th>order_estimated_delivery_date</th>\n",
       "    </tr>\n",
       "  </thead>\n",
       "  <tbody>\n",
       "    <tr>\n",
       "      <th>0</th>\n",
       "      <td>e481f51cbdc54678b7cc49136f2d6af7</td>\n",
       "      <td>9ef432eb6251297304e76186b10a928d</td>\n",
       "      <td>delivered</td>\n",
       "      <td>2017-10-02</td>\n",
       "      <td>2017-10-02</td>\n",
       "      <td>2017-10-04</td>\n",
       "      <td>2017-10-10</td>\n",
       "      <td>2017-10-18</td>\n",
       "    </tr>\n",
       "    <tr>\n",
       "      <th>1</th>\n",
       "      <td>53cdb2fc8bc7dce0b6741e2150273451</td>\n",
       "      <td>b0830fb4747a6c6d20dea0b8c802d7ef</td>\n",
       "      <td>delivered</td>\n",
       "      <td>2018-07-24</td>\n",
       "      <td>2018-07-26</td>\n",
       "      <td>2018-07-26</td>\n",
       "      <td>2018-08-07</td>\n",
       "      <td>2018-08-13</td>\n",
       "    </tr>\n",
       "    <tr>\n",
       "      <th>2</th>\n",
       "      <td>47770eb9100c2d0c44946d9cf07ec65d</td>\n",
       "      <td>41ce2a54c0b03bf3443c3d931a367089</td>\n",
       "      <td>delivered</td>\n",
       "      <td>2018-08-08</td>\n",
       "      <td>2018-08-08</td>\n",
       "      <td>2018-08-08</td>\n",
       "      <td>2018-08-17</td>\n",
       "      <td>2018-09-04</td>\n",
       "    </tr>\n",
       "    <tr>\n",
       "      <th>3</th>\n",
       "      <td>949d5b44dbf5de918fe9c16f97b45f8a</td>\n",
       "      <td>f88197465ea7920adcdbec7375364d82</td>\n",
       "      <td>delivered</td>\n",
       "      <td>2017-11-18</td>\n",
       "      <td>2017-11-18</td>\n",
       "      <td>2017-11-22</td>\n",
       "      <td>2017-12-02</td>\n",
       "      <td>2017-12-15</td>\n",
       "    </tr>\n",
       "    <tr>\n",
       "      <th>4</th>\n",
       "      <td>ad21c59c0840e6cb83a9ceb5573f8159</td>\n",
       "      <td>8ab97904e6daea8866dbdbc4fb7aad2c</td>\n",
       "      <td>delivered</td>\n",
       "      <td>2018-02-13</td>\n",
       "      <td>2018-02-13</td>\n",
       "      <td>2018-02-14</td>\n",
       "      <td>2018-02-16</td>\n",
       "      <td>2018-02-26</td>\n",
       "    </tr>\n",
       "  </tbody>\n",
       "</table>\n",
       "</div>"
      ],
      "text/plain": [
       "                           order_id                       customer_id  \\\n",
       "0  e481f51cbdc54678b7cc49136f2d6af7  9ef432eb6251297304e76186b10a928d   \n",
       "1  53cdb2fc8bc7dce0b6741e2150273451  b0830fb4747a6c6d20dea0b8c802d7ef   \n",
       "2  47770eb9100c2d0c44946d9cf07ec65d  41ce2a54c0b03bf3443c3d931a367089   \n",
       "3  949d5b44dbf5de918fe9c16f97b45f8a  f88197465ea7920adcdbec7375364d82   \n",
       "4  ad21c59c0840e6cb83a9ceb5573f8159  8ab97904e6daea8866dbdbc4fb7aad2c   \n",
       "\n",
       "  order_status order_purchase_timestamp order_approved_at  \\\n",
       "0    delivered               2017-10-02        2017-10-02   \n",
       "1    delivered               2018-07-24        2018-07-26   \n",
       "2    delivered               2018-08-08        2018-08-08   \n",
       "3    delivered               2017-11-18        2017-11-18   \n",
       "4    delivered               2018-02-13        2018-02-13   \n",
       "\n",
       "  order_delivered_carrier_date order_delivered_customer_date  \\\n",
       "0                   2017-10-04                    2017-10-10   \n",
       "1                   2018-07-26                    2018-08-07   \n",
       "2                   2018-08-08                    2018-08-17   \n",
       "3                   2017-11-22                    2017-12-02   \n",
       "4                   2018-02-14                    2018-02-16   \n",
       "\n",
       "  order_estimated_delivery_date  \n",
       "0                    2017-10-18  \n",
       "1                    2018-08-13  \n",
       "2                    2018-09-04  \n",
       "3                    2017-12-15  \n",
       "4                    2018-02-26  "
      ]
     },
     "execution_count": 32,
     "metadata": {},
     "output_type": "execute_result"
    }
   ],
   "source": [
    "df_orders_mod.head()\n",
    "# en esta linea volvemos a visualizar los primeros 5 registros del dataframe modificado, con el fin de poder visualizar\n",
    "# lo cambios realizados."
   ]
  },
  {
   "cell_type": "markdown",
   "id": "5bd0c42b-c927-4113-a05f-1e1c0dbfc11a",
   "metadata": {
    "jp-MarkdownHeadingCollapsed": true,
    "tags": []
   },
   "source": [
    "### DF_CUSTOMERS"
   ]
  },
  {
   "cell_type": "markdown",
   "id": "61e73d28-1d2e-4fee-bd86-aea703f69282",
   "metadata": {
    "tags": []
   },
   "source": [
    "#### CAMBIAMOS CAMPOS A TIPO STR"
   ]
  },
  {
   "cell_type": "code",
   "execution_count": 49,
   "id": "f0372a4e-4187-4671-9c83-3eff273c97a7",
   "metadata": {
    "tags": []
   },
   "outputs": [],
   "source": [
    "# En esta celda lo que buscamos hacer es cambiar el tipo de datos de algunas columnas en tipo str. En la siguiente linea\n",
    "# creamos una lista con las columnas a las cuales neceitamos realizar dicho cambio\n",
    "columnas = [\"customer_id\",\"customer_unique_id\",\"customer_city\",\"customer_state\"]\n",
    "# En la linea siguiente llamamos a la funcion encargada de dicha tarea, en donde enviamos el dataframe que deceamos modifical\n",
    "# y tambien las columnas de dicho dataframe qye queremos cambiar\n",
    "df_customers_mod = CambioTipoStr(df_customers,columnas)"
   ]
  },
  {
   "cell_type": "markdown",
   "id": "4261ed7f-37e4-4f21-8352-0f5322e74ffa",
   "metadata": {
    "tags": []
   },
   "source": [
    "#### CAMBIO CAMPO A MINUSCULA"
   ]
  },
  {
   "cell_type": "code",
   "execution_count": 51,
   "id": "bd4eae2c-f480-4ae2-9940-bfc299f97480",
   "metadata": {
    "tags": []
   },
   "outputs": [],
   "source": [
    "# En la sguiente celda buscamos modificar columnas que son str y que aparezcan todos los registros escritos en minuscula\n",
    "# en la linea siguiente creamos una lista con las columnas que necesitamos modificar\n",
    "columnas = [\"customer_city\"]\n",
    "# ahora llamamos a la funcion encargada de eso yle enviamos el dataframe que necesitamos modificar, con las\n",
    "# columnas necesarias\n",
    "df_customers_mod = CambioMinuscula(df_customers_mod,columnas)"
   ]
  },
  {
   "cell_type": "markdown",
   "id": "c72e7930-b391-4694-9a11-c939bad91807",
   "metadata": {
    "tags": []
   },
   "source": [
    "#### CAMBIO CAMPO A MAYUSCULA"
   ]
  },
  {
   "cell_type": "code",
   "execution_count": 53,
   "id": "2cf4da38-5011-444b-adcb-9a9d3005f72d",
   "metadata": {
    "tags": []
   },
   "outputs": [],
   "source": [
    "# En la sguiente celda buscamos modificar columnas que son str y que aparezcan todos los registros escritos en mayuscula\n",
    "# en la linea siguiente creamos una lista con las columnas que necesitamos modificar\n",
    "columnas = [\"customer_state\"]\n",
    "# ahora llamamos a la funcion encargada de eso yle enviamos el dataframe que necesitamos modificar, con las\n",
    "# columnas necesarias\n",
    "df_customers_mod = CambioMayuscula(df_customers_mod,columnas)"
   ]
  },
  {
   "cell_type": "code",
   "execution_count": 55,
   "id": "bba287aa-e5ce-45e2-82f6-b372cd4e4474",
   "metadata": {
    "tags": []
   },
   "outputs": [
    {
     "data": {
      "text/plain": [
       "customer_id                 string[python]\n",
       "customer_unique_id          string[python]\n",
       "customer_zip_code_prefix             int64\n",
       "customer_city               string[python]\n",
       "customer_state              string[python]\n",
       "dtype: object"
      ]
     },
     "execution_count": 55,
     "metadata": {},
     "output_type": "execute_result"
    }
   ],
   "source": [
    "# con dtypes vamos a controlar que se hayan realizado los cambios de tipo de datos. \n",
    "df_customers_mod.dtypes"
   ]
  },
  {
   "cell_type": "code",
   "execution_count": 57,
   "id": "b2b07cc1-7360-4002-9d03-977a4357347e",
   "metadata": {
    "tags": []
   },
   "outputs": [
    {
     "data": {
      "text/html": [
       "<div>\n",
       "<style scoped>\n",
       "    .dataframe tbody tr th:only-of-type {\n",
       "        vertical-align: middle;\n",
       "    }\n",
       "\n",
       "    .dataframe tbody tr th {\n",
       "        vertical-align: top;\n",
       "    }\n",
       "\n",
       "    .dataframe thead th {\n",
       "        text-align: right;\n",
       "    }\n",
       "</style>\n",
       "<table border=\"1\" class=\"dataframe\">\n",
       "  <thead>\n",
       "    <tr style=\"text-align: right;\">\n",
       "      <th></th>\n",
       "      <th>customer_id</th>\n",
       "      <th>customer_unique_id</th>\n",
       "      <th>customer_zip_code_prefix</th>\n",
       "      <th>customer_city</th>\n",
       "      <th>customer_state</th>\n",
       "    </tr>\n",
       "  </thead>\n",
       "  <tbody>\n",
       "    <tr>\n",
       "      <th>0</th>\n",
       "      <td>06b8999e2fba1a1fbc88172c00ba8bc7</td>\n",
       "      <td>861eff4711a542e4b93843c6dd7febb0</td>\n",
       "      <td>14409</td>\n",
       "      <td>franca</td>\n",
       "      <td>SP</td>\n",
       "    </tr>\n",
       "    <tr>\n",
       "      <th>1</th>\n",
       "      <td>18955e83d337fd6b2def6b18a428ac77</td>\n",
       "      <td>290c77bc529b7ac935b93aa66c333dc3</td>\n",
       "      <td>9790</td>\n",
       "      <td>sao bernardo do campo</td>\n",
       "      <td>SP</td>\n",
       "    </tr>\n",
       "    <tr>\n",
       "      <th>2</th>\n",
       "      <td>4e7b3e00288586ebd08712fdd0374a03</td>\n",
       "      <td>060e732b5b29e8181a18229c7b0b2b5e</td>\n",
       "      <td>1151</td>\n",
       "      <td>sao paulo</td>\n",
       "      <td>SP</td>\n",
       "    </tr>\n",
       "    <tr>\n",
       "      <th>3</th>\n",
       "      <td>b2b6027bc5c5109e529d4dc6358b12c3</td>\n",
       "      <td>259dac757896d24d7702b9acbbff3f3c</td>\n",
       "      <td>8775</td>\n",
       "      <td>mogi das cruzes</td>\n",
       "      <td>SP</td>\n",
       "    </tr>\n",
       "    <tr>\n",
       "      <th>4</th>\n",
       "      <td>4f2d8ab171c80ec8364f7c12e35b23ad</td>\n",
       "      <td>345ecd01c38d18a9036ed96c73b8d066</td>\n",
       "      <td>13056</td>\n",
       "      <td>campinas</td>\n",
       "      <td>SP</td>\n",
       "    </tr>\n",
       "  </tbody>\n",
       "</table>\n",
       "</div>"
      ],
      "text/plain": [
       "                        customer_id                customer_unique_id  \\\n",
       "0  06b8999e2fba1a1fbc88172c00ba8bc7  861eff4711a542e4b93843c6dd7febb0   \n",
       "1  18955e83d337fd6b2def6b18a428ac77  290c77bc529b7ac935b93aa66c333dc3   \n",
       "2  4e7b3e00288586ebd08712fdd0374a03  060e732b5b29e8181a18229c7b0b2b5e   \n",
       "3  b2b6027bc5c5109e529d4dc6358b12c3  259dac757896d24d7702b9acbbff3f3c   \n",
       "4  4f2d8ab171c80ec8364f7c12e35b23ad  345ecd01c38d18a9036ed96c73b8d066   \n",
       "\n",
       "   customer_zip_code_prefix          customer_city customer_state  \n",
       "0                     14409                 franca             SP  \n",
       "1                      9790  sao bernardo do campo             SP  \n",
       "2                      1151              sao paulo             SP  \n",
       "3                      8775        mogi das cruzes             SP  \n",
       "4                     13056               campinas             SP  "
      ]
     },
     "execution_count": 57,
     "metadata": {},
     "output_type": "execute_result"
    }
   ],
   "source": [
    "# visualmente controlamos los primeros 5 registros del dataframe, con el fin de podecon controlar si se hicieron\n",
    "# los cambios anteriores\n",
    "df_customers_mod.head()"
   ]
  },
  {
   "cell_type": "markdown",
   "id": "d4167d99-07dd-47d6-b88d-d40dc3eed96c",
   "metadata": {
    "jp-MarkdownHeadingCollapsed": true,
    "tags": []
   },
   "source": [
    "### DF_ORDER_ITEMS"
   ]
  },
  {
   "cell_type": "markdown",
   "id": "6045b3e6-d450-45c9-bfef-c8187039c312",
   "metadata": {
    "tags": []
   },
   "source": [
    "#### CAMBIAMOS CAMPOS A TIPO DATATIME"
   ]
  },
  {
   "cell_type": "code",
   "execution_count": 59,
   "id": "9a251d35-2ad7-4c4f-94ef-a7488c9869fc",
   "metadata": {
    "tags": []
   },
   "outputs": [],
   "source": [
    "# en esta celda llamamos a la funcion encargada de cambiar el tipo de dato de las columnas a tipo datatime\n",
    "# en la siguiente linea creamos una lista con las columas que necesitamos realizar dicho cambio\n",
    "columnas = [\"shipping_limit_date\"]\n",
    "# ahora llamamos a la funcion y le enviamos el dataframe y las columnas que deseanis cambiar\n",
    "df_order_items_mod = CambioTipoFecha(df_order_items,columnas)"
   ]
  },
  {
   "cell_type": "markdown",
   "id": "ea14d997-3860-44a3-9765-00fb1f490683",
   "metadata": {
    "tags": []
   },
   "source": [
    "#### CAMBIAMOS DATOS A TIPO STR"
   ]
  },
  {
   "cell_type": "code",
   "execution_count": 61,
   "id": "f7069f53-23cf-491e-bc7f-f97b0ea181b9",
   "metadata": {
    "tags": []
   },
   "outputs": [],
   "source": [
    "# en esta celda llamanos a la funcion encargada de cambiar el tipo de datos de las columnas a str\n",
    "# en la siguiente line creamos una lista con las columnas que necesitamos cambiar\n",
    "columnas = [\"order_id\",\"product_id\",\"seller_id\"]\n",
    "# ahora llamamos a la funcion y le enviamos el dataframe necesario con las columnas que deseamos cambiar\n",
    "df_order_items_mod = CambioTipoStr(df_order_items_mod,columnas)"
   ]
  },
  {
   "cell_type": "code",
   "execution_count": 63,
   "id": "13887723-ff03-486a-ae49-dc418905b4e6",
   "metadata": {
    "tags": []
   },
   "outputs": [
    {
     "data": {
      "text/plain": [
       "order_id               string[python]\n",
       "order_item_id                   int64\n",
       "product_id             string[python]\n",
       "seller_id              string[python]\n",
       "shipping_limit_date            object\n",
       "price                         float64\n",
       "freight_value                 float64\n",
       "dtype: object"
      ]
     },
     "execution_count": 63,
     "metadata": {},
     "output_type": "execute_result"
    }
   ],
   "source": [
    "# controlamos que los cambios ahora tengas los tipos de datos que necesitamos\n",
    "df_order_items_mod.dtypes"
   ]
  },
  {
   "cell_type": "markdown",
   "id": "fac101cd-e540-4ba1-bf69-7e4cd8a38de8",
   "metadata": {
    "jp-MarkdownHeadingCollapsed": true,
    "tags": []
   },
   "source": [
    "### DF_PRODUCTS"
   ]
  },
  {
   "cell_type": "markdown",
   "id": "8f742a33-ec15-4d3f-ba95-019288701055",
   "metadata": {},
   "source": [
    "#### ANALIZAMOS VALORES NULOS"
   ]
  },
  {
   "cell_type": "markdown",
   "id": "a8702bef-0072-4eaf-8063-e8a337cd341d",
   "metadata": {},
   "source": [
    "ESTE DATAFRAME POSEE 4 COLUMAS CON VALORES NULOS, LAS CUALES SON LAS SIGUINTES:\n",
    "\n",
    "product_category_name         610\n",
    "\n",
    "product_name_lenght           610\n",
    "\n",
    "product_description_lenght    610\n",
    "\n",
    "product_photos_qty            610\n",
    "\n",
    "product_weight_g                2\n",
    "\n",
    "product_length_cm               2\n",
    "\n",
    "product_height_cm               2\n",
    "\n",
    "product_width_cm                2\n",
    "\n",
    "LA REGLA QUE SERA UTILIZADA EN EL MANEJO DE LOS NULOS ES LA SIGUIENTE:\n",
    "\n",
    "PARA EL CAMPO \"product_category_name\" REEMPLAZAREMOS LOS CAMPOS NULS POR \"Desconocida\"\n",
    "\n",
    "PARA EL RESTO DE LOS CAMPOS, REEMPLAZAREMOS LOS NULOS POR EL VALOR \"-1\", EL CUAL DICHO VALOR, INDICA QUE ES DESCONOCIDO EL VALOR REAL.\n",
    "\n",
    "SE TOMO ESTA DECICION, YA QUE LOS CAMPOS CON LOS QUE ESTAMOS TRABAJANDO, NO SON DE VALORES DE PRECIO, NI CANTIDAD DE STOCK, NI OTROS VALORES \n",
    "\n",
    "DE ESE TIPO. LOS VALORES CON LOS QUE TRABAJAMOS EN ESTE DATAFRAME, SON TAMAÑO DE PRODUCTO, LARGO DEL NOMBRE, CANTIDAD DE IMAGENES EN EL POSTEO.\n",
    "\n",
    "SE TENDRA EN CUENTA QUE AL MOMENTO DE QUERER REALIZAR ALGUN CALCULO, DE SER NECESARIO EXCLUIREMOS A LOS REGISTROS SON -1, YA QUE SON DESCONOCIDOS"
   ]
  },
  {
   "cell_type": "code",
   "execution_count": 65,
   "id": "04c3e9be-f130-42eb-8767-fff85c8c2f7a",
   "metadata": {
    "tags": []
   },
   "outputs": [],
   "source": [
    "# en la siguiente line vamos a completar los vlores nulos con la palabra \"Desconocido\"\n",
    "df_products[\"product_category_name\"] = df_products[\"product_category_name\"].fillna(\"Desconocida\")\n",
    "# A continuacion creamos una lista con las columnas que vamos a querer modificar, luego a todas esas columnas la completamos\n",
    "#en sus valores nulos con el valor -1\n",
    "columnas = [\"product_name_lenght\",\"product_description_lenght\",\"product_photos_qty\",\"product_weight_g\",\"product_length_cm\",\"product_height_cm\",\"product_width_cm\"]\n",
    "df_products[columnas] = df_products[columnas].fillna(-1)"
   ]
  },
  {
   "cell_type": "markdown",
   "id": "7bbd09f4-76aa-4662-94d3-595bdf5f1212",
   "metadata": {
    "tags": []
   },
   "source": [
    "#### CAMBIAMOS CAMPOS A TIPO STR"
   ]
  },
  {
   "cell_type": "code",
   "execution_count": 67,
   "id": "8b21f3e5-ad96-421d-adb4-cea986112a3f",
   "metadata": {
    "tags": []
   },
   "outputs": [],
   "source": [
    "# en esta celda lo que hacemos es llamar a la funcion encargada de cambiar el tipo de dato de los campos a tipo str.\n",
    "# en la siguiente linea creamos una lista con los campos que desemaos cambiar el tipo de dato a tipo str\n",
    "columnas = [\"product_id\",\"product_category_name\"]\n",
    "# luego llamamos a la funcion que se encarda de dicha tarea y le eviamos el dataframe y las columnas que deseamos cambiar\n",
    "df_products_mod = CambioTipoStr(df_products,columnas)"
   ]
  },
  {
   "cell_type": "markdown",
   "id": "a8440863-3567-4a6f-a473-7caf6854c6bc",
   "metadata": {
    "tags": []
   },
   "source": [
    "#### CAMBIAMOS CAMPO A MINUSCULA"
   ]
  },
  {
   "cell_type": "code",
   "execution_count": 69,
   "id": "76a3719d-1fa4-4d4e-97e1-a66c4711aeb0",
   "metadata": {
    "tags": []
   },
   "outputs": [],
   "source": [
    "# en esta celda estamos buscando que en los campos deseados del dataframe, nos aseguremos que aparezcan en minuscula.\n",
    "# en la proxima linea creamos una lista con los campos deaseados a cambiar a minuscula\n",
    "columnas = [\"product_category_name\"]\n",
    "# ahora llamanos a la funcion encargada de dicha tarea y le enviamos el dataframe y las columnas que deseamos cambiar\n",
    "df_products_mod = CambioMinuscula(df_products_mod,columnas)"
   ]
  },
  {
   "cell_type": "code",
   "execution_count": 71,
   "id": "e302ab9d-065b-4355-84f2-b9214fdbb821",
   "metadata": {
    "tags": []
   },
   "outputs": [
    {
     "data": {
      "text/plain": [
       "product_id                    string[python]\n",
       "product_category_name         string[python]\n",
       "product_name_lenght                  float64\n",
       "product_description_lenght           float64\n",
       "product_photos_qty                   float64\n",
       "product_weight_g                     float64\n",
       "product_length_cm                    float64\n",
       "product_height_cm                    float64\n",
       "product_width_cm                     float64\n",
       "dtype: object"
      ]
     },
     "execution_count": 71,
     "metadata": {},
     "output_type": "execute_result"
    }
   ],
   "source": [
    "# visualizamos que los campos ahora tengan los tipos de datos que necesitamos\n",
    "df_products_mod.dtypes"
   ]
  },
  {
   "cell_type": "code",
   "execution_count": 73,
   "id": "dafa3e09-5c4b-4128-b99b-88aa58f36ec6",
   "metadata": {
    "tags": []
   },
   "outputs": [
    {
     "data": {
      "text/plain": [
       "product_id                    0\n",
       "product_category_name         0\n",
       "product_name_lenght           0\n",
       "product_description_lenght    0\n",
       "product_photos_qty            0\n",
       "product_weight_g              0\n",
       "product_length_cm             0\n",
       "product_height_cm             0\n",
       "product_width_cm              0\n",
       "dtype: int64"
      ]
     },
     "execution_count": 73,
     "metadata": {},
     "output_type": "execute_result"
    }
   ],
   "source": [
    "#controlamos que la sumatoria de valores nulos en cada campo sea cero\n",
    "df_products_mod.isnull().sum()"
   ]
  },
  {
   "cell_type": "code",
   "execution_count": 75,
   "id": "a09977bc-f29f-47b2-9f1b-abf76c0d2927",
   "metadata": {
    "tags": []
   },
   "outputs": [
    {
     "data": {
      "text/plain": [
       "(32951, 9)"
      ]
     },
     "execution_count": 75,
     "metadata": {},
     "output_type": "execute_result"
    }
   ],
   "source": [
    "# vemos la estructura del dataframe y se observa que la cantidad de columnas sigue siendo la mismoa, al igual que los registros,\n",
    "# ya que no se eliminaron registros, si no que se completaron con otros valres\n",
    "df_products_mod.shape"
   ]
  },
  {
   "cell_type": "code",
   "execution_count": 77,
   "id": "133cb3e9-3e11-47f2-8736-3113dcbd0e82",
   "metadata": {
    "tags": []
   },
   "outputs": [
    {
     "data": {
      "text/html": [
       "<div>\n",
       "<style scoped>\n",
       "    .dataframe tbody tr th:only-of-type {\n",
       "        vertical-align: middle;\n",
       "    }\n",
       "\n",
       "    .dataframe tbody tr th {\n",
       "        vertical-align: top;\n",
       "    }\n",
       "\n",
       "    .dataframe thead th {\n",
       "        text-align: right;\n",
       "    }\n",
       "</style>\n",
       "<table border=\"1\" class=\"dataframe\">\n",
       "  <thead>\n",
       "    <tr style=\"text-align: right;\">\n",
       "      <th></th>\n",
       "      <th>product_id</th>\n",
       "      <th>product_category_name</th>\n",
       "      <th>product_name_lenght</th>\n",
       "      <th>product_description_lenght</th>\n",
       "      <th>product_photos_qty</th>\n",
       "      <th>product_weight_g</th>\n",
       "      <th>product_length_cm</th>\n",
       "      <th>product_height_cm</th>\n",
       "      <th>product_width_cm</th>\n",
       "    </tr>\n",
       "  </thead>\n",
       "  <tbody>\n",
       "    <tr>\n",
       "      <th>0</th>\n",
       "      <td>1e9e8ef04dbcff4541ed26657ea517e5</td>\n",
       "      <td>perfumaria</td>\n",
       "      <td>40.0</td>\n",
       "      <td>287.0</td>\n",
       "      <td>1.0</td>\n",
       "      <td>225.0</td>\n",
       "      <td>16.0</td>\n",
       "      <td>10.0</td>\n",
       "      <td>14.0</td>\n",
       "    </tr>\n",
       "    <tr>\n",
       "      <th>1</th>\n",
       "      <td>3aa071139cb16b67ca9e5dea641aaa2f</td>\n",
       "      <td>artes</td>\n",
       "      <td>44.0</td>\n",
       "      <td>276.0</td>\n",
       "      <td>1.0</td>\n",
       "      <td>1000.0</td>\n",
       "      <td>30.0</td>\n",
       "      <td>18.0</td>\n",
       "      <td>20.0</td>\n",
       "    </tr>\n",
       "    <tr>\n",
       "      <th>2</th>\n",
       "      <td>96bd76ec8810374ed1b65e291975717f</td>\n",
       "      <td>esporte_lazer</td>\n",
       "      <td>46.0</td>\n",
       "      <td>250.0</td>\n",
       "      <td>1.0</td>\n",
       "      <td>154.0</td>\n",
       "      <td>18.0</td>\n",
       "      <td>9.0</td>\n",
       "      <td>15.0</td>\n",
       "    </tr>\n",
       "    <tr>\n",
       "      <th>3</th>\n",
       "      <td>cef67bcfe19066a932b7673e239eb23d</td>\n",
       "      <td>bebes</td>\n",
       "      <td>27.0</td>\n",
       "      <td>261.0</td>\n",
       "      <td>1.0</td>\n",
       "      <td>371.0</td>\n",
       "      <td>26.0</td>\n",
       "      <td>4.0</td>\n",
       "      <td>26.0</td>\n",
       "    </tr>\n",
       "    <tr>\n",
       "      <th>4</th>\n",
       "      <td>9dc1a7de274444849c219cff195d0b71</td>\n",
       "      <td>utilidades_domesticas</td>\n",
       "      <td>37.0</td>\n",
       "      <td>402.0</td>\n",
       "      <td>4.0</td>\n",
       "      <td>625.0</td>\n",
       "      <td>20.0</td>\n",
       "      <td>17.0</td>\n",
       "      <td>13.0</td>\n",
       "    </tr>\n",
       "  </tbody>\n",
       "</table>\n",
       "</div>"
      ],
      "text/plain": [
       "                         product_id  product_category_name  \\\n",
       "0  1e9e8ef04dbcff4541ed26657ea517e5             perfumaria   \n",
       "1  3aa071139cb16b67ca9e5dea641aaa2f                  artes   \n",
       "2  96bd76ec8810374ed1b65e291975717f          esporte_lazer   \n",
       "3  cef67bcfe19066a932b7673e239eb23d                  bebes   \n",
       "4  9dc1a7de274444849c219cff195d0b71  utilidades_domesticas   \n",
       "\n",
       "   product_name_lenght  product_description_lenght  product_photos_qty  \\\n",
       "0                 40.0                       287.0                 1.0   \n",
       "1                 44.0                       276.0                 1.0   \n",
       "2                 46.0                       250.0                 1.0   \n",
       "3                 27.0                       261.0                 1.0   \n",
       "4                 37.0                       402.0                 4.0   \n",
       "\n",
       "   product_weight_g  product_length_cm  product_height_cm  product_width_cm  \n",
       "0             225.0               16.0               10.0              14.0  \n",
       "1            1000.0               30.0               18.0              20.0  \n",
       "2             154.0               18.0                9.0              15.0  \n",
       "3             371.0               26.0                4.0              26.0  \n",
       "4             625.0               20.0               17.0              13.0  "
      ]
     },
     "execution_count": 77,
     "metadata": {},
     "output_type": "execute_result"
    }
   ],
   "source": [
    "# controlamos visualmente que los datos aparezcan como los hemos trabajado\n",
    "df_products_mod.head()"
   ]
  },
  {
   "cell_type": "markdown",
   "id": "5650e67b-b416-4284-b084-28b5d9319aa1",
   "metadata": {
    "jp-MarkdownHeadingCollapsed": true,
    "tags": []
   },
   "source": [
    "### DF_ORDER_PAYMENTS"
   ]
  },
  {
   "cell_type": "markdown",
   "id": "b790a139-4c8d-4600-998f-4aae48769960",
   "metadata": {
    "jp-MarkdownHeadingCollapsed": true,
    "tags": []
   },
   "source": [
    "#### CAMBIAMOS CAMPOS A TIPO STR"
   ]
  },
  {
   "cell_type": "code",
   "execution_count": 79,
   "id": "7a6dd1cc-0d92-4467-912a-5eb54a047573",
   "metadata": {},
   "outputs": [],
   "source": [
    "# en esta caleda llamamos a la funcion encargada de transformar el tipo de dato de los campos de un dataframe a tipo str\n",
    "# en la siguiente linea creamos una lista con los campos que neceitamos mnodificar\n",
    "columnas = [\"order_id\",\"payment_type\"]\n",
    "# ahora llamamos a la funcion, enviandole el dataframe y los campos necesarios\n",
    "df_order_payments_mod = CambioTipoStr(df_order_payments,columnas)"
   ]
  },
  {
   "cell_type": "markdown",
   "id": "304c5841-4ce3-4fa8-902b-d12d30e7e838",
   "metadata": {
    "jp-MarkdownHeadingCollapsed": true,
    "tags": []
   },
   "source": [
    "#### CAMBIAMOS CAMPOS A MINUSCULA"
   ]
  },
  {
   "cell_type": "code",
   "execution_count": 81,
   "id": "c861d3d5-fcb8-4fe7-ab35-67a4cee4e467",
   "metadata": {},
   "outputs": [],
   "source": [
    "# en esta celda llamamos a la funcion encargada de hacer que losvalores de un campo aparezcan en minuscula\n",
    "# en la linea que sigue creamos una lista con los campos que necesitamos cambiar\n",
    "columnas = [\"payment_type\"]\n",
    "# en la linea que sigue llamamos a la funcion y le enviamos el dataframe y los campos deseados\n",
    "df_order_payments_mod = CambioMinuscula(df_order_payments_mod,columnas)"
   ]
  },
  {
   "cell_type": "code",
   "execution_count": 83,
   "id": "6bc3c07e-4f81-4aae-8b05-574c3a64b4e9",
   "metadata": {
    "tags": []
   },
   "outputs": [
    {
     "data": {
      "text/plain": [
       "order_id                string[python]\n",
       "payment_sequential               int64\n",
       "payment_type            string[python]\n",
       "payment_installments             int64\n",
       "payment_value                  float64\n",
       "dtype: object"
      ]
     },
     "execution_count": 83,
     "metadata": {},
     "output_type": "execute_result"
    }
   ],
   "source": [
    "# ahora visualizamos que los tipos de datos de los campos esten como necesitamos.\n",
    "df_order_payments_mod.dtypes"
   ]
  },
  {
   "cell_type": "markdown",
   "id": "afca5c94-2702-49c5-9b87-305e63156cfc",
   "metadata": {
    "jp-MarkdownHeadingCollapsed": true,
    "tags": []
   },
   "source": [
    "### CREACION DE DATAFRAME FINALES"
   ]
  },
  {
   "cell_type": "markdown",
   "id": "cc886818-cc45-4eb3-94b3-79cd12883f2a",
   "metadata": {
    "jp-MarkdownHeadingCollapsed": true,
    "tags": []
   },
   "source": [
    "#### SELECCION DE COLUMNAS"
   ]
  },
  {
   "cell_type": "code",
   "execution_count": 224,
   "id": "505874a8-67ba-4ac9-8753-bb6f122f8df3",
   "metadata": {
    "tags": []
   },
   "outputs": [],
   "source": [
    "# En esta celda lo que realizamos es dejar a cada uno de los dataframe, las columnas que vamos a utilizar\n",
    "\n",
    "df_orders_mod = df_orders_mod[[\"order_id\",\"customer_id\",\"order_purchase_timestamp\",\"order_delivered_customer_date\",\"order_delivered_carrier_date\"]]\n",
    "df_customers_mod = df_customers_mod[[\"customer_id\",\"customer_city\"]]\n",
    "df_order_items_mod = df_order_items_mod[[\"order_id\",\"order_item_id\",\"product_id\",\"price\"]]\n",
    "df_products_mod = df_products_mod[[\"product_id\",\"product_category_name\"]]\n",
    "df_order_payments_mod = df_order_payments_mod[[\"order_id\",\"payment_type\",\"payment_installments\"]]"
   ]
  },
  {
   "cell_type": "markdown",
   "id": "392a1bfd-a5c1-4cfc-80b0-df204a7ba2bf",
   "metadata": {
    "tags": []
   },
   "source": [
    "#### MERGE"
   ]
  },
  {
   "cell_type": "markdown",
   "id": "8735e30d-364d-4d48-8227-995659288c0e",
   "metadata": {
    "jp-MarkdownHeadingCollapsed": true,
    "tags": []
   },
   "source": [
    "##### DF_ORDER Y DF_CUSTOMER"
   ]
  },
  {
   "cell_type": "code",
   "execution_count": 290,
   "id": "422cbbbf-33e0-48bf-9dad-3b26db556331",
   "metadata": {
    "tags": []
   },
   "outputs": [
    {
     "data": {
      "text/plain": [
       "'Por ultimo el merge que se realiza, es para luego poder hacer otro merge con order_item y poder analizar el monto de\\ndinero que ingresa en las mas compradoras, ya que no es lo mismo realizar ,uchas compras, a que genre mucho ingreso,\\nque que pueden ser muchas compras de valores muy bajos y hay otra zona que realiza menos compras, pero de montos mucho\\nmayor, haciendo que se generen mayores ingresos en la empresa'"
      ]
     },
     "execution_count": 290,
     "metadata": {},
     "output_type": "execute_result"
    }
   ],
   "source": [
    "# en la siguiente linea se realiza un merge entre df_orders_mod ydf_customer_mod mediante la columna customer_id\n",
    "# y realizando un merge inner\n",
    "df_customer_order = pd.merge(df_orders_mod,df_customers_mod,how = \"inner\", on = \"customer_id\")\n",
    "\n",
    "# Con este dataframe lo que buscamos es poder ver varios puntos\n",
    "\n",
    "'''Por un lado se va a realizar un estudio de cantidades de compras por lugar geografico, y analizar si se ejecutaran\n",
    " trabajos para reforzar mas las zonas con mayor cantidades de compras o si se realizan trabajos de marketing para zonas\n",
    " en las que hay menos ventasy se quiere lograr una mayor cantidad'''\n",
    "\n",
    "'''Por otro lado analizaremos cuales son las demoras de entrega desde que se realiza la compra, hasta que se entrega el\n",
    " producto al cliente. Al mismo tiempo ver cual es la demora que hay desde que se realiza la compra, hasta que se le entrega\n",
    " el producto al repartidor y analizar si el problema si la mayor demora se ecuentra en la empresa para entregar el producto\n",
    " al repartidor o si el que se demora mas es la empresa de envio en tregar el producto'''\n",
    "\n",
    "'''Por ultimo el merge que se realiza, es para luego poder hacer otro merge con order_item y poder analizar el monto de\n",
    "dinero que ingresa en las mas compradoras, ya que no es lo mismo realizar ,uchas compras, a que genre mucho ingreso,\n",
    "que que pueden ser muchas compras de valores muy bajos y hay otra zona que realiza menos compras, pero de montos mucho\n",
    "mayor, haciendo que se generen mayores ingresos en la empresa'''"
   ]
  },
  {
   "cell_type": "code",
   "execution_count": 292,
   "id": "d1f045f0-d246-477a-b2c2-0bd7d5335255",
   "metadata": {
    "tags": []
   },
   "outputs": [
    {
     "data": {
      "text/html": [
       "<div>\n",
       "<style scoped>\n",
       "    .dataframe tbody tr th:only-of-type {\n",
       "        vertical-align: middle;\n",
       "    }\n",
       "\n",
       "    .dataframe tbody tr th {\n",
       "        vertical-align: top;\n",
       "    }\n",
       "\n",
       "    .dataframe thead th {\n",
       "        text-align: right;\n",
       "    }\n",
       "</style>\n",
       "<table border=\"1\" class=\"dataframe\">\n",
       "  <thead>\n",
       "    <tr style=\"text-align: right;\">\n",
       "      <th></th>\n",
       "      <th>order_id</th>\n",
       "      <th>customer_id</th>\n",
       "      <th>order_purchase_timestamp</th>\n",
       "      <th>order_delivered_customer_date</th>\n",
       "      <th>order_delivered_carrier_date</th>\n",
       "      <th>customer_city</th>\n",
       "    </tr>\n",
       "  </thead>\n",
       "  <tbody>\n",
       "    <tr>\n",
       "      <th>0</th>\n",
       "      <td>e481f51cbdc54678b7cc49136f2d6af7</td>\n",
       "      <td>9ef432eb6251297304e76186b10a928d</td>\n",
       "      <td>2017-10-02</td>\n",
       "      <td>2017-10-10</td>\n",
       "      <td>2017-10-04</td>\n",
       "      <td>sao paulo</td>\n",
       "    </tr>\n",
       "    <tr>\n",
       "      <th>1</th>\n",
       "      <td>53cdb2fc8bc7dce0b6741e2150273451</td>\n",
       "      <td>b0830fb4747a6c6d20dea0b8c802d7ef</td>\n",
       "      <td>2018-07-24</td>\n",
       "      <td>2018-08-07</td>\n",
       "      <td>2018-07-26</td>\n",
       "      <td>barreiras</td>\n",
       "    </tr>\n",
       "    <tr>\n",
       "      <th>2</th>\n",
       "      <td>47770eb9100c2d0c44946d9cf07ec65d</td>\n",
       "      <td>41ce2a54c0b03bf3443c3d931a367089</td>\n",
       "      <td>2018-08-08</td>\n",
       "      <td>2018-08-17</td>\n",
       "      <td>2018-08-08</td>\n",
       "      <td>vianopolis</td>\n",
       "    </tr>\n",
       "    <tr>\n",
       "      <th>3</th>\n",
       "      <td>949d5b44dbf5de918fe9c16f97b45f8a</td>\n",
       "      <td>f88197465ea7920adcdbec7375364d82</td>\n",
       "      <td>2017-11-18</td>\n",
       "      <td>2017-12-02</td>\n",
       "      <td>2017-11-22</td>\n",
       "      <td>sao goncalo do amarante</td>\n",
       "    </tr>\n",
       "    <tr>\n",
       "      <th>4</th>\n",
       "      <td>ad21c59c0840e6cb83a9ceb5573f8159</td>\n",
       "      <td>8ab97904e6daea8866dbdbc4fb7aad2c</td>\n",
       "      <td>2018-02-13</td>\n",
       "      <td>2018-02-16</td>\n",
       "      <td>2018-02-14</td>\n",
       "      <td>santo andre</td>\n",
       "    </tr>\n",
       "  </tbody>\n",
       "</table>\n",
       "</div>"
      ],
      "text/plain": [
       "                           order_id                       customer_id  \\\n",
       "0  e481f51cbdc54678b7cc49136f2d6af7  9ef432eb6251297304e76186b10a928d   \n",
       "1  53cdb2fc8bc7dce0b6741e2150273451  b0830fb4747a6c6d20dea0b8c802d7ef   \n",
       "2  47770eb9100c2d0c44946d9cf07ec65d  41ce2a54c0b03bf3443c3d931a367089   \n",
       "3  949d5b44dbf5de918fe9c16f97b45f8a  f88197465ea7920adcdbec7375364d82   \n",
       "4  ad21c59c0840e6cb83a9ceb5573f8159  8ab97904e6daea8866dbdbc4fb7aad2c   \n",
       "\n",
       "  order_purchase_timestamp order_delivered_customer_date  \\\n",
       "0               2017-10-02                    2017-10-10   \n",
       "1               2018-07-24                    2018-08-07   \n",
       "2               2018-08-08                    2018-08-17   \n",
       "3               2017-11-18                    2017-12-02   \n",
       "4               2018-02-13                    2018-02-16   \n",
       "\n",
       "  order_delivered_carrier_date            customer_city  \n",
       "0                   2017-10-04                sao paulo  \n",
       "1                   2018-07-26                barreiras  \n",
       "2                   2018-08-08               vianopolis  \n",
       "3                   2017-11-22  sao goncalo do amarante  \n",
       "4                   2018-02-14              santo andre  "
      ]
     },
     "execution_count": 292,
     "metadata": {},
     "output_type": "execute_result"
    }
   ],
   "source": [
    "# visualizamos los primeros 5 registros para verificar el merge\n",
    "df_customer_order.head()"
   ]
  },
  {
   "cell_type": "code",
   "execution_count": 294,
   "id": "8a3d7b24-e8ba-4864-b39e-541f40d36d5e",
   "metadata": {
    "tags": []
   },
   "outputs": [
    {
     "data": {
      "text/plain": [
       "order_id                         0\n",
       "customer_id                      0\n",
       "order_purchase_timestamp         0\n",
       "order_delivered_customer_date    0\n",
       "order_delivered_carrier_date     0\n",
       "customer_city                    0\n",
       "dtype: int64"
      ]
     },
     "execution_count": 294,
     "metadata": {},
     "output_type": "execute_result"
    }
   ],
   "source": [
    "# vemos que despues del merge no se generen valores nulos\n",
    "df_customer_order.isnull().sum()"
   ]
  },
  {
   "cell_type": "code",
   "execution_count": 296,
   "id": "bd0fbc6e-2e6d-41f0-9e3c-1a6346f88b12",
   "metadata": {
    "tags": []
   },
   "outputs": [
    {
     "data": {
      "text/plain": [
       "customer_city        \n",
       "sao paulo                15044\n",
       "rio de janeiro            6603\n",
       "belo horizonte            2697\n",
       "brasilia                  2071\n",
       "curitiba                  1489\n",
       "campinas                  1406\n",
       "porto alegre              1341\n",
       "salvador                  1188\n",
       "guarulhos                 1143\n",
       "sao bernardo do campo      911\n",
       "Name: count, dtype: int64"
      ]
     },
     "execution_count": 296,
     "metadata": {},
     "output_type": "execute_result"
    }
   ],
   "source": [
    "# vemos la cantidad de compras realizadas en cada zona, visualizando solo las primeras 10\n",
    "ventas_city = df_customer_order.value_counts([\"customer_city\"]).head(10)\n",
    "ventas_city"
   ]
  },
  {
   "cell_type": "code",
   "execution_count": 297,
   "id": "f5ba8fdd-8cc0-4495-a4d6-4625a6f3f93b",
   "metadata": {
    "tags": []
   },
   "outputs": [
    {
     "data": {
      "text/plain": [
       "96461"
      ]
     },
     "execution_count": 297,
     "metadata": {},
     "output_type": "execute_result"
    }
   ],
   "source": [
    "ventas = len(df_customer_order)\n",
    "ventas"
   ]
  },
  {
   "cell_type": "code",
   "execution_count": 300,
   "id": "0ea90096-7f23-4f5b-83ca-6adf239abec8",
   "metadata": {
    "tags": []
   },
   "outputs": [
    {
     "data": {
      "text/plain": [
       "customer_city \n",
       "sao paulo         15.595940\n",
       "rio de janeiro     6.845254\n",
       "belo horizonte     2.795949\n",
       "brasilia           2.146982\n",
       "curitiba           1.543629\n",
       "campinas           1.457584\n",
       "porto alegre       1.390199\n",
       "salvador           1.231586\n",
       "guarulhos          1.184935\n",
       "Name: count, dtype: float64"
      ]
     },
     "execution_count": 300,
     "metadata": {},
     "output_type": "execute_result"
    }
   ],
   "source": [
    "#pasamos a porcentaje las cantidades de compras\n",
    "ventas_city = ventas_city*100/ventas\n",
    "'''Se tendra en cuanta a las zonas que tengan compras superiores al 1% del total, a las que se pondran en un plan de\n",
    "trabajo para reforzar y lograr aumentar el nivel de ventas, el resto de las zonas se seguiran trabajando de la misma\n",
    "manera que hasta hoy, logrando mantener el nivel de ventas, pero no se gastara ni tiempo ni dinero en lograr mejorarlas'''\n",
    "# filtramos auqellas zonas que tienen compras mayores o iguales al 1%, que son las que nos importan\n",
    "ventas_city[ventas_city >= 1]"
   ]
  },
  {
   "cell_type": "markdown",
   "id": "968da1e3-dc91-4761-a769-fca2f9664b31",
   "metadata": {},
   "source": [
    "PODEMOS OBSERVAR QUE TENEMOS 9 REGIONES QUE SUPERAN EL 1% DE VENTAS TOTALES. SIENDO A LAS QUE APLICAREMOS EL EL PLAN PARA\n",
    "AUMENTAR EL NIVEL DE VENTAS."
   ]
  },
  {
   "cell_type": "code",
   "execution_count": 303,
   "id": "0b1b8cd3-6ca7-4360-b434-139725cef222",
   "metadata": {
    "tags": []
   },
   "outputs": [
    {
     "data": {
      "text/plain": [
       "0        False\n",
       "9        False\n",
       "10        True\n",
       "12        True\n",
       "13       False\n",
       "         ...  \n",
       "96441    False\n",
       "96446     True\n",
       "96449     True\n",
       "96450    False\n",
       "96455    False\n",
       "Length: 32982, dtype: bool"
      ]
     },
     "execution_count": 303,
     "metadata": {},
     "output_type": "execute_result"
    }
   ],
   "source": [
    "# ahora vamos a filtrar las registros que solo sean de las zonas estudiadas \n",
    "zonas = [\"sao paulo\",\"rio de janeiro\",\"belo horizonte\",\"brasilia\",\"curitiba\",\"campinas\",\"porto alegre\",\"salvador\",\"guarulhos\"]\n",
    "df_customer_order = df_customer_order[df_customer_order.customer_city.isin(zonas)]\n",
    "\n",
    "# en la siguiente linea realizamos la cuenta para saber cuants dias se demoran en entregar el pedido despues de realizar la compra\n",
    "tiempo_entrega_cliente = df_customer_order[\"order_delivered_customer_date\"] - df_customer_order[\"order_purchase_timestamp\"]\n",
    "# filtramos aquellos registros que tienen un tiempo de demora menos igual a 7 dias\n",
    "tiempo_entrega_cliente = tiempo_entrega_cliente <= pd.Timedelta(days=7)\n",
    "tiempo_entrega_cliente"
   ]
  },
  {
   "cell_type": "code",
   "execution_count": 305,
   "id": "38f25ff7-5b72-4614-9c5e-2e62a3ab99e6",
   "metadata": {
    "tags": []
   },
   "outputs": [
    {
     "data": {
      "text/plain": [
       "False    19065\n",
       "True     13917\n",
       "Name: count, dtype: int64"
      ]
     },
     "execution_count": 305,
     "metadata": {},
     "output_type": "execute_result"
    }
   ],
   "source": [
    "# contamos cuantas entregas cumplen don dicha condicion \n",
    "cantidad_men_7 = tiempo_entrega_cliente.value_counts()\n",
    "cantidad_men_7"
   ]
  },
  {
   "cell_type": "code",
   "execution_count": 307,
   "id": "473bc6e6-0e78-40a6-bf8a-8c2733eaa859",
   "metadata": {
    "tags": []
   },
   "outputs": [
    {
     "data": {
      "text/plain": [
       "False    57.804257\n",
       "True     42.195743\n",
       "Name: count, dtype: float64"
      ]
     },
     "execution_count": 307,
     "metadata": {},
     "output_type": "execute_result"
    }
   ],
   "source": [
    "largo = len(tiempo_entrega_cliente)\n",
    "tiempo_entrega_por = cantidad_men_7 * 100 / largo\n",
    "tiempo_entrega_por"
   ]
  },
  {
   "cell_type": "markdown",
   "id": "e95e9e6b-5431-4a90-b810-6b3d5ff7f8cd",
   "metadata": {},
   "source": [
    "PODEMOS VER QUE DE LAS 9 ZONAS QUE CUMPLEN CON LA CONDICION DE TENER VENTAS POR ARRIBA DEL 1%, EL 57,80 % APROXIMADAMENTE\n",
    "NO CUMPLEN CON LA ESPECTATIVA DE QUE NO TARDEN MAS DE 7 DIAS, MIENTRAS QUE EL 42 % APROXIMADAMENTE SI LO CUMPLE.\n",
    "VA A SER UN TEMA MUY IMPORTANTE A TRATAR SI LO QUE SE QUIERE ES AMPLIAR LA CANTIDAD DE VENTAS EN ESTAS ZONAS"
   ]
  },
  {
   "cell_type": "code",
   "execution_count": 310,
   "id": "fda2ea4d-59f5-40b2-b1b3-d8e58927dbce",
   "metadata": {
    "tags": []
   },
   "outputs": [],
   "source": [
    "df_customer_order[\"tiempo_entrega_menor_8\"] = tiempo_entrega_cliente"
   ]
  },
  {
   "cell_type": "code",
   "execution_count": 312,
   "id": "56058263-c374-4c3b-87dc-6ee5f21717dc",
   "metadata": {
    "tags": []
   },
   "outputs": [
    {
     "data": {
      "text/html": [
       "<div>\n",
       "<style scoped>\n",
       "    .dataframe tbody tr th:only-of-type {\n",
       "        vertical-align: middle;\n",
       "    }\n",
       "\n",
       "    .dataframe tbody tr th {\n",
       "        vertical-align: top;\n",
       "    }\n",
       "\n",
       "    .dataframe thead th {\n",
       "        text-align: right;\n",
       "    }\n",
       "</style>\n",
       "<table border=\"1\" class=\"dataframe\">\n",
       "  <thead>\n",
       "    <tr style=\"text-align: right;\">\n",
       "      <th></th>\n",
       "      <th>order_id</th>\n",
       "      <th>customer_id</th>\n",
       "      <th>order_purchase_timestamp</th>\n",
       "      <th>order_delivered_customer_date</th>\n",
       "      <th>order_delivered_carrier_date</th>\n",
       "      <th>customer_city</th>\n",
       "      <th>tiempo_entrega_menor_8</th>\n",
       "    </tr>\n",
       "  </thead>\n",
       "  <tbody>\n",
       "    <tr>\n",
       "      <th>0</th>\n",
       "      <td>e481f51cbdc54678b7cc49136f2d6af7</td>\n",
       "      <td>9ef432eb6251297304e76186b10a928d</td>\n",
       "      <td>2017-10-02</td>\n",
       "      <td>2017-10-10</td>\n",
       "      <td>2017-10-04</td>\n",
       "      <td>sao paulo</td>\n",
       "      <td>False</td>\n",
       "    </tr>\n",
       "    <tr>\n",
       "      <th>9</th>\n",
       "      <td>e6ce16cb79ec1d90b1da9085a6118aeb</td>\n",
       "      <td>494dded5b201313c64ed7f100595b95c</td>\n",
       "      <td>2017-05-16</td>\n",
       "      <td>2017-05-29</td>\n",
       "      <td>2017-05-18</td>\n",
       "      <td>rio de janeiro</td>\n",
       "      <td>False</td>\n",
       "    </tr>\n",
       "    <tr>\n",
       "      <th>10</th>\n",
       "      <td>34513ce0c4fab462a55830c0989c7edb</td>\n",
       "      <td>7711cf624183d843aafe81855097bc37</td>\n",
       "      <td>2017-07-13</td>\n",
       "      <td>2017-07-19</td>\n",
       "      <td>2017-07-14</td>\n",
       "      <td>sao paulo</td>\n",
       "      <td>True</td>\n",
       "    </tr>\n",
       "    <tr>\n",
       "      <th>12</th>\n",
       "      <td>5ff96c15d0b717ac6ad1f3d77225a350</td>\n",
       "      <td>19402a48fe860416adf93348aba37740</td>\n",
       "      <td>2018-07-25</td>\n",
       "      <td>2018-07-30</td>\n",
       "      <td>2018-07-26</td>\n",
       "      <td>sao paulo</td>\n",
       "      <td>True</td>\n",
       "    </tr>\n",
       "    <tr>\n",
       "      <th>13</th>\n",
       "      <td>432aaf21d85167c2c86ec9448c4e42cc</td>\n",
       "      <td>3df704f53d3f1d4818840b34ec672a9f</td>\n",
       "      <td>2018-03-01</td>\n",
       "      <td>2018-03-12</td>\n",
       "      <td>2018-03-02</td>\n",
       "      <td>sao paulo</td>\n",
       "      <td>False</td>\n",
       "    </tr>\n",
       "  </tbody>\n",
       "</table>\n",
       "</div>"
      ],
      "text/plain": [
       "                            order_id                       customer_id  \\\n",
       "0   e481f51cbdc54678b7cc49136f2d6af7  9ef432eb6251297304e76186b10a928d   \n",
       "9   e6ce16cb79ec1d90b1da9085a6118aeb  494dded5b201313c64ed7f100595b95c   \n",
       "10  34513ce0c4fab462a55830c0989c7edb  7711cf624183d843aafe81855097bc37   \n",
       "12  5ff96c15d0b717ac6ad1f3d77225a350  19402a48fe860416adf93348aba37740   \n",
       "13  432aaf21d85167c2c86ec9448c4e42cc  3df704f53d3f1d4818840b34ec672a9f   \n",
       "\n",
       "   order_purchase_timestamp order_delivered_customer_date  \\\n",
       "0                2017-10-02                    2017-10-10   \n",
       "9                2017-05-16                    2017-05-29   \n",
       "10               2017-07-13                    2017-07-19   \n",
       "12               2018-07-25                    2018-07-30   \n",
       "13               2018-03-01                    2018-03-12   \n",
       "\n",
       "   order_delivered_carrier_date   customer_city  tiempo_entrega_menor_8  \n",
       "0                    2017-10-04       sao paulo                   False  \n",
       "9                    2017-05-18  rio de janeiro                   False  \n",
       "10                   2017-07-14       sao paulo                    True  \n",
       "12                   2018-07-26       sao paulo                    True  \n",
       "13                   2018-03-02       sao paulo                   False  "
      ]
     },
     "execution_count": 312,
     "metadata": {},
     "output_type": "execute_result"
    }
   ],
   "source": [
    "df_customer_order.head()"
   ]
  },
  {
   "cell_type": "code",
   "execution_count": 314,
   "id": "6487b5a0-ae2d-4776-b2b4-348e0860356c",
   "metadata": {
    "tags": []
   },
   "outputs": [],
   "source": [
    "df_customer_order = df_customer_order[[\"order_id\",\"customer_id\",\"customer_city\",\"tiempo_entrega_menor_8\"]]"
   ]
  },
  {
   "cell_type": "code",
   "execution_count": 316,
   "id": "f863652b-922a-474d-a06d-3c43ab8229b1",
   "metadata": {
    "tags": []
   },
   "outputs": [
    {
     "data": {
      "text/html": [
       "<div>\n",
       "<style scoped>\n",
       "    .dataframe tbody tr th:only-of-type {\n",
       "        vertical-align: middle;\n",
       "    }\n",
       "\n",
       "    .dataframe tbody tr th {\n",
       "        vertical-align: top;\n",
       "    }\n",
       "\n",
       "    .dataframe thead th {\n",
       "        text-align: right;\n",
       "    }\n",
       "</style>\n",
       "<table border=\"1\" class=\"dataframe\">\n",
       "  <thead>\n",
       "    <tr style=\"text-align: right;\">\n",
       "      <th></th>\n",
       "      <th>order_id</th>\n",
       "      <th>customer_id</th>\n",
       "      <th>customer_city</th>\n",
       "      <th>tiempo_entrega_menor_8</th>\n",
       "    </tr>\n",
       "  </thead>\n",
       "  <tbody>\n",
       "    <tr>\n",
       "      <th>0</th>\n",
       "      <td>e481f51cbdc54678b7cc49136f2d6af7</td>\n",
       "      <td>9ef432eb6251297304e76186b10a928d</td>\n",
       "      <td>sao paulo</td>\n",
       "      <td>False</td>\n",
       "    </tr>\n",
       "    <tr>\n",
       "      <th>9</th>\n",
       "      <td>e6ce16cb79ec1d90b1da9085a6118aeb</td>\n",
       "      <td>494dded5b201313c64ed7f100595b95c</td>\n",
       "      <td>rio de janeiro</td>\n",
       "      <td>False</td>\n",
       "    </tr>\n",
       "    <tr>\n",
       "      <th>10</th>\n",
       "      <td>34513ce0c4fab462a55830c0989c7edb</td>\n",
       "      <td>7711cf624183d843aafe81855097bc37</td>\n",
       "      <td>sao paulo</td>\n",
       "      <td>True</td>\n",
       "    </tr>\n",
       "    <tr>\n",
       "      <th>12</th>\n",
       "      <td>5ff96c15d0b717ac6ad1f3d77225a350</td>\n",
       "      <td>19402a48fe860416adf93348aba37740</td>\n",
       "      <td>sao paulo</td>\n",
       "      <td>True</td>\n",
       "    </tr>\n",
       "    <tr>\n",
       "      <th>13</th>\n",
       "      <td>432aaf21d85167c2c86ec9448c4e42cc</td>\n",
       "      <td>3df704f53d3f1d4818840b34ec672a9f</td>\n",
       "      <td>sao paulo</td>\n",
       "      <td>False</td>\n",
       "    </tr>\n",
       "    <tr>\n",
       "      <th>...</th>\n",
       "      <td>...</td>\n",
       "      <td>...</td>\n",
       "      <td>...</td>\n",
       "      <td>...</td>\n",
       "    </tr>\n",
       "    <tr>\n",
       "      <th>96441</th>\n",
       "      <td>6f46d42016226f77893ed3978d6903d0</td>\n",
       "      <td>3803547f820b1e10b7ad9c7985f06753</td>\n",
       "      <td>porto alegre</td>\n",
       "      <td>False</td>\n",
       "    </tr>\n",
       "    <tr>\n",
       "      <th>96446</th>\n",
       "      <td>7cc85185736ea7f2d8bc09af7a47cab7</td>\n",
       "      <td>9e870ea67399650e8c3545a25d13e4d0</td>\n",
       "      <td>brasilia</td>\n",
       "      <td>True</td>\n",
       "    </tr>\n",
       "    <tr>\n",
       "      <th>96449</th>\n",
       "      <td>0e4b26f1fb99fc0f0472dd5f403d36d4</td>\n",
       "      <td>2e96fa6d55b9732013caed9866e2552d</td>\n",
       "      <td>sao paulo</td>\n",
       "      <td>True</td>\n",
       "    </tr>\n",
       "    <tr>\n",
       "      <th>96450</th>\n",
       "      <td>c81f74e50f0496fa39716cc77cacd460</td>\n",
       "      <td>7b270ebc87c25c8404348c10ff80a80e</td>\n",
       "      <td>belo horizonte</td>\n",
       "      <td>False</td>\n",
       "    </tr>\n",
       "    <tr>\n",
       "      <th>96455</th>\n",
       "      <td>880675dff2150932f1601e1c07eadeeb</td>\n",
       "      <td>47cd45a6ac7b9fb16537df2ccffeb5ac</td>\n",
       "      <td>sao paulo</td>\n",
       "      <td>False</td>\n",
       "    </tr>\n",
       "  </tbody>\n",
       "</table>\n",
       "<p>32982 rows × 4 columns</p>\n",
       "</div>"
      ],
      "text/plain": [
       "                               order_id                       customer_id  \\\n",
       "0      e481f51cbdc54678b7cc49136f2d6af7  9ef432eb6251297304e76186b10a928d   \n",
       "9      e6ce16cb79ec1d90b1da9085a6118aeb  494dded5b201313c64ed7f100595b95c   \n",
       "10     34513ce0c4fab462a55830c0989c7edb  7711cf624183d843aafe81855097bc37   \n",
       "12     5ff96c15d0b717ac6ad1f3d77225a350  19402a48fe860416adf93348aba37740   \n",
       "13     432aaf21d85167c2c86ec9448c4e42cc  3df704f53d3f1d4818840b34ec672a9f   \n",
       "...                                 ...                               ...   \n",
       "96441  6f46d42016226f77893ed3978d6903d0  3803547f820b1e10b7ad9c7985f06753   \n",
       "96446  7cc85185736ea7f2d8bc09af7a47cab7  9e870ea67399650e8c3545a25d13e4d0   \n",
       "96449  0e4b26f1fb99fc0f0472dd5f403d36d4  2e96fa6d55b9732013caed9866e2552d   \n",
       "96450  c81f74e50f0496fa39716cc77cacd460  7b270ebc87c25c8404348c10ff80a80e   \n",
       "96455  880675dff2150932f1601e1c07eadeeb  47cd45a6ac7b9fb16537df2ccffeb5ac   \n",
       "\n",
       "        customer_city  tiempo_entrega_menor_8  \n",
       "0           sao paulo                   False  \n",
       "9      rio de janeiro                   False  \n",
       "10          sao paulo                    True  \n",
       "12          sao paulo                    True  \n",
       "13          sao paulo                   False  \n",
       "...               ...                     ...  \n",
       "96441    porto alegre                   False  \n",
       "96446        brasilia                    True  \n",
       "96449       sao paulo                    True  \n",
       "96450  belo horizonte                   False  \n",
       "96455       sao paulo                   False  \n",
       "\n",
       "[32982 rows x 4 columns]"
      ]
     },
     "execution_count": 316,
     "metadata": {},
     "output_type": "execute_result"
    }
   ],
   "source": [
    "df_customer_order"
   ]
  },
  {
   "cell_type": "markdown",
   "id": "eaa12e82-d61a-4f4c-b198-13b767ed0880",
   "metadata": {
    "jp-MarkdownHeadingCollapsed": true,
    "tags": []
   },
   "source": [
    "##### DF_CUSTOMER_ORDER Y DF_ORDER_ITEM"
   ]
  },
  {
   "cell_type": "code",
   "execution_count": 319,
   "id": "16de6920-49ae-4434-9805-41124eba864f",
   "metadata": {
    "tags": []
   },
   "outputs": [],
   "source": [
    "df_customer_order_item = pd.merge(df_customer_order,df_order_items_mod,how = \"inner\", on = \"order_id\")"
   ]
  },
  {
   "cell_type": "code",
   "execution_count": 321,
   "id": "c7ce5e01-1285-4e76-9c0e-917e77dcc210",
   "metadata": {
    "tags": []
   },
   "outputs": [
    {
     "data": {
      "text/html": [
       "<div>\n",
       "<style scoped>\n",
       "    .dataframe tbody tr th:only-of-type {\n",
       "        vertical-align: middle;\n",
       "    }\n",
       "\n",
       "    .dataframe tbody tr th {\n",
       "        vertical-align: top;\n",
       "    }\n",
       "\n",
       "    .dataframe thead th {\n",
       "        text-align: right;\n",
       "    }\n",
       "</style>\n",
       "<table border=\"1\" class=\"dataframe\">\n",
       "  <thead>\n",
       "    <tr style=\"text-align: right;\">\n",
       "      <th></th>\n",
       "      <th>order_id</th>\n",
       "      <th>customer_id</th>\n",
       "      <th>customer_city</th>\n",
       "      <th>tiempo_entrega_menor_8</th>\n",
       "      <th>order_item_id</th>\n",
       "      <th>product_id</th>\n",
       "      <th>price</th>\n",
       "    </tr>\n",
       "  </thead>\n",
       "  <tbody>\n",
       "    <tr>\n",
       "      <th>0</th>\n",
       "      <td>e481f51cbdc54678b7cc49136f2d6af7</td>\n",
       "      <td>9ef432eb6251297304e76186b10a928d</td>\n",
       "      <td>sao paulo</td>\n",
       "      <td>False</td>\n",
       "      <td>1</td>\n",
       "      <td>87285b34884572647811a353c7ac498a</td>\n",
       "      <td>29.99</td>\n",
       "    </tr>\n",
       "    <tr>\n",
       "      <th>1</th>\n",
       "      <td>e6ce16cb79ec1d90b1da9085a6118aeb</td>\n",
       "      <td>494dded5b201313c64ed7f100595b95c</td>\n",
       "      <td>rio de janeiro</td>\n",
       "      <td>False</td>\n",
       "      <td>1</td>\n",
       "      <td>08574b074924071f4e201e151b152b4e</td>\n",
       "      <td>99.00</td>\n",
       "    </tr>\n",
       "    <tr>\n",
       "      <th>2</th>\n",
       "      <td>e6ce16cb79ec1d90b1da9085a6118aeb</td>\n",
       "      <td>494dded5b201313c64ed7f100595b95c</td>\n",
       "      <td>rio de janeiro</td>\n",
       "      <td>False</td>\n",
       "      <td>2</td>\n",
       "      <td>08574b074924071f4e201e151b152b4e</td>\n",
       "      <td>99.00</td>\n",
       "    </tr>\n",
       "    <tr>\n",
       "      <th>3</th>\n",
       "      <td>34513ce0c4fab462a55830c0989c7edb</td>\n",
       "      <td>7711cf624183d843aafe81855097bc37</td>\n",
       "      <td>sao paulo</td>\n",
       "      <td>True</td>\n",
       "      <td>1</td>\n",
       "      <td>f7e0fa615b386bc9a8b9eb52bc1fff76</td>\n",
       "      <td>98.00</td>\n",
       "    </tr>\n",
       "    <tr>\n",
       "      <th>4</th>\n",
       "      <td>5ff96c15d0b717ac6ad1f3d77225a350</td>\n",
       "      <td>19402a48fe860416adf93348aba37740</td>\n",
       "      <td>sao paulo</td>\n",
       "      <td>True</td>\n",
       "      <td>1</td>\n",
       "      <td>10adb53d8faa890ca7c2f0cbcb68d777</td>\n",
       "      <td>19.90</td>\n",
       "    </tr>\n",
       "  </tbody>\n",
       "</table>\n",
       "</div>"
      ],
      "text/plain": [
       "                           order_id                       customer_id  \\\n",
       "0  e481f51cbdc54678b7cc49136f2d6af7  9ef432eb6251297304e76186b10a928d   \n",
       "1  e6ce16cb79ec1d90b1da9085a6118aeb  494dded5b201313c64ed7f100595b95c   \n",
       "2  e6ce16cb79ec1d90b1da9085a6118aeb  494dded5b201313c64ed7f100595b95c   \n",
       "3  34513ce0c4fab462a55830c0989c7edb  7711cf624183d843aafe81855097bc37   \n",
       "4  5ff96c15d0b717ac6ad1f3d77225a350  19402a48fe860416adf93348aba37740   \n",
       "\n",
       "    customer_city  tiempo_entrega_menor_8  order_item_id  \\\n",
       "0       sao paulo                   False              1   \n",
       "1  rio de janeiro                   False              1   \n",
       "2  rio de janeiro                   False              2   \n",
       "3       sao paulo                    True              1   \n",
       "4       sao paulo                    True              1   \n",
       "\n",
       "                         product_id  price  \n",
       "0  87285b34884572647811a353c7ac498a  29.99  \n",
       "1  08574b074924071f4e201e151b152b4e  99.00  \n",
       "2  08574b074924071f4e201e151b152b4e  99.00  \n",
       "3  f7e0fa615b386bc9a8b9eb52bc1fff76  98.00  \n",
       "4  10adb53d8faa890ca7c2f0cbcb68d777  19.90  "
      ]
     },
     "execution_count": 321,
     "metadata": {},
     "output_type": "execute_result"
    }
   ],
   "source": [
    "df_customer_order_item.head()"
   ]
  },
  {
   "cell_type": "code",
   "execution_count": 323,
   "id": "e6521237-d1d6-4ba2-9698-f1b51e07d48a",
   "metadata": {
    "tags": []
   },
   "outputs": [
    {
     "data": {
      "text/plain": [
       "order_id                  0\n",
       "customer_id               0\n",
       "customer_city             0\n",
       "tiempo_entrega_menor_8    0\n",
       "order_item_id             0\n",
       "product_id                0\n",
       "price                     0\n",
       "dtype: int64"
      ]
     },
     "execution_count": 323,
     "metadata": {},
     "output_type": "execute_result"
    }
   ],
   "source": [
    "# verificamos que el nuevo df no contenga valores nulos\n",
    "df_customer_order_item.isnull().sum()"
   ]
  },
  {
   "cell_type": "code",
   "execution_count": 325,
   "id": "808968e4-0eac-4db0-beef-f8bacb689caa",
   "metadata": {
    "tags": []
   },
   "outputs": [
    {
     "data": {
      "text/plain": [
       "count    37997.000000\n",
       "mean       114.275758\n",
       "std        172.130391\n",
       "min          1.200000\n",
       "25%         38.900000\n",
       "50%         69.900000\n",
       "75%        129.000000\n",
       "max       4399.870000\n",
       "Name: price, dtype: float64"
      ]
     },
     "execution_count": 325,
     "metadata": {},
     "output_type": "execute_result"
    }
   ],
   "source": [
    "df_customer_order_item[\"price\"].describe()"
   ]
  },
  {
   "cell_type": "markdown",
   "id": "ca77f159-f3e7-47e3-9659-70e2d08b9463",
   "metadata": {},
   "source": [
    "PODEMOS VER QUE TENEMOS 37997 VENTAS DENTRO DE LAS ZONAS QUE GENERAN COMPRAS IGUAL O SUPERIOR AL 1%, DE LOS CUALES TENEMOS\n",
    "QUE EL VALOR MINIMO DE COMPRA ES DE 1.2 REALES, MIENTRAS QUE EL VALOR MAXIMO ES DE 4399 REALES. \n",
    "EL VALOR MEDIO TIENE UN VALOR DE 114.255758 REALES, MIENTRAS QUE LA DESVIACION ESTANDAR TIPICA TIENE UN VALOR DE 172.130391 REALES.\n",
    "POR ULTIMO PODEMOS VER QUE LO CUARTILES INDICAN QUE EL 25% DE LAS COMPRAS ESTA POR DEBAJO DE UN VALOR DE 38.9 REALES, LUEGO PODEMOS DECIR QUE EL 50% TIENE UN VALOR INFERIOR 69.9 Y EL OTRO 50% UIN VALOR SUPERIOR A 693.9. TAMBIEN INDICA QUE LA MEDIANA ES DE 69.9, YA QUE ES EQUIVALENTE AL 2 CUARTIL.\n",
    "POR ULTIMO TENEMOS QUE EL 75% DE LAS VENTAS ESTAN POR DEBAJO DE UN VALOR DE 129 REALES Y EL 25% RESTANTE POR ENCIMA DE DICHO VALOR."
   ]
  },
  {
   "cell_type": "code",
   "execution_count": 328,
   "id": "ae2631d6-e454-4c87-8afb-5232589ef424",
   "metadata": {
    "tags": []
   },
   "outputs": [
    {
     "data": {
      "text/plain": [
       "customer_city\n",
       "sao paulo         1859466.84\n",
       "rio de janeiro     955847.36\n",
       "belo horizonte     346039.04\n",
       "brasilia           295814.72\n",
       "curitiba           205999.33\n",
       "campinas           184657.87\n",
       "porto alegre       182140.55\n",
       "salvador           173273.05\n",
       "guarulhos          138897.20\n",
       "Name: price, dtype: float64"
      ]
     },
     "execution_count": 328,
     "metadata": {},
     "output_type": "execute_result"
    }
   ],
   "source": [
    "cities = df_customer_order_item.groupby(\"customer_city\")[\"price\"].sum()\n",
    "cities.sort_values(ascending=False)"
   ]
  },
  {
   "cell_type": "markdown",
   "id": "8bac4639-51de-46c9-a449-714230195196",
   "metadata": {},
   "source": [
    "PODEMOS OBSERVAR QUE EN VISUALIZACION ANTERIOR CUALES SON LOS INGRESOS NONETARIOS EN REALES DE CADA UNA DE LAS LOCALIDADES\n",
    "QUE GENERAN IGUAL O MAYOR AL 1% DE LAS VENTAS TOTALES. LO QUE SE QUIERE TRABAJAR EN ESTAS LOCALIDADES ES AUMENTAR TANTO \n",
    "LA CANTIDAD DE VENTA, COMO ASI TAMBIEN LACANTIDAD DE INGRESOS MONETARIOS. ES DECIR QUE NO SOLO ES AUMENTAR EL NUMERO DE VENTAS,\n",
    "SI NO TAMBIEN QUE ESAS VENTAS SEAN POR MONTOS MAYORES Y QUE EL CRECIMIENTO MONETARIO CREZCA DE FORMA NOTABLE.\n",
    "COMPARANDO CON EL ESTUDIO ANTERIOR DE ESTAS 9 REGIONES, DONDE SE CALCULABA CUAL ERA EL NUMERO DE VENTAS, CON ESTE QUE TOMA EL\n",
    "MONTO DE INGRESO MONETARIO, EL ORDEN EN FORMA DECRECIENTE, VEMOS QUE ES EL MISMO, PERO ESTO PODRIA NO SER ASI, YA QUE PUEDE\n",
    "PASAR QUE UNA REGION QUE TIENE MENOR NUMERO DE COMPRAS, REALICE COMPRAS POR MONTOS MAYORES, GENERANDO MAYOR INGRESO MONETARIO\n",
    "QUE OTRA REGION QUE TIENE MAYOR NUMERO DE COMPRAS"
   ]
  },
  {
   "cell_type": "markdown",
   "id": "a42d79f6-03bd-4966-80a0-3a805a0c60a6",
   "metadata": {
    "jp-MarkdownHeadingCollapsed": true,
    "tags": []
   },
   "source": [
    "##### DF_ORDER_ITEM Y DF_PRODUCTS"
   ]
  },
  {
   "cell_type": "code",
   "execution_count": 332,
   "id": "f5a6e6d9-dfc1-4557-acec-2fc851be59c8",
   "metadata": {
    "tags": []
   },
   "outputs": [
    {
     "data": {
      "text/html": [
       "<div>\n",
       "<style scoped>\n",
       "    .dataframe tbody tr th:only-of-type {\n",
       "        vertical-align: middle;\n",
       "    }\n",
       "\n",
       "    .dataframe tbody tr th {\n",
       "        vertical-align: top;\n",
       "    }\n",
       "\n",
       "    .dataframe thead th {\n",
       "        text-align: right;\n",
       "    }\n",
       "</style>\n",
       "<table border=\"1\" class=\"dataframe\">\n",
       "  <thead>\n",
       "    <tr style=\"text-align: right;\">\n",
       "      <th></th>\n",
       "      <th>order_id</th>\n",
       "      <th>customer_id</th>\n",
       "      <th>customer_city</th>\n",
       "      <th>tiempo_entrega_menor_8</th>\n",
       "      <th>order_item_id</th>\n",
       "      <th>product_id</th>\n",
       "      <th>price</th>\n",
       "      <th>product_category_name</th>\n",
       "    </tr>\n",
       "  </thead>\n",
       "  <tbody>\n",
       "    <tr>\n",
       "      <th>0</th>\n",
       "      <td>e481f51cbdc54678b7cc49136f2d6af7</td>\n",
       "      <td>9ef432eb6251297304e76186b10a928d</td>\n",
       "      <td>sao paulo</td>\n",
       "      <td>False</td>\n",
       "      <td>1</td>\n",
       "      <td>87285b34884572647811a353c7ac498a</td>\n",
       "      <td>29.99</td>\n",
       "      <td>utilidades_domesticas</td>\n",
       "    </tr>\n",
       "    <tr>\n",
       "      <th>1</th>\n",
       "      <td>128e10d95713541c87cd1a2e48201934</td>\n",
       "      <td>a20e8105f23924cd00833fd87daa0831</td>\n",
       "      <td>sao paulo</td>\n",
       "      <td>True</td>\n",
       "      <td>1</td>\n",
       "      <td>87285b34884572647811a353c7ac498a</td>\n",
       "      <td>29.99</td>\n",
       "      <td>utilidades_domesticas</td>\n",
       "    </tr>\n",
       "    <tr>\n",
       "      <th>2</th>\n",
       "      <td>0e7e841ddf8f8f2de2bad69267ecfbcf</td>\n",
       "      <td>26c7ac168e1433912a51b924fbd34d34</td>\n",
       "      <td>sao paulo</td>\n",
       "      <td>True</td>\n",
       "      <td>1</td>\n",
       "      <td>87285b34884572647811a353c7ac498a</td>\n",
       "      <td>29.99</td>\n",
       "      <td>utilidades_domesticas</td>\n",
       "    </tr>\n",
       "    <tr>\n",
       "      <th>3</th>\n",
       "      <td>e6ce16cb79ec1d90b1da9085a6118aeb</td>\n",
       "      <td>494dded5b201313c64ed7f100595b95c</td>\n",
       "      <td>rio de janeiro</td>\n",
       "      <td>False</td>\n",
       "      <td>1</td>\n",
       "      <td>08574b074924071f4e201e151b152b4e</td>\n",
       "      <td>99.00</td>\n",
       "      <td>ferramentas_jardim</td>\n",
       "    </tr>\n",
       "    <tr>\n",
       "      <th>4</th>\n",
       "      <td>e6ce16cb79ec1d90b1da9085a6118aeb</td>\n",
       "      <td>494dded5b201313c64ed7f100595b95c</td>\n",
       "      <td>rio de janeiro</td>\n",
       "      <td>False</td>\n",
       "      <td>2</td>\n",
       "      <td>08574b074924071f4e201e151b152b4e</td>\n",
       "      <td>99.00</td>\n",
       "      <td>ferramentas_jardim</td>\n",
       "    </tr>\n",
       "  </tbody>\n",
       "</table>\n",
       "</div>"
      ],
      "text/plain": [
       "                           order_id                       customer_id  \\\n",
       "0  e481f51cbdc54678b7cc49136f2d6af7  9ef432eb6251297304e76186b10a928d   \n",
       "1  128e10d95713541c87cd1a2e48201934  a20e8105f23924cd00833fd87daa0831   \n",
       "2  0e7e841ddf8f8f2de2bad69267ecfbcf  26c7ac168e1433912a51b924fbd34d34   \n",
       "3  e6ce16cb79ec1d90b1da9085a6118aeb  494dded5b201313c64ed7f100595b95c   \n",
       "4  e6ce16cb79ec1d90b1da9085a6118aeb  494dded5b201313c64ed7f100595b95c   \n",
       "\n",
       "    customer_city  tiempo_entrega_menor_8  order_item_id  \\\n",
       "0       sao paulo                   False              1   \n",
       "1       sao paulo                    True              1   \n",
       "2       sao paulo                    True              1   \n",
       "3  rio de janeiro                   False              1   \n",
       "4  rio de janeiro                   False              2   \n",
       "\n",
       "                         product_id  price  product_category_name  \n",
       "0  87285b34884572647811a353c7ac498a  29.99  utilidades_domesticas  \n",
       "1  87285b34884572647811a353c7ac498a  29.99  utilidades_domesticas  \n",
       "2  87285b34884572647811a353c7ac498a  29.99  utilidades_domesticas  \n",
       "3  08574b074924071f4e201e151b152b4e  99.00     ferramentas_jardim  \n",
       "4  08574b074924071f4e201e151b152b4e  99.00     ferramentas_jardim  "
      ]
     },
     "execution_count": 332,
     "metadata": {},
     "output_type": "execute_result"
    }
   ],
   "source": [
    "df_order_item_product= pd.merge(df_customer_order_item,df_products_mod,how = \"inner\", on = \"product_id\")\n",
    "df_order_item_product.head()"
   ]
  },
  {
   "cell_type": "code",
   "execution_count": 334,
   "id": "636e553d-2fff-4c9b-ab55-479f48912e61",
   "metadata": {
    "tags": []
   },
   "outputs": [
    {
     "data": {
      "text/plain": [
       "product_category_name\n",
       "beleza_saude                     422810.78\n",
       "relogios_presentes               381500.32\n",
       "cama_mesa_banho                  360480.31\n",
       "esporte_lazer                    323190.57\n",
       "informatica_acessorios           317337.88\n",
       "                                   ...    \n",
       "fashion_esporte                     324.49\n",
       "artes_e_artesanato                  323.68\n",
       "fashion_roupa_infanto_juvenil       279.97\n",
       "pc_gamer                            259.98\n",
       "seguros_e_servicos                  100.00\n",
       "Name: price, Length: 74, dtype: float64"
      ]
     },
     "execution_count": 334,
     "metadata": {},
     "output_type": "execute_result"
    }
   ],
   "source": [
    "categoria_ingreso = df_order_item_product.groupby(\"product_category_name\")[\"price\"].sum()\n",
    "categoria_ingreso.sort_values(ascending=False)"
   ]
  },
  {
   "cell_type": "markdown",
   "id": "b49ead07-2132-4814-b271-3316d4d0c2e0",
   "metadata": {},
   "source": [
    "PODEMOS VER CUALES SON LAS CATEGORIAS QUE MAYOR INGRESO GENERAN, LOGRANDO CON ESTO PODER GENERAR ESTRATEGIAS DE VENTAS,\n",
    "YA SEA POR PROMOCIONES O POR DESCUEBTOS O EL METODO QUE MAS SE ACOMODO PARA PODER LLEGAR AL LOGRO FINAL QUE ES PODER GENERAR\n",
    "MAYOR CANTIDAD DE VENTAS CON UN MAYOR INCREMENTO EN LOS INGRESOS MONETARIOS"
   ]
  },
  {
   "cell_type": "code",
   "execution_count": 337,
   "id": "d983e048-23ba-4f59-bb49-1f595d8d63bc",
   "metadata": {
    "tags": []
   },
   "outputs": [
    {
     "data": {
      "text/plain": [
       "customer_city\n",
       "belo horizonte    [ferramentas_jardim, cama_mesa_banho, beleza_s...\n",
       "brasilia          [cama_mesa_banho, brinquedos, beleza_saude, be...\n",
       "campinas          [cama_mesa_banho, beleza_saude, livros_interes...\n",
       "curitiba          [ferramentas_jardim, cama_mesa_banho, construc...\n",
       "guarulhos         [ferramentas_jardim, informatica_acessorios, e...\n",
       "porto alegre      [ferramentas_jardim, livros_interesse_geral, e...\n",
       "rio de janeiro    [ferramentas_jardim, informatica_acessorios, c...\n",
       "salvador          [ferramentas_jardim, beleza_saude, cool_stuff,...\n",
       "sao paulo         [utilidades_domesticas, ferramentas_jardim, in...\n",
       "Name: product_category_name, dtype: object"
      ]
     },
     "execution_count": 337,
     "metadata": {},
     "output_type": "execute_result"
    }
   ],
   "source": [
    "categoria_city = df_order_item_product.groupby(\"customer_city\")[\"product_category_name\"].unique()\n",
    "categoria_city"
   ]
  },
  {
   "cell_type": "markdown",
   "id": "acb8b200-02ca-4853-90b9-639ed5248991",
   "metadata": {
    "jp-MarkdownHeadingCollapsed": true,
    "tags": []
   },
   "source": [
    "##### DF_PYMENT Y DF_ORDER_ITEM_PRODUCT"
   ]
  },
  {
   "cell_type": "code",
   "execution_count": 340,
   "id": "39de16b1-e3cf-41e9-a9c4-9bbd69a967bd",
   "metadata": {
    "tags": []
   },
   "outputs": [
    {
     "data": {
      "text/html": [
       "<div>\n",
       "<style scoped>\n",
       "    .dataframe tbody tr th:only-of-type {\n",
       "        vertical-align: middle;\n",
       "    }\n",
       "\n",
       "    .dataframe tbody tr th {\n",
       "        vertical-align: top;\n",
       "    }\n",
       "\n",
       "    .dataframe thead th {\n",
       "        text-align: right;\n",
       "    }\n",
       "</style>\n",
       "<table border=\"1\" class=\"dataframe\">\n",
       "  <thead>\n",
       "    <tr style=\"text-align: right;\">\n",
       "      <th></th>\n",
       "      <th>order_id</th>\n",
       "      <th>payment_type</th>\n",
       "      <th>payment_installments</th>\n",
       "      <th>customer_id</th>\n",
       "      <th>customer_city</th>\n",
       "      <th>tiempo_entrega_menor_8</th>\n",
       "      <th>order_item_id</th>\n",
       "      <th>product_id</th>\n",
       "      <th>price</th>\n",
       "      <th>product_category_name</th>\n",
       "    </tr>\n",
       "  </thead>\n",
       "  <tbody>\n",
       "    <tr>\n",
       "      <th>0</th>\n",
       "      <td>a9810da82917af2d9aefd1278f1dcfa0</td>\n",
       "      <td>credit_card</td>\n",
       "      <td>1</td>\n",
       "      <td>f2c7fc58a9de810828715166c672f10a</td>\n",
       "      <td>sao paulo</td>\n",
       "      <td>True</td>\n",
       "      <td>1</td>\n",
       "      <td>a630cc320a8c872f9de830cf121661a3</td>\n",
       "      <td>17.00</td>\n",
       "      <td>automotivo</td>\n",
       "    </tr>\n",
       "    <tr>\n",
       "      <th>1</th>\n",
       "      <td>25e8ea4e93396b6fa0d3dd708e76c1bd</td>\n",
       "      <td>credit_card</td>\n",
       "      <td>1</td>\n",
       "      <td>25b14b69de0b6e184ae6fe2755e478f9</td>\n",
       "      <td>sao paulo</td>\n",
       "      <td>True</td>\n",
       "      <td>1</td>\n",
       "      <td>2028bf1b01cafb2d2b1901fca4083222</td>\n",
       "      <td>56.99</td>\n",
       "      <td>perfumaria</td>\n",
       "    </tr>\n",
       "    <tr>\n",
       "      <th>2</th>\n",
       "      <td>771ee386b001f06208a7419e4fc1bbd7</td>\n",
       "      <td>credit_card</td>\n",
       "      <td>1</td>\n",
       "      <td>206c0fcc717333d169ff95933fb47341</td>\n",
       "      <td>belo horizonte</td>\n",
       "      <td>False</td>\n",
       "      <td>1</td>\n",
       "      <td>42a2c92a0979a949ca4ea89ec5c7b934</td>\n",
       "      <td>59.90</td>\n",
       "      <td>utilidades_domesticas</td>\n",
       "    </tr>\n",
       "    <tr>\n",
       "      <th>3</th>\n",
       "      <td>595f598849d89203c28d05d0fbf3f92e</td>\n",
       "      <td>credit_card</td>\n",
       "      <td>1</td>\n",
       "      <td>cefab390926b6fc3de3ca94c82ebb1ba</td>\n",
       "      <td>sao paulo</td>\n",
       "      <td>True</td>\n",
       "      <td>1</td>\n",
       "      <td>c4913f978f6af6755a1dcc8d16e76774</td>\n",
       "      <td>14.85</td>\n",
       "      <td>moveis_decoracao</td>\n",
       "    </tr>\n",
       "    <tr>\n",
       "      <th>4</th>\n",
       "      <td>e647bf617de735448a4ba54f8910393c</td>\n",
       "      <td>credit_card</td>\n",
       "      <td>1</td>\n",
       "      <td>11440840f5653ebba13e919285c71389</td>\n",
       "      <td>sao paulo</td>\n",
       "      <td>True</td>\n",
       "      <td>1</td>\n",
       "      <td>f03859e4cc21018569f5ae7a03897ff4</td>\n",
       "      <td>49.99</td>\n",
       "      <td>consoles_games</td>\n",
       "    </tr>\n",
       "    <tr>\n",
       "      <th>...</th>\n",
       "      <td>...</td>\n",
       "      <td>...</td>\n",
       "      <td>...</td>\n",
       "      <td>...</td>\n",
       "      <td>...</td>\n",
       "      <td>...</td>\n",
       "      <td>...</td>\n",
       "      <td>...</td>\n",
       "      <td>...</td>\n",
       "      <td>...</td>\n",
       "    </tr>\n",
       "    <tr>\n",
       "      <th>39644</th>\n",
       "      <td>20824837882dd673707e0adfcaec1bc1</td>\n",
       "      <td>credit_card</td>\n",
       "      <td>1</td>\n",
       "      <td>e59afa77a6682d6efe6297d7d1b1796b</td>\n",
       "      <td>rio de janeiro</td>\n",
       "      <td>True</td>\n",
       "      <td>1</td>\n",
       "      <td>79ad39409fa4bcc36b4b7f734c79c2a2</td>\n",
       "      <td>69.99</td>\n",
       "      <td>fashion_bolsas_e_acessorios</td>\n",
       "    </tr>\n",
       "    <tr>\n",
       "      <th>39645</th>\n",
       "      <td>3531718b24dfd5022fb0d101e10e33b9</td>\n",
       "      <td>credit_card</td>\n",
       "      <td>1</td>\n",
       "      <td>5b819ae762ee1d0424f92fd742a8ed7b</td>\n",
       "      <td>rio de janeiro</td>\n",
       "      <td>False</td>\n",
       "      <td>1</td>\n",
       "      <td>db5efde3ad0cc579b130d71c4b2db522</td>\n",
       "      <td>175.00</td>\n",
       "      <td>audio</td>\n",
       "    </tr>\n",
       "    <tr>\n",
       "      <th>39646</th>\n",
       "      <td>7b905861d7c825891d6347454ea7863f</td>\n",
       "      <td>credit_card</td>\n",
       "      <td>2</td>\n",
       "      <td>2079230c765a88530822a34a4cec2aa0</td>\n",
       "      <td>belo horizonte</td>\n",
       "      <td>True</td>\n",
       "      <td>1</td>\n",
       "      <td>fb55982be901439613a95940feefd9ee</td>\n",
       "      <td>79.00</td>\n",
       "      <td>papelaria</td>\n",
       "    </tr>\n",
       "    <tr>\n",
       "      <th>39647</th>\n",
       "      <td>b8b61059626efa996a60be9bb9320e10</td>\n",
       "      <td>credit_card</td>\n",
       "      <td>5</td>\n",
       "      <td>5d719b0d300663188169c6560e243f27</td>\n",
       "      <td>rio de janeiro</td>\n",
       "      <td>False</td>\n",
       "      <td>1</td>\n",
       "      <td>e9c1abcc7126360336d8f56d49041a8c</td>\n",
       "      <td>349.00</td>\n",
       "      <td>beleza_saude</td>\n",
       "    </tr>\n",
       "    <tr>\n",
       "      <th>39648</th>\n",
       "      <td>28bbae6599b09d39ca406b747b6632b1</td>\n",
       "      <td>boleto</td>\n",
       "      <td>1</td>\n",
       "      <td>4c7f868f43b5cff577b0becb8c8b7860</td>\n",
       "      <td>rio de janeiro</td>\n",
       "      <td>False</td>\n",
       "      <td>1</td>\n",
       "      <td>1cdfaf0cc5abd6063d3a10ae3318f345</td>\n",
       "      <td>169.90</td>\n",
       "      <td>cama_mesa_banho</td>\n",
       "    </tr>\n",
       "  </tbody>\n",
       "</table>\n",
       "<p>39649 rows × 10 columns</p>\n",
       "</div>"
      ],
      "text/plain": [
       "                               order_id payment_type  payment_installments  \\\n",
       "0      a9810da82917af2d9aefd1278f1dcfa0  credit_card                     1   \n",
       "1      25e8ea4e93396b6fa0d3dd708e76c1bd  credit_card                     1   \n",
       "2      771ee386b001f06208a7419e4fc1bbd7  credit_card                     1   \n",
       "3      595f598849d89203c28d05d0fbf3f92e  credit_card                     1   \n",
       "4      e647bf617de735448a4ba54f8910393c  credit_card                     1   \n",
       "...                                 ...          ...                   ...   \n",
       "39644  20824837882dd673707e0adfcaec1bc1  credit_card                     1   \n",
       "39645  3531718b24dfd5022fb0d101e10e33b9  credit_card                     1   \n",
       "39646  7b905861d7c825891d6347454ea7863f  credit_card                     2   \n",
       "39647  b8b61059626efa996a60be9bb9320e10  credit_card                     5   \n",
       "39648  28bbae6599b09d39ca406b747b6632b1       boleto                     1   \n",
       "\n",
       "                            customer_id   customer_city  \\\n",
       "0      f2c7fc58a9de810828715166c672f10a       sao paulo   \n",
       "1      25b14b69de0b6e184ae6fe2755e478f9       sao paulo   \n",
       "2      206c0fcc717333d169ff95933fb47341  belo horizonte   \n",
       "3      cefab390926b6fc3de3ca94c82ebb1ba       sao paulo   \n",
       "4      11440840f5653ebba13e919285c71389       sao paulo   \n",
       "...                                 ...             ...   \n",
       "39644  e59afa77a6682d6efe6297d7d1b1796b  rio de janeiro   \n",
       "39645  5b819ae762ee1d0424f92fd742a8ed7b  rio de janeiro   \n",
       "39646  2079230c765a88530822a34a4cec2aa0  belo horizonte   \n",
       "39647  5d719b0d300663188169c6560e243f27  rio de janeiro   \n",
       "39648  4c7f868f43b5cff577b0becb8c8b7860  rio de janeiro   \n",
       "\n",
       "       tiempo_entrega_menor_8  order_item_id  \\\n",
       "0                        True              1   \n",
       "1                        True              1   \n",
       "2                       False              1   \n",
       "3                        True              1   \n",
       "4                        True              1   \n",
       "...                       ...            ...   \n",
       "39644                    True              1   \n",
       "39645                   False              1   \n",
       "39646                    True              1   \n",
       "39647                   False              1   \n",
       "39648                   False              1   \n",
       "\n",
       "                             product_id   price        product_category_name  \n",
       "0      a630cc320a8c872f9de830cf121661a3   17.00                   automotivo  \n",
       "1      2028bf1b01cafb2d2b1901fca4083222   56.99                   perfumaria  \n",
       "2      42a2c92a0979a949ca4ea89ec5c7b934   59.90        utilidades_domesticas  \n",
       "3      c4913f978f6af6755a1dcc8d16e76774   14.85             moveis_decoracao  \n",
       "4      f03859e4cc21018569f5ae7a03897ff4   49.99               consoles_games  \n",
       "...                                 ...     ...                          ...  \n",
       "39644  79ad39409fa4bcc36b4b7f734c79c2a2   69.99  fashion_bolsas_e_acessorios  \n",
       "39645  db5efde3ad0cc579b130d71c4b2db522  175.00                        audio  \n",
       "39646  fb55982be901439613a95940feefd9ee   79.00                    papelaria  \n",
       "39647  e9c1abcc7126360336d8f56d49041a8c  349.00                 beleza_saude  \n",
       "39648  1cdfaf0cc5abd6063d3a10ae3318f345  169.90              cama_mesa_banho  \n",
       "\n",
       "[39649 rows x 10 columns]"
      ]
     },
     "execution_count": 340,
     "metadata": {},
     "output_type": "execute_result"
    }
   ],
   "source": [
    "df_order_item_product= pd.merge(df_order_payments_mod,df_order_item_product,how = \"inner\", on = \"order_id\")\n",
    "df_order_item_product"
   ]
  },
  {
   "cell_type": "code",
   "execution_count": 344,
   "id": "afda38f4-e552-4de6-b929-1062c5e1faba",
   "metadata": {
    "tags": []
   },
   "outputs": [
    {
     "data": {
      "text/plain": [
       "6667"
      ]
     },
     "execution_count": 344,
     "metadata": {},
     "output_type": "execute_result"
    }
   ],
   "source": [
    "df_order_item_product[\"order_id\"].duplicated().sum()"
   ]
  },
  {
   "cell_type": "code",
   "execution_count": 348,
   "id": "a7298519-21a1-4bae-88c7-a188410cd1e7",
   "metadata": {
    "tags": []
   },
   "outputs": [],
   "source": [
    "df_order_item_product = df_order_item_product.drop_duplicates(subset=\"order_id\")"
   ]
  },
  {
   "cell_type": "code",
   "execution_count": 350,
   "id": "8e46c76b-44a9-4055-85bb-3fc11053156b",
   "metadata": {
    "tags": []
   },
   "outputs": [
    {
     "data": {
      "text/plain": [
       "order_id                  0\n",
       "payment_type              0\n",
       "payment_installments      0\n",
       "customer_id               0\n",
       "customer_city             0\n",
       "tiempo_entrega_menor_8    0\n",
       "order_item_id             0\n",
       "product_id                0\n",
       "price                     0\n",
       "product_category_name     0\n",
       "dtype: int64"
      ]
     },
     "execution_count": 350,
     "metadata": {},
     "output_type": "execute_result"
    }
   ],
   "source": [
    "df_order_item_product.isnull().sum()"
   ]
  },
  {
   "cell_type": "code",
   "execution_count": 352,
   "id": "851101ea-359a-461e-a84f-2d065c1c1506",
   "metadata": {},
   "outputs": [
    {
     "data": {
      "text/html": [
       "<div>\n",
       "<style scoped>\n",
       "    .dataframe tbody tr th:only-of-type {\n",
       "        vertical-align: middle;\n",
       "    }\n",
       "\n",
       "    .dataframe tbody tr th {\n",
       "        vertical-align: top;\n",
       "    }\n",
       "\n",
       "    .dataframe thead th {\n",
       "        text-align: right;\n",
       "    }\n",
       "</style>\n",
       "<table border=\"1\" class=\"dataframe\">\n",
       "  <thead>\n",
       "    <tr style=\"text-align: right;\">\n",
       "      <th></th>\n",
       "      <th>payment_type</th>\n",
       "      <th>payment_installments</th>\n",
       "      <th>customer_city</th>\n",
       "      <th>price</th>\n",
       "      <th>product_category_name</th>\n",
       "    </tr>\n",
       "  </thead>\n",
       "  <tbody>\n",
       "    <tr>\n",
       "      <th>0</th>\n",
       "      <td>credit_card</td>\n",
       "      <td>1</td>\n",
       "      <td>sao paulo</td>\n",
       "      <td>17.00</td>\n",
       "      <td>automotivo</td>\n",
       "    </tr>\n",
       "    <tr>\n",
       "      <th>1</th>\n",
       "      <td>credit_card</td>\n",
       "      <td>1</td>\n",
       "      <td>sao paulo</td>\n",
       "      <td>56.99</td>\n",
       "      <td>perfumaria</td>\n",
       "    </tr>\n",
       "    <tr>\n",
       "      <th>2</th>\n",
       "      <td>credit_card</td>\n",
       "      <td>1</td>\n",
       "      <td>belo horizonte</td>\n",
       "      <td>59.90</td>\n",
       "      <td>utilidades_domesticas</td>\n",
       "    </tr>\n",
       "    <tr>\n",
       "      <th>3</th>\n",
       "      <td>credit_card</td>\n",
       "      <td>1</td>\n",
       "      <td>sao paulo</td>\n",
       "      <td>14.85</td>\n",
       "      <td>moveis_decoracao</td>\n",
       "    </tr>\n",
       "    <tr>\n",
       "      <th>4</th>\n",
       "      <td>credit_card</td>\n",
       "      <td>1</td>\n",
       "      <td>sao paulo</td>\n",
       "      <td>49.99</td>\n",
       "      <td>consoles_games</td>\n",
       "    </tr>\n",
       "  </tbody>\n",
       "</table>\n",
       "</div>"
      ],
      "text/plain": [
       "  payment_type  payment_installments   customer_city  price  \\\n",
       "0  credit_card                     1       sao paulo  17.00   \n",
       "1  credit_card                     1       sao paulo  56.99   \n",
       "2  credit_card                     1  belo horizonte  59.90   \n",
       "3  credit_card                     1       sao paulo  14.85   \n",
       "4  credit_card                     1       sao paulo  49.99   \n",
       "\n",
       "   product_category_name  \n",
       "0             automotivo  \n",
       "1             perfumaria  \n",
       "2  utilidades_domesticas  \n",
       "3       moveis_decoracao  \n",
       "4         consoles_games  "
      ]
     },
     "execution_count": 352,
     "metadata": {},
     "output_type": "execute_result"
    }
   ],
   "source": [
    "df_order_item_product = df_order_item_product[[\"payment_type\",\"payment_installments\",\"customer_city\",\"price\",\"product_category_name\"]] \n",
    "df_order_item_product.head()"
   ]
  },
  {
   "cell_type": "code",
   "execution_count": 354,
   "id": "504ce649-f208-4dcf-82c2-962795bed03f",
   "metadata": {
    "tags": []
   },
   "outputs": [
    {
     "data": {
      "text/plain": [
       "payment_type\n",
       "credit_card    25607\n",
       "boleto          5896\n",
       "voucher          901\n",
       "debit_card       578\n",
       "Name: count, dtype: Int64"
      ]
     },
     "execution_count": 354,
     "metadata": {},
     "output_type": "execute_result"
    }
   ],
   "source": [
    "df_order_item_product[\"payment_type\"].value_counts()"
   ]
  },
  {
   "cell_type": "markdown",
   "id": "b96f2787-aea3-44cc-97a1-40bf9517ea26",
   "metadata": {},
   "source": [
    "DE ESTA MANERA PODEMOS VER QUE EXISTEN 4 METODOS DE PAGOS, DE LOS CUALES EL PAGO CON TARJETA DE CREDITO ES EL QUE\n",
    "MAYORMENTE SE UTILZA, SUPERANDO DE MANERA SIGNIFICATIC AL QUE SE ENCUENTRA ANTERIOR. EXISTEN 25607 COMPRAS"
   ]
  },
  {
   "cell_type": "code",
   "execution_count": 358,
   "id": "baa7694c-5ca9-4f17-86b4-0fe81225e03f",
   "metadata": {
    "tags": []
   },
   "outputs": [
    {
     "data": {
      "text/plain": [
       "payment_installments\n",
       "1     16929\n",
       "2      4317\n",
       "3      3478\n",
       "4      2109\n",
       "10     1520\n",
       "5      1511\n",
       "8      1299\n",
       "6      1114\n",
       "7       430\n",
       "9       187\n",
       "12       38\n",
       "15       17\n",
       "11        6\n",
       "20        6\n",
       "14        4\n",
       "18        4\n",
       "24        4\n",
       "13        4\n",
       "21        1\n",
       "0         1\n",
       "17        1\n",
       "16        1\n",
       "23        1\n",
       "Name: count, dtype: int64"
      ]
     },
     "execution_count": 358,
     "metadata": {},
     "output_type": "execute_result"
    }
   ],
   "source": [
    "df_order_item_product[\"payment_installments\"].value_counts()"
   ]
  },
  {
   "cell_type": "markdown",
   "id": "3a2ffaa0-f225-4614-9757-e94ceaaa6eb7",
   "metadata": {},
   "source": [
    "PODEMOS OBSERVAR QUE LA MAYOR CANTIDAD DE COMPRAS SE REALIZAN EN UNA CUOTA. POR EJEMPLO SE PODRÍA PENSAR EN ESA GENTE\n",
    "QUE SON QUIENES GENERAN LA MAYOR CANTIDAD DE COMPRAS Y REALIZAR ALGUN TIPO DE PROMOCION DE DESCUENTO, DE ESA MANERA\n",
    "ES POSIBLE QUE LOS CLIENTES REALICEN COMPRAS DE MAYOR MONTOS, Y QUIENES REALIZAN COMPRAS EN MAYOR CANTIDAD DE PAGOS,\n",
    "PASEN A REALIZAR COMPRAS EN UN PAGO Y HASTA REALICEN COMPRAS DE MONTOS MAS GRANDES.\n",
    "PARAS LAS COMPRAS A 6 CUOTAS, ES POSIBLE QUE NO TNGA SENTIDO INVERTIR TIEMPO Y DINERO EN GENERAR PROYECTOS PARA AUMENTAR,\n",
    "YA QUE NO MODIFICAN EL INGRESO A GRANDES PASOS DE LA EMPRESA"
   ]
  },
  {
   "cell_type": "markdown",
   "id": "91e325ca-217e-475e-a7f1-c6f0937061ed",
   "metadata": {},
   "source": [
    "## EXPORTACION DE ARCHIVOS CSV"
   ]
  },
  {
   "cell_type": "code",
   "execution_count": null,
   "id": "60ac78bc-58f4-4121-8d73-83b5de49c757",
   "metadata": {},
   "outputs": [],
   "source": []
  }
 ],
 "metadata": {
  "kernelspec": {
   "display_name": "Python 3 (ipykernel)",
   "language": "python",
   "name": "python3"
  },
  "language_info": {
   "codemirror_mode": {
    "name": "ipython",
    "version": 3
   },
   "file_extension": ".py",
   "mimetype": "text/x-python",
   "name": "python",
   "nbconvert_exporter": "python",
   "pygments_lexer": "ipython3",
   "version": "3.11.7"
  }
 },
 "nbformat": 4,
 "nbformat_minor": 5
}
