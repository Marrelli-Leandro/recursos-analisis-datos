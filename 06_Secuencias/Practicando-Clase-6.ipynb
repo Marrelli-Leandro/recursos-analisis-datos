{
 "cells": [
  {
   "cell_type": "markdown",
   "id": "88d86c74-06bb-4ee5-8eb5-0921d658218e",
   "metadata": {},
   "source": [
    "# Clase numero 6"
   ]
  },
  {
   "cell_type": "markdown",
   "id": "07e6085c-8a13-4087-98f6-1410e9a0a9ce",
   "metadata": {},
   "source": [
    "## WHILE"
   ]
  },
  {
   "cell_type": "markdown",
   "id": "b13f280e-52b5-4b4c-9bd2-a7c3be7b4660",
   "metadata": {},
   "source": [
    "### 1.1 Utilizacion del while"
   ]
  },
  {
   "cell_type": "code",
   "execution_count": null,
   "id": "60e93871-3536-4cea-b215-a886fa596835",
   "metadata": {},
   "outputs": [
    {
     "name": "stdin",
     "output_type": "stream",
     "text": [
      "Ingresar contraseña -->  123\n"
     ]
    },
    {
     "name": "stdout",
     "output_type": "stream",
     "text": [
      "La contraseña ingresada es incorrecta\n"
     ]
    },
    {
     "name": "stdin",
     "output_type": "stream",
     "text": [
      "Ingrese nuevamente la contraseña -->  123456\n"
     ]
    },
    {
     "name": "stdout",
     "output_type": "stream",
     "text": [
      "La contraseña ingresada es incorrecta\n"
     ]
    },
    {
     "name": "stdin",
     "output_type": "stream",
     "text": [
      "Ingrese nuevamente la contraseña -->  123456\n"
     ]
    },
    {
     "name": "stdout",
     "output_type": "stream",
     "text": [
      "La contraseña ingresada es incorrecta\n"
     ]
    }
   ],
   "source": [
    "### VARIABLES ###\n",
    "password = \"123456\"\n",
    "#################\n",
    "\n",
    "password_ingresada = input(\"Ingresar contraseña --> \")\n",
    "\n",
    "while(password_ingresada != password):\n",
    "    print(\"La contraseña ingresada es incorrecta\")\n",
    "    password_ingresada = str(input(\"Ingrese nuevamente la contraseña --> \")\n",
    "else:\n",
    "    print(\"Contraseña ingresada correctamente\")"
   ]
  },
  {
   "cell_type": "markdown",
   "id": "77f65f5d-36a6-4e05-9dc2-ceb07fae6ad2",
   "metadata": {},
   "source": [
    "### 1.2 Utilizacion del while con contador y else"
   ]
  },
  {
   "cell_type": "code",
   "execution_count": 3,
   "id": "886bcfd8-4c30-46a8-8e3c-5af533ef8760",
   "metadata": {},
   "outputs": [
    {
     "name": "stdin",
     "output_type": "stream",
     "text": [
      "Ingresar contraseña -->  123\n"
     ]
    },
    {
     "name": "stdout",
     "output_type": "stream",
     "text": [
      "La contraseña ingresada es incorrecta\n"
     ]
    },
    {
     "name": "stdin",
     "output_type": "stream",
     "text": [
      "Ingrese nuevamente la contraseña -->  123\n"
     ]
    },
    {
     "name": "stdout",
     "output_type": "stream",
     "text": [
      "La contraseña ingresada es incorrecta\n"
     ]
    },
    {
     "name": "stdin",
     "output_type": "stream",
     "text": [
      "Ingrese nuevamente la contraseña -->  123\n"
     ]
    },
    {
     "name": "stdout",
     "output_type": "stream",
     "text": [
      "La contraseña ingresada es incorrecta\n",
      "No tiene mas oportunidades\n",
      "Pongo este mensaje para ver de que el break salta al else\n"
     ]
    }
   ],
   "source": [
    "### VARIABLES ###\n",
    "password = \"123456\"\n",
    "contador = 0\n",
    "#################\n",
    "\n",
    "password_ingresada = input(\"Ingresar contraseña --> \")\n",
    "\n",
    "while(password_ingresada != password):\n",
    "    print(\"La contraseña ingresada es incorrecta\")\n",
    "    contador += 1\n",
    "    if(contador > 2):\n",
    "        print(\"No tiene mas oportunidades\")\n",
    "        break\n",
    "    password_ingresada = input(\"Ingrese nuevamente la contraseña --> \")\n",
    "else:\n",
    "    print(\"Contraseña ingresada conrrectamente\") \n",
    "\n",
    "print(\"Pongo este mensaje para ver de que el break salta al else\")"
   ]
  },
  {
   "cell_type": "markdown",
   "id": "ceabac14-371d-4957-9d01-550f5e661791",
   "metadata": {},
   "source": [
    "## FOR"
   ]
  },
  {
   "cell_type": "markdown",
   "id": "e8902209-bd96-4aa7-9863-07aa975e982f",
   "metadata": {},
   "source": [
    "### 1.3 Utilizacion del for para contar una letra"
   ]
  },
  {
   "cell_type": "code",
   "execution_count": 8,
   "id": "235f94d3-cd7f-4313-a21e-1e1bdda26328",
   "metadata": {},
   "outputs": [
    {
     "name": "stdout",
     "output_type": "stream",
     "text": [
      " En el mensaje, se encontraro 7 lestras e\n"
     ]
    }
   ],
   "source": [
    "### VARIABLES ###\n",
    "mensaje = \"Este es un mensaje de prueba\"\n",
    "contador = 0\n",
    "#################\n",
    "\n",
    "mensaje = mensaje.lower()\n",
    "for letra in mensaje:\n",
    "    if letra == \"e\":\n",
    "        contador += 1\n",
    "respuesta = (\" En el mensaje, se encontraro {} lestras e\").format(contador)\n",
    "print(respuesta)"
   ]
  },
  {
   "cell_type": "markdown",
   "id": "f7535ff7-85b7-4e22-a102-c92ecad3d6c4",
   "metadata": {},
   "source": [
    "## COLECCION DE DATOS"
   ]
  },
  {
   "cell_type": "markdown",
   "id": "7d621c88-ac6f-4c8b-8a2b-031c91e8fa7b",
   "metadata": {},
   "source": [
    "### 1.4 LISTAS"
   ]
  },
  {
   "cell_type": "code",
   "execution_count": 26,
   "id": "46d46d40-0afe-4d1e-bfd1-ffb2815ecd53",
   "metadata": {},
   "outputs": [
    {
     "name": "stdout",
     "output_type": "stream",
     "text": [
      "['Daniel', 'Graciela', 'Gerardo', 'Sebastian', 'Leandro']\n",
      "La lista tiene 5 integrantes\n",
      "\n",
      " ['Daniel', 'Graciela', 'Gerardo', 'Sebastian', 'Leandro', 'Yago']\n",
      "La lista tiene 6 integrantes\n"
     ]
    }
   ],
   "source": [
    "### VARIABLES ###\n",
    "nombres = [\"Daniel\",\"Graciela\",\"Gerardo\",\"Sebastian\",\"Leandro\"]\n",
    "#################\n",
    "\n",
    "print(nombres)\n",
    "largo = len(nombres)\n",
    "print(f\"La lista tiene {largo} integrantes\")\n",
    "\n",
    "# Ahora agregamos un integrante al final de la lista\n",
    "nombres.append(\"Yago\")\n",
    "largo = len(nombres)\n",
    "print(\"\\n\",nombres)\n",
    "print(f\"La lista tiene {largo} integrantes\")\n"
   ]
  },
  {
   "cell_type": "code",
   "execution_count": 35,
   "id": "a5520c8a-f329-4d4e-adaf-0a6e77b9823e",
   "metadata": {},
   "outputs": [
    {
     "name": "stdout",
     "output_type": "stream",
     "text": [
      "['Daniel', 'Graciela', 'Gerardo', 'Sebastian', 'Leandro']\n",
      "['Daniel', 'Graciela', 'Gerardo', 'Sebastian', 'Yago', 'Leandro']\n",
      "['Daniel', 'Graciela', 'Gerardo', 'Sebastian', 'Yago']\n",
      "['Daniel', 'Graciela', 'Gerardo', 'Sebastian']\n",
      "['Daniel', 'Graciela', 'Sebastian']\n"
     ]
    }
   ],
   "source": [
    "print(nombres)\n",
    "nombres.insert(4,\"Yago\") # agregamos en la posicion 4 el nombre Yago\n",
    "print(nombres)\n",
    "\n",
    "nombres.remove(\"Leandro\") # eliminamos el elemento Leandro\n",
    "print(nombres)\n",
    "\n",
    "nombres.pop() #eliminamos el ultimo elemento\n",
    "print(nombres)\n",
    "\n",
    "nombres.pop(2) #eliminamos el elemento el la posiicion 2\n",
    "print(nombres)"
   ]
  },
  {
   "cell_type": "code",
   "execution_count": 59,
   "id": "4080e804-41fa-497a-8c6d-3c7b2b3398b0",
   "metadata": {},
   "outputs": [
    {
     "name": "stdout",
     "output_type": "stream",
     "text": [
      "['Daniel', 'Gerardo', 'Graciela', 'Leandro', 'Sebastian']\n",
      "['Sebastian', 'Leandro', 'Graciela', 'Gerardo', 'Daniel']\n",
      "['Daniel', 'Gerardo', 'Graciela', 'Leandro', 'Sebastian']\n",
      "El largo de la lista es de 5 elementos\n"
     ]
    }
   ],
   "source": [
    "print(nombres)\n",
    "nombres.reverse() #Invertimos las posiciones\n",
    "print(nombres)\n",
    "nombres.sort() #Ordenamos de forma ascendente\n",
    "print(nombres)\n",
    "largo = len(nombres)\n",
    "print(f\"El largo de la lista es de {largo} elementos\")"
   ]
  },
  {
   "cell_type": "markdown",
   "id": "cbef9bc8-e142-48f3-8593-f4a1d0802ebe",
   "metadata": {},
   "source": [
    "### TUPLAS"
   ]
  },
  {
   "cell_type": "code",
   "execution_count": 76,
   "id": "993d325f-12c7-4d83-b96c-9644c44f529a",
   "metadata": {},
   "outputs": [
    {
     "name": "stdout",
     "output_type": "stream",
     "text": [
      "('Daniel', 'Graciela', 'Gerardo', 'Sebastian', 'Graciela', 'Leandro', 'Daniel')\n"
     ]
    }
   ],
   "source": [
    "### VARIABLES ###\n",
    "nombres_tupla = (\"Daniel\", \"Graciela\", \"Gerardo\", \"Sebastian\",\"Graciela\", \"Leandro\", \"Daniel\")\n",
    "#################\n",
    "print(nombres_tupla)\n"
   ]
  },
  {
   "cell_type": "markdown",
   "id": "add0b176-cccf-4d2f-b824-8aa4bc449126",
   "metadata": {},
   "source": [
    "Lo que si se puede hacer es ordenar una tupla, contar cuantas veces aparece un elemento, eliminar elementos duplicados,\n",
    "y obtener un elemento de una posicion determinada."
   ]
  },
  {
   "cell_type": "code",
   "execution_count": 77,
   "id": "0296f2ab-c776-45d7-9a7d-8e0657a99aa2",
   "metadata": {},
   "outputs": [
    {
     "name": "stdout",
     "output_type": "stream",
     "text": [
      "{'Daniel', 'Graciela', 'Gerardo', 'Leandro', 'Sebastian'}\n"
     ]
    }
   ],
   "source": [
    "tupla_set = set(nombres_tupla) # De esta manera eliminamos duplicados\n",
    "print(tupla_set)"
   ]
  },
  {
   "cell_type": "code",
   "execution_count": 78,
   "id": "a719c317-ecd4-4581-a77a-73e8cf77206e",
   "metadata": {},
   "outputs": [
    {
     "name": "stdout",
     "output_type": "stream",
     "text": [
      "2\n"
     ]
    }
   ],
   "source": [
    "tupla_count = nombres_tupla.count(\"Daniel\")\n",
    "print(tupla_count)"
   ]
  },
  {
   "cell_type": "markdown",
   "id": "cf19c7b6-2379-4832-a9c8-9984abee0f9c",
   "metadata": {},
   "source": [
    "### DICCIONARIO"
   ]
  },
  {
   "cell_type": "code",
   "execution_count": 93,
   "id": "94f8f441-2cdf-4b93-a020-861498e95ba3",
   "metadata": {},
   "outputs": [
    {
     "name": "stdout",
     "output_type": "stream",
     "text": [
      "{'nombre': 'Leandro', 'apellido': 'Marrelli', 'edad': 34, 'nacionalidad': 'Argentino'}\n",
      "\n",
      "Obtenemos los valores --> dict_values(['Leandro', 'Marrelli', 34, 'Argentino'])\n",
      "\n",
      "Obtenemos las llaves --> dict_keys(['nombre', 'apellido', 'edad', 'nacionalidad'])\n",
      "\n",
      "El valor de apellido es --> Marrelli\n"
     ]
    }
   ],
   "source": [
    "### VARIABLES ###\n",
    "diccionario = {\"nombre\":\"Leandro\", \"apellido\":\"Marrelli\", \"edad\":34, \"nacionalidad\":\"Argentino\"}\n",
    "#################\n",
    "\n",
    "print(diccionario)\n",
    "\n",
    "print(\"\\nObtenemos los valores -->\", diccionario.values()) #obtenemos valores\n",
    "\n",
    "print(\"\\nObtenemos las llaves -->\", diccionario.keys()) #obtenemos llaves\n",
    "\n",
    "print(\"\\nEl valor de apellido es -->\", diccionario.get(\"apellido\")) #obtenemos el valor de una llave en particular"
   ]
  },
  {
   "cell_type": "code",
   "execution_count": null,
   "id": "37c8b1c6-a433-4dea-843e-5fb06d153ce5",
   "metadata": {},
   "outputs": [],
   "source": []
  }
 ],
 "metadata": {
  "kernelspec": {
   "display_name": "Python 3 (ipykernel)",
   "language": "python",
   "name": "python3"
  },
  "language_info": {
   "codemirror_mode": {
    "name": "ipython",
    "version": 3
   },
   "file_extension": ".py",
   "mimetype": "text/x-python",
   "name": "python",
   "nbconvert_exporter": "python",
   "pygments_lexer": "ipython3",
   "version": "3.11.7"
  }
 },
 "nbformat": 4,
 "nbformat_minor": 5
}
