{
 "cells": [
  {
   "cell_type": "markdown",
   "id": "b2e53df2-7530-4513-9332-ee38ebd313f8",
   "metadata": {},
   "source": [
    "# LIBRERIA PANDAS"
   ]
  },
  {
   "cell_type": "code",
   "execution_count": 1,
   "id": "a3ec73a7-4c6b-43fe-b18b-def4f31f737e",
   "metadata": {},
   "outputs": [],
   "source": [
    "### IMPORTACION DE LIBRERIAS ###\n",
    "import pandas as pd\n",
    "import numpy as np\n",
    "################################"
   ]
  },
  {
   "cell_type": "markdown",
   "id": "aef0a6db-f285-449a-ad37-9d75380c3d03",
   "metadata": {},
   "source": [
    "## Ejercicio 1.0 --> creacion de series numerica con pandas"
   ]
  },
  {
   "cell_type": "code",
   "execution_count": 2,
   "id": "3c7cdc44-2043-4d2c-a8c5-308ab4e4596a",
   "metadata": {},
   "outputs": [
    {
     "name": "stdout",
     "output_type": "stream",
     "text": [
      "0    1\n",
      "1    2\n",
      "2    3\n",
      "3    4\n",
      "4    5\n",
      "dtype: int64\n",
      "0    1\n",
      "1    2\n",
      "2    3\n",
      "3    4\n",
      "4    5\n",
      "dtype: int32\n",
      "0    1\n",
      "1    2\n",
      "2    3\n",
      "3    4\n",
      "4    5\n",
      "dtype: int64\n"
     ]
    }
   ],
   "source": [
    "lista_1 = [1,2,3,4,5]\n",
    "array_lista_1 = np.array(lista_1)\n",
    "\n",
    "serie_lista = pd.Series(lista_1)\n",
    "serie_array = pd.Series(array_lista_1)\n",
    "serie_directa = pd.Series([1,2,3,4,5])\n",
    "\n",
    "print (serie_lista)\n",
    "print(serie_array)\n",
    "print(serie_directa)"
   ]
  },
  {
   "cell_type": "markdown",
   "id": "96564d3b-645e-4dc7-bb54-a9b184df557f",
   "metadata": {},
   "source": [
    "## Ejercicio 1.1 --> creacion de series string con pandas"
   ]
  },
  {
   "cell_type": "code",
   "execution_count": 7,
   "id": "bc6a7c2e-c717-491e-9f84-845c2bc32579",
   "metadata": {},
   "outputs": [
    {
     "name": "stdout",
     "output_type": "stream",
     "text": [
      "0        Fiat\n",
      "1        Ford\n",
      "2      Toyota\n",
      "3       Honda\n",
      "4    Chevrlet\n",
      "dtype: string\n"
     ]
    }
   ],
   "source": [
    "serie_string = pd.Series([\"Fiat\",\"Ford\",\"Toyota\",\"Honda\",\"Chevrlet\"], dtype=\"string\")\n",
    "print(serie_string)"
   ]
  },
  {
   "cell_type": "code",
   "execution_count": 9,
   "id": "2a49cf21-8b85-40fb-b193-e8fa95b48ac9",
   "metadata": {},
   "outputs": [
    {
     "name": "stdout",
     "output_type": "stream",
     "text": [
      "Fiat        3\n",
      "Ford        6\n",
      "Toyota      1\n",
      "Honda       4\n",
      "Chevrlet    7\n",
      "dtype: int64\n"
     ]
    }
   ],
   "source": [
    "diccionario_marcas = {\"Fiat\":3,\"Ford\":6,\"Toyota\":1,\"Honda\":4,\"Chevrlet\":7}\n",
    "serie_dic = pd.Series(diccionario_marcas)\n",
    "print(serie_dic)"
   ]
  },
  {
   "cell_type": "markdown",
   "id": "c2fcbb49-b87f-4464-9e3c-ae8939d1ab02",
   "metadata": {},
   "source": [
    "## Ejercicio 1.2 --> Creacion de serie pandas con serie de numpy, con numero aleatorios"
   ]
  },
  {
   "cell_type": "code",
   "execution_count": 13,
   "id": "6caac7d6-3623-45f5-ba82-e351d6e27669",
   "metadata": {},
   "outputs": [
    {
     "name": "stdout",
     "output_type": "stream",
     "text": [
      "[ 6 12 29 24 29  7 22  5 19 22]\n",
      "0     6\n",
      "1    12\n",
      "2    29\n",
      "3    24\n",
      "4    29\n",
      "5     7\n",
      "6    22\n",
      "7     5\n",
      "8    19\n",
      "9    22\n",
      "dtype: int64\n"
     ]
    }
   ],
   "source": [
    "rng = np.random.default_rng()\n",
    "array_random = rng.integers(low=5, high=30, size = 10)\n",
    "print(array_random)\n",
    "\n",
    "serie_random = pd.Series(array_random)\n",
    "print(serie_random)"
   ]
  },
  {
   "cell_type": "markdown",
   "id": "2be590bf-5c1f-49ef-8fa7-1599ae7c94c3",
   "metadata": {},
   "source": [
    "## Ejercicio 1.3 --> Funciones para trabajar con series de panda"
   ]
  },
  {
   "cell_type": "code",
   "execution_count": 14,
   "id": "1770fc17-45c3-4a7a-9838-6bfbb4326918",
   "metadata": {},
   "outputs": [
    {
     "name": "stdout",
     "output_type": "stream",
     "text": [
      "0     11\n",
      "1     23\n",
      "2     11\n",
      "3     12\n",
      "4     21\n",
      "      ..\n",
      "95     6\n",
      "96    13\n",
      "97    16\n",
      "98     3\n",
      "99     1\n",
      "Length: 100, dtype: int64\n"
     ]
    }
   ],
   "source": [
    "numeros = pd.Series(rng.integers(low = 1, high= 25, size = 100))\n",
    "print(numeros)"
   ]
  },
  {
   "cell_type": "markdown",
   "id": "4c2e12be-417d-43ac-82dc-f5b9d9dc5ebe",
   "metadata": {},
   "source": [
    "Como podemos observar no representa la totalidad de los registros. A continuacion veremos ciertas funciones"
   ]
  },
  {
   "cell_type": "markdown",
   "id": "0c737d08-2b28-4f24-842d-a0c44f548873",
   "metadata": {},
   "source": [
    "### 1- saber cual es el lardo de una serie, es decir cuantos registros tiene"
   ]
  },
  {
   "cell_type": "code",
   "execution_count": 17,
   "id": "327b2923-cb79-47db-8d9b-c2d7219c6890",
   "metadata": {},
   "outputs": [
    {
     "name": "stdout",
     "output_type": "stream",
     "text": [
      "El largo de la serie es -->  100\n"
     ]
    }
   ],
   "source": [
    "largo = len(numeros)\n",
    "print(\"El largo de la serie es --> \",largo)"
   ]
  },
  {
   "cell_type": "markdown",
   "id": "253ceacb-cf65-4e76-83b7-bc6d617db3e9",
   "metadata": {},
   "source": [
    "### 2- Saber cual es su estructura, es decir cuantos registros y columnas. En este caso una sola columna"
   ]
  },
  {
   "cell_type": "code",
   "execution_count": 20,
   "id": "d354c933-255c-402e-b130-e1b76368f900",
   "metadata": {},
   "outputs": [
    {
     "name": "stdout",
     "output_type": "stream",
     "text": [
      "La estructura es -->  (100,)\n"
     ]
    }
   ],
   "source": [
    "estructura = numeros.shape\n",
    "print(\"La estructura es --> \", estructura)"
   ]
  },
  {
   "cell_type": "markdown",
   "id": "98258cfd-7dd2-4a50-83c7-0ab0f8cab168",
   "metadata": {},
   "source": [
    "### 3- Saber cual es el tipo de dato que contiene la serie"
   ]
  },
  {
   "cell_type": "code",
   "execution_count": 21,
   "id": "078349dc-1514-4f34-a0e1-de36a9df084a",
   "metadata": {},
   "outputs": [
    {
     "name": "stdout",
     "output_type": "stream",
     "text": [
      "La serie contiene -->  int64\n"
     ]
    }
   ],
   "source": [
    "tipo_dato = numeros.dtype\n",
    "print(\"La serie contiene --> \",tipo_dato)"
   ]
  },
  {
   "cell_type": "markdown",
   "id": "c5ad2250-42b9-42a9-a77a-42abd80e00c9",
   "metadata": {},
   "source": [
    "### 4- Visualizar una cantidad x de los primeros registros"
   ]
  },
  {
   "cell_type": "code",
   "execution_count": 22,
   "id": "eb871614-7570-498c-b859-87f5270f0f39",
   "metadata": {},
   "outputs": [
    {
     "name": "stdout",
     "output_type": "stream",
     "text": [
      "0    11\n",
      "1    23\n",
      "2    11\n",
      "3    12\n",
      "4    21\n",
      "dtype: int64\n"
     ]
    }
   ],
   "source": [
    "primeros_registros = numeros.head(5)\n",
    "print(primeros_registros)"
   ]
  },
  {
   "cell_type": "markdown",
   "id": "3ad68612-4eda-4801-ac95-689cdd87e9ef",
   "metadata": {},
   "source": [
    "### 5- Visualizar una cantidad x de los ultimos registros"
   ]
  },
  {
   "cell_type": "code",
   "execution_count": 24,
   "id": "a6e1fc1a-a18c-42a9-b57a-41bf1d62562b",
   "metadata": {},
   "outputs": [
    {
     "name": "stdout",
     "output_type": "stream",
     "text": [
      "95     6\n",
      "96    13\n",
      "97    16\n",
      "98     3\n",
      "99     1\n",
      "dtype: int64\n"
     ]
    }
   ],
   "source": [
    "ultimos_registros = numeros.tail(5)\n",
    "print(ultimos_registros)"
   ]
  },
  {
   "cell_type": "markdown",
   "id": "c8539b47-8522-4f88-9da1-524056b46b57",
   "metadata": {},
   "source": [
    " ## Ejercicio 1.4 --> Visualizacion de registros por indice o por condiciones "
   ]
  },
  {
   "cell_type": "markdown",
   "id": "a179bb88-5835-465f-a801-b87fdfbc1260",
   "metadata": {},
   "source": [
    "### 1- Por indice"
   ]
  },
  {
   "cell_type": "code",
   "execution_count": 34,
   "id": "76cbe328-a695-464c-86e6-303b71ce19f7",
   "metadata": {},
   "outputs": [
    {
     "name": "stdout",
     "output_type": "stream",
     "text": [
      "[ 85 395  62 193 274 435 486 145 338 369]\n",
      "Mendoza          85\n",
      "Buenos Aires    395\n",
      "San Luis         62\n",
      "San Juan        193\n",
      "Cordoba         274\n",
      "Neuquen         435\n",
      "Santa Fe        486\n",
      "Jujuy           145\n",
      "Chubut          338\n",
      "Salta           369\n",
      "dtype: int64\n"
     ]
    }
   ],
   "source": [
    "rng = np.random.default_rng()\n",
    "array_valores = rng.integers(low = 1, high = 500, size = 10)\n",
    "print(array_valores)\n",
    "index = [\"Mendoza\",\"Buenos Aires\",\"San Luis\",\"San Juan\",\"Cordoba\",\"Neuquen\",\"Santa Fe\",\"Jujuy\",\"Chubut\",\"Salta\"]\n",
    "\n",
    "serie_provincias = pd.Series(array_valores,index = index)\n",
    "print(serie_provincias)"
   ]
  },
  {
   "cell_type": "markdown",
   "id": "0936a650-8e1f-4a15-a797-7f055d55f83c",
   "metadata": {},
   "source": [
    "si queremos visualizar tanto el index como el valor de la posicion 0, hacemos lo siguiente\n",
    "\n",
    "Si deseamos visualizar otra posicion, simplemente cambiamos el cero por la posicion que sea necesaria\n",
    "\n",
    "Es util recordar que si el valor de la posicion es negativo, desde 1 en adelante, se recorre la serie de atras para adelante"
   ]
  },
  {
   "cell_type": "code",
   "execution_count": 14,
   "id": "ec558d58-8cf6-43c4-bfc2-890eb88d9729",
   "metadata": {},
   "outputs": [
    {
     "name": "stdout",
     "output_type": "stream",
     "text": [
      "Meandoza\n",
      "357\n"
     ]
    }
   ],
   "source": [
    "print(serie_provincias.index[0])\n",
    "print(serie_provincias.iloc[0])"
   ]
  },
  {
   "cell_type": "markdown",
   "id": "6cf4f159-920f-45ce-ab64-7b66ea2bd948",
   "metadata": {},
   "source": [
    "Si deseamos visualizar un rango de posiciones, recordemos qu se utilizan los dos puntos \" : \" si utilizamos los dos puntos,\n",
    "\n",
    "se visualzará tanto los valores como el index\n",
    "\n",
    "Recordar que si no se pone numero inicial, se toma q es cero y si colocamos negativos son de atras para adelante"
   ]
  },
  {
   "cell_type": "code",
   "execution_count": 13,
   "id": "d5f61dfa-b878-4d6c-aa34-8e3302217b4f",
   "metadata": {},
   "outputs": [
    {
     "name": "stdout",
     "output_type": "stream",
     "text": [
      "San Luis    172\n",
      "San Juan     79\n",
      "Cordoba     388\n",
      "Neuquen     231\n",
      "dtype: int64\n"
     ]
    }
   ],
   "source": [
    "print(serie_provincias.iloc[2:6])"
   ]
  },
  {
   "cell_type": "markdown",
   "id": "0edf2d44-c134-4a70-b199-a9b45ee6afc0",
   "metadata": {},
   "source": [
    "### 2- Por condicion"
   ]
  },
  {
   "cell_type": "code",
   "execution_count": 15,
   "id": "6c792b1b-c752-4452-8038-2c6896c56cb1",
   "metadata": {},
   "outputs": [
    {
     "name": "stdout",
     "output_type": "stream",
     "text": [
      "Meandoza        357\n",
      "Buenos Aires    432\n",
      "Cordoba         388\n",
      "dtype: int64\n"
     ]
    }
   ],
   "source": [
    "print(serie_provincias[serie_provincias > 300])"
   ]
  },
  {
   "cell_type": "code",
   "execution_count": 28,
   "id": "38551fcd-5ddc-472d-b2d5-c70c7a4d7f5f",
   "metadata": {},
   "outputs": [
    {
     "name": "stdout",
     "output_type": "stream",
     "text": [
      "Meandoza    357\n",
      "Cordoba     388\n",
      "dtype: int64\n"
     ]
    }
   ],
   "source": [
    "print(serie_provincias[(serie_provincias > 300) & (serie_provincias < 400)])"
   ]
  },
  {
   "cell_type": "markdown",
   "id": "47a6b903-c7a9-492c-b7ab-6312ae16ef18",
   "metadata": {},
   "source": [
    "### 3- Si queremos visualizar por index"
   ]
  },
  {
   "cell_type": "code",
   "execution_count": 35,
   "id": "1299c92a-e52e-417f-9a4e-9404f6252f05",
   "metadata": {},
   "outputs": [
    {
     "name": "stdout",
     "output_type": "stream",
     "text": [
      "85\n"
     ]
    }
   ],
   "source": [
    "print(serie_provincias[\"Mendoza\"])"
   ]
  },
  {
   "cell_type": "code",
   "execution_count": 36,
   "id": "04e36c9e-d9a6-47be-86b2-675cddf8f4a5",
   "metadata": {},
   "outputs": [
    {
     "name": "stdout",
     "output_type": "stream",
     "text": [
      "Mendoza      85\n",
      "Santa Fe    486\n",
      "Salta       369\n",
      "Cordoba     274\n",
      "dtype: int64\n"
     ]
    }
   ],
   "source": [
    "print(serie_provincias[[\"Mendoza\",\"Santa Fe\",\"Salta\",\"Cordoba\"]])"
   ]
  },
  {
   "cell_type": "markdown",
   "id": "4d5fd829-1bba-46df-be14-eda6df5f40d1",
   "metadata": {},
   "source": [
    "## Ejercicio 1.5 --> Funciones matematicas y estadisticas de pandas"
   ]
  },
  {
   "cell_type": "markdown",
   "id": "e04b6beb-bf9e-4bb1-8954-7211a588d3cc",
   "metadata": {},
   "source": [
    "Si se necesita contar elementos, utilizamos lo siguiente"
   ]
  },
  {
   "cell_type": "code",
   "execution_count": 38,
   "id": "9099b90b-9f42-4df7-add0-e4a7101a1f99",
   "metadata": {},
   "outputs": [
    {
     "name": "stdout",
     "output_type": "stream",
     "text": [
      "10\n"
     ]
    }
   ],
   "source": [
    "contar = serie_provincias.count()\n",
    "print(contar)"
   ]
  },
  {
   "cell_type": "markdown",
   "id": "2f5e9aa6-7af2-4562-b81b-8ebf947b9258",
   "metadata": {},
   "source": [
    "### 1- Si se necesita sumar, utilizamos"
   ]
  },
  {
   "cell_type": "code",
   "execution_count": 41,
   "id": "0e603788-c63b-41ad-bc6a-5973215bf23a",
   "metadata": {},
   "outputs": [
    {
     "name": "stdout",
     "output_type": "stream",
     "text": [
      "2782\n"
     ]
    }
   ],
   "source": [
    "suna = serie_provincias.sum()\n",
    "print(suna)"
   ]
  },
  {
   "cell_type": "markdown",
   "id": "0c28af3e-4f51-4856-a2df-93ad86ac05d7",
   "metadata": {},
   "source": [
    "### 2- Para poder ver el valor maximo y minimno"
   ]
  },
  {
   "cell_type": "code",
   "execution_count": 44,
   "id": "ab016c87-f814-41b1-a571-3c680a767435",
   "metadata": {},
   "outputs": [
    {
     "name": "stdout",
     "output_type": "stream",
     "text": [
      "El valor máximo es -->  486\n",
      "El valor minimo es -->  62\n"
     ]
    }
   ],
   "source": [
    "valor_max = serie_provincias.max()\n",
    "valor_min = serie_provincias.min()\n",
    "print(\"El valor máximo es --> \",valor_max)\n",
    "print(\"El valor minimo es --> \",valor_min)"
   ]
  },
  {
   "cell_type": "markdown",
   "id": "893274b2-34a6-417a-badf-ac87ad69d728",
   "metadata": {},
   "source": [
    "### 3- Para Calcular el promedio"
   ]
  },
  {
   "cell_type": "code",
   "execution_count": 45,
   "id": "a5b35dc9-47a6-4f81-9746-efaf90200791",
   "metadata": {},
   "outputs": [
    {
     "name": "stdout",
     "output_type": "stream",
     "text": [
      "El promedio es -->  278.2\n"
     ]
    }
   ],
   "source": [
    "promedio = serie_provincias.mean()\n",
    "print(\"El promedio es --> \",promedio)"
   ]
  },
  {
   "cell_type": "markdown",
   "id": "26357a06-5f27-4a2b-82eb-5288b490b508",
   "metadata": {},
   "source": [
    "### 4- Para calcular la varianza"
   ]
  },
  {
   "cell_type": "code",
   "execution_count": 46,
   "id": "368941b8-a2c8-4677-a975-f75b4c2d05c5",
   "metadata": {},
   "outputs": [
    {
     "name": "stdout",
     "output_type": "stream",
     "text": [
      "La varianza es -->  22479.733333333334\n"
     ]
    }
   ],
   "source": [
    "varianza = serie_provincias.var()\n",
    "print(\"La varianza es --> \",varianza)"
   ]
  },
  {
   "cell_type": "markdown",
   "id": "24870667-263f-4001-a90b-908d16346628",
   "metadata": {},
   "source": [
    "### 5- Para calcular la desviacion tipica"
   ]
  },
  {
   "cell_type": "code",
   "execution_count": 47,
   "id": "09de20f7-86f6-4c55-b561-48e1467a51a2",
   "metadata": {},
   "outputs": [
    {
     "name": "stdout",
     "output_type": "stream",
     "text": [
      "La desviacion tipica es -->  149.93242922507903\n"
     ]
    }
   ],
   "source": [
    "desviacion_tipica = serie_provincias.std()\n",
    "print(\"La desviacion tipica es --> \",desviacion_tipica)"
   ]
  },
  {
   "cell_type": "markdown",
   "id": "882b7b8c-5c79-4ff4-ba4c-0d0583c3b044",
   "metadata": {},
   "source": [
    "### 6- otra funcion muy util es describe, la cual entrega varios valores informativos"
   ]
  },
  {
   "cell_type": "code",
   "execution_count": 49,
   "id": "fb0a3c20-bd3b-4a90-8741-635bee9712eb",
   "metadata": {},
   "outputs": [
    {
     "name": "stdout",
     "output_type": "stream",
     "text": [
      "count     10.000000\n",
      "mean     278.200000\n",
      "std      149.932429\n",
      "min       62.000000\n",
      "25%      157.000000\n",
      "50%      306.000000\n",
      "75%      388.500000\n",
      "max      486.000000\n",
      "dtype: float64\n"
     ]
    }
   ],
   "source": [
    "descripcion = serie_provincias.describe()\n",
    "print(descripcion)"
   ]
  },
  {
   "cell_type": "markdown",
   "id": "0cf335dd-9d38-471f-b190-38d070091f50",
   "metadata": {},
   "source": [
    "## Ejercicio 1.6 Ordenar una serie"
   ]
  },
  {
   "cell_type": "markdown",
   "id": "7e4a13c7-aaf7-47bc-b30a-ab9e3123552b",
   "metadata": {},
   "source": [
    "### 1- Ordenar de manera ascendente"
   ]
  },
  {
   "cell_type": "code",
   "execution_count": 52,
   "id": "210c4717-d0af-408d-8a07-85d46a0aef2c",
   "metadata": {},
   "outputs": [
    {
     "name": "stdout",
     "output_type": "stream",
     "text": [
      "San Luis         62\n",
      "Mendoza          85\n",
      "Jujuy           145\n",
      "San Juan        193\n",
      "Cordoba         274\n",
      "Chubut          338\n",
      "Salta           369\n",
      "Buenos Aires    395\n",
      "Neuquen         435\n",
      "Santa Fe        486\n",
      "dtype: int64\n"
     ]
    }
   ],
   "source": [
    "serie_provincias_ascendente = serie_provincias.sort_values()\n",
    "print(serie_provincias_ascendente)"
   ]
  },
  {
   "cell_type": "markdown",
   "id": "28838111-489b-42b4-be8b-df08bc262e8c",
   "metadata": {},
   "source": [
    "### 2- Ordenar de manera descendente"
   ]
  },
  {
   "cell_type": "code",
   "execution_count": 53,
   "id": "5fa6b382-2b15-4716-b872-9f988ae28cbb",
   "metadata": {},
   "outputs": [
    {
     "name": "stdout",
     "output_type": "stream",
     "text": [
      "Santa Fe        486\n",
      "Neuquen         435\n",
      "Buenos Aires    395\n",
      "Salta           369\n",
      "Chubut          338\n",
      "Cordoba         274\n",
      "San Juan        193\n",
      "Jujuy           145\n",
      "Mendoza          85\n",
      "San Luis         62\n",
      "dtype: int64\n"
     ]
    }
   ],
   "source": [
    "serie_provincias_ascendente = serie_provincias.sort_values(ascending = False)\n",
    "print(serie_provincias_ascendente)"
   ]
  },
  {
   "cell_type": "code",
   "execution_count": 54,
   "id": "450f13a9-f41b-4e98-897b-5bd4e7fd2734",
   "metadata": {},
   "outputs": [
    {
     "name": "stdout",
     "output_type": "stream",
     "text": [
      "Buenos Aires    395\n",
      "Chubut          338\n",
      "Cordoba         274\n",
      "Jujuy           145\n",
      "Mendoza          85\n",
      "Neuquen         435\n",
      "Salta           369\n",
      "San Juan        193\n",
      "San Luis         62\n",
      "Santa Fe        486\n",
      "dtype: int64\n"
     ]
    }
   ],
   "source": [
    "serie_provincias_ascendente = serie_provincias.sort_index()\n",
    "print(serie_provincias_ascendente)"
   ]
  },
  {
   "cell_type": "code",
   "execution_count": 55,
   "id": "15ff5722-b9b3-48c2-9bff-69a9a2febb79",
   "metadata": {},
   "outputs": [
    {
     "name": "stdout",
     "output_type": "stream",
     "text": [
      "Santa Fe        486\n",
      "San Luis         62\n",
      "San Juan        193\n",
      "Salta           369\n",
      "Neuquen         435\n",
      "Mendoza          85\n",
      "Jujuy           145\n",
      "Cordoba         274\n",
      "Chubut          338\n",
      "Buenos Aires    395\n",
      "dtype: int64\n"
     ]
    }
   ],
   "source": [
    "serie_provincias_ascendente = serie_provincias.sort_index(ascending = False)\n",
    "print(serie_provincias_ascendente)"
   ]
  },
  {
   "cell_type": "code",
   "execution_count": 64,
   "id": "5414e3e8-f4cf-476c-a6cf-6988109b4f9c",
   "metadata": {},
   "outputs": [
    {
     "name": "stdout",
     "output_type": "stream",
     "text": [
      "Antonella          Cobranza\n",
      "Isabella                 IT\n",
      "Martina      Administracion\n",
      "Sofia                    IT\n",
      "Leandro                  IT\n",
      "Aldana               Ventas\n",
      "Gisella              Ventas\n",
      "Sebastian                IT\n",
      "Gerardo                  IT\n",
      "Graciela             Ventas\n",
      "Daniel       Administracion\n",
      "dtype: object\n"
     ]
    }
   ],
   "source": [
    "index = [\"Antonella\",\"Isabella\",\"Martina\",\"Sofia\",\"Leandro\",\"Aldana\",\"Gisella\",\"Sebastian\",\"Gerardo\",\"Graciela\",\"Daniel\"]\n",
    "serie_sector_laboral = pd.Series([\"Cobranza\",\"IT\",\"Administracion\",\"IT\",\"IT\",\"Ventas\",\"Ventas\",\"IT\",\"IT\",\"Ventas\",\"Administracion\"], index = index)\n",
    "print(serie_sector_laboral)"
   ]
  },
  {
   "cell_type": "code",
   "execution_count": 69,
   "id": "31f602e3-e394-4b24-92e2-ca9e76f5e4d1",
   "metadata": {},
   "outputs": [
    {
     "name": "stdout",
     "output_type": "stream",
     "text": [
      "IT                5\n",
      "Ventas            3\n",
      "Administracion    2\n",
      "Cobranza          1\n",
      "Name: count, dtype: int64\n"
     ]
    }
   ],
   "source": [
    "print(serie_sector_laboral.value_counts())"
   ]
  },
  {
   "cell_type": "markdown",
   "id": "87ce40c2-8416-4f5c-8615-f4344227f17f",
   "metadata": {},
   "source": [
    "## Ejercicio 1.7 --> fechas"
   ]
  },
  {
   "cell_type": "markdown",
   "id": "cef0fef2-83d1-4902-8258-81e66c2a8a23",
   "metadata": {},
   "source": [
    "### 1- Separacion de fecha mediante guin medio. Esta funcion va dia por dia desde la fecha de inicio hasta la fecha de cierre\n",
    "\n",
    "Tener en cuanta que es YYYY-MM-DD --> año - mes- dia"
   ]
  },
  {
   "cell_type": "code",
   "execution_count": 75,
   "id": "67eca26a-0d6b-4e90-a687-ee658f25fc38",
   "metadata": {},
   "outputs": [
    {
     "name": "stdout",
     "output_type": "stream",
     "text": [
      "DatetimeIndex(['2023-01-01', '2023-01-02', '2023-01-03', '2023-01-04',\n",
      "               '2023-01-05'],\n",
      "              dtype='datetime64[ns]', freq='D')\n"
     ]
    }
   ],
   "source": [
    "print(pd.date_range(start = '2023-01-01', end = '2023-01-05'))"
   ]
  },
  {
   "cell_type": "markdown",
   "id": "c75b8d93-87fe-4147-a4d2-b5322ed407ee",
   "metadata": {},
   "source": [
    "#### Separacion de fecha mediante guin medio. Esta funcion va dia por dia desde la fecha de inicio hasta la fecha de cierre\n",
    "\n",
    "Tener en cunta que es MM/DD/YYYY --> mes / dia / año"
   ]
  },
  {
   "cell_type": "code",
   "execution_count": 76,
   "id": "5df2fbb8-9038-41a6-b268-a97d540993b4",
   "metadata": {},
   "outputs": [
    {
     "name": "stdout",
     "output_type": "stream",
     "text": [
      "DatetimeIndex(['2023-01-01', '2023-01-02', '2023-01-03', '2023-01-04',\n",
      "               '2023-01-05'],\n",
      "              dtype='datetime64[ns]', freq='D')\n"
     ]
    }
   ],
   "source": [
    "print(pd.date_range(start = '01/01/2023', end = '01/05/2023'))"
   ]
  },
  {
   "cell_type": "markdown",
   "id": "84406e03-6d0c-4b85-8bf0-fdbb98ff329b",
   "metadata": {},
   "source": [
    "### 2- Mediante frecuencia"
   ]
  },
  {
   "cell_type": "markdown",
   "id": "f12c49a2-59d5-47fa-8ee9-10eb1147409a",
   "metadata": {},
   "source": [
    "#### FRECUENCIA MEDIANTE ULTIMO ES DEL AÑO"
   ]
  },
  {
   "cell_type": "code",
   "execution_count": 80,
   "id": "cfa09899-234d-49e3-a85e-727ad3631545",
   "metadata": {},
   "outputs": [
    {
     "name": "stdout",
     "output_type": "stream",
     "text": [
      "DatetimeIndex(['2019-12-31', '2020-12-31', '2021-12-31', '2022-12-31',\n",
      "               '2023-12-31'],\n",
      "              dtype='datetime64[ns]', freq='A-DEC')\n"
     ]
    }
   ],
   "source": [
    "print(pd.date_range(start = '2019', end = '2024', freq = \"Y\" ))"
   ]
  },
  {
   "cell_type": "markdown",
   "id": "16b06172-a895-4421-aace-0c9027c50033",
   "metadata": {},
   "source": [
    "#### FRECUANCIA MEDIANTE ULTIMO DIA DEL MES"
   ]
  },
  {
   "cell_type": "code",
   "execution_count": 81,
   "id": "00e99603-b502-4f1c-8166-35716ec252ff",
   "metadata": {},
   "outputs": [
    {
     "name": "stdout",
     "output_type": "stream",
     "text": [
      "DatetimeIndex(['2024-01-31', '2024-02-29', '2024-03-31'], dtype='datetime64[ns]', freq='M')\n"
     ]
    }
   ],
   "source": [
    "print(pd.date_range(start = '2024-01', end = '2024-04', freq = \"M\" ))"
   ]
  },
  {
   "cell_type": "markdown",
   "id": "391066e3-b19c-4b72-bca8-89abc0b6b262",
   "metadata": {},
   "source": [
    "#### FRECUANCIA MEDIANTE ULTIMO DIA DEL LA SEMANA"
   ]
  },
  {
   "cell_type": "code",
   "execution_count": 82,
   "id": "7defad13-fdbc-4e7c-8bba-8c597f5d31db",
   "metadata": {},
   "outputs": [
    {
     "name": "stdout",
     "output_type": "stream",
     "text": [
      "DatetimeIndex(['2024-01-07', '2024-01-14', '2024-01-21', '2024-01-28',\n",
      "               '2024-02-04', '2024-02-11', '2024-02-18', '2024-02-25',\n",
      "               '2024-03-03', '2024-03-10', '2024-03-17', '2024-03-24',\n",
      "               '2024-03-31'],\n",
      "              dtype='datetime64[ns]', freq='W-SUN')\n"
     ]
    }
   ],
   "source": [
    "print(pd.date_range(start = '2024-01', end = '2024-04', freq = \"W\" ))"
   ]
  },
  {
   "cell_type": "markdown",
   "id": "2b6e74c8-5e72-4e82-82df-fabed9d9533e",
   "metadata": {},
   "source": [
    "#### FRECUANCIA MEDIANTE DIA POR DIA"
   ]
  },
  {
   "cell_type": "code",
   "execution_count": 83,
   "id": "1f61474e-2776-45ba-924a-2f1a3b3c23da",
   "metadata": {},
   "outputs": [
    {
     "name": "stdout",
     "output_type": "stream",
     "text": [
      "DatetimeIndex(['2024-01-01', '2024-01-02', '2024-01-03', '2024-01-04',\n",
      "               '2024-01-05', '2024-01-06', '2024-01-07', '2024-01-08',\n",
      "               '2024-01-09', '2024-01-10'],\n",
      "              dtype='datetime64[ns]', freq='D')\n"
     ]
    }
   ],
   "source": [
    "print(pd.date_range(start = '2024-01-01', end = '2024-01-10', freq = \"D\" ))"
   ]
  },
  {
   "cell_type": "markdown",
   "id": "cb583c66-ee62-48cf-a5be-19ac9d123772",
   "metadata": {},
   "source": [
    "## Ejercicio 1.8 --> Combinamos serie numerica con fechas"
   ]
  },
  {
   "cell_type": "code",
   "execution_count": 94,
   "id": "26f921e9-ece0-4700-828a-82c679c4cfc0",
   "metadata": {},
   "outputs": [
    {
     "name": "stdout",
     "output_type": "stream",
     "text": [
      "2024-01-01    7\n",
      "2024-01-02    8\n",
      "2024-01-03    8\n",
      "2024-01-04    8\n",
      "2024-01-05    5\n",
      "2024-01-06    9\n",
      "2024-01-07    5\n",
      "2024-01-08    7\n",
      "2024-01-09    8\n",
      "2024-01-10    9\n",
      "2024-01-11    5\n",
      "2024-01-12    7\n",
      "2024-01-13    7\n",
      "2024-01-14    5\n",
      "2024-01-15    8\n",
      "2024-01-16    8\n",
      "2024-01-17    5\n",
      "2024-01-18    9\n",
      "2024-01-19    7\n",
      "2024-01-20    9\n",
      "2024-01-21    9\n",
      "2024-01-22    7\n",
      "2024-01-23    8\n",
      "2024-01-24    8\n",
      "2024-01-25    8\n",
      "2024-01-26    5\n",
      "2024-01-27    6\n",
      "2024-01-28    8\n",
      "2024-01-29    5\n",
      "2024-01-30    8\n",
      "2024-01-31    9\n",
      "Freq: D, dtype: int64\n"
     ]
    }
   ],
   "source": [
    "fechas = pd.date_range(start='2024-01-01', end='2024-01-31', freq='D')\n",
    "largo = len(fechas)\n",
    "\n",
    "array_numerico = rng.integers(low=5, high=10, size=largo) \n",
    "\n",
    "serie_fechas = pd.Series(array_numerico, index = fechas)\n",
    "print(serie_fechas)"
   ]
  },
  {
   "cell_type": "code",
   "execution_count": 95,
   "id": "89904e37-8eb4-4261-ad89-b3e0696ce7a9",
   "metadata": {},
   "outputs": [
    {
     "name": "stdout",
     "output_type": "stream",
     "text": [
      "count    31.000000\n",
      "mean      7.258065\n",
      "std       1.436842\n",
      "min       5.000000\n",
      "25%       6.500000\n",
      "50%       8.000000\n",
      "75%       8.000000\n",
      "max       9.000000\n",
      "dtype: float64\n"
     ]
    }
   ],
   "source": [
    "print(serie_fechas.describe())"
   ]
  }
 ],
 "metadata": {
  "kernelspec": {
   "display_name": "Python 3 (ipykernel)",
   "language": "python",
   "name": "python3"
  },
  "language_info": {
   "codemirror_mode": {
    "name": "ipython",
    "version": 3
   },
   "file_extension": ".py",
   "mimetype": "text/x-python",
   "name": "python",
   "nbconvert_exporter": "python",
   "pygments_lexer": "ipython3",
   "version": "3.11.7"
  }
 },
 "nbformat": 4,
 "nbformat_minor": 5
}
