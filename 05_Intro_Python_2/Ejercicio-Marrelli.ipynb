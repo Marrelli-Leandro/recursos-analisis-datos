{
 "cells": [
  {
   "cell_type": "markdown",
   "id": "4eca8844-ad17-445a-844c-9da401eedd55",
   "metadata": {},
   "source": [
    "# CLASE NUMERO 5"
   ]
  },
  {
   "cell_type": "markdown",
   "id": "72599657-d2f3-4f03-83f5-56a3bf72d7f5",
   "metadata": {},
   "source": [
    "## UTILIZAMOS IF"
   ]
  },
  {
   "cell_type": "markdown",
   "id": "8c4bd97d-697d-4225-947a-98ab7f24eedd",
   "metadata": {},
   "source": [
    "### Ejercicio 1.2"
   ]
  },
  {
   "cell_type": "code",
   "execution_count": 5,
   "id": "852275f8-d733-4fbc-bb09-e0a90aa26dd7",
   "metadata": {},
   "outputs": [
    {
     "name": "stdout",
     "output_type": "stream",
     "text": [
      "Menor de edad\n"
     ]
    }
   ],
   "source": [
    "### VARIABLES ###\n",
    "edad = 17\n",
    "#################\n",
    "\n",
    "if (edad >= 18):\n",
    "    print(\"Mayor de edad\")\n",
    "else:\n",
    "    print(\"Menor de edad\")"
   ]
  },
  {
   "cell_type": "markdown",
   "id": "d7c2b0c3-fa0b-49dd-896b-cdfead370d8e",
   "metadata": {},
   "source": [
    "### Ejercicio 1.7 "
   ]
  },
  {
   "cell_type": "code",
   "execution_count": 12,
   "id": "43425d6f-632e-4c62-9be3-215aa81d7ffb",
   "metadata": {},
   "outputs": [
    {
     "name": "stdout",
     "output_type": "stream",
     "text": [
      "perro\n",
      "En esta veterinaria si atendemos perros\n"
     ]
    }
   ],
   "source": [
    "### VARIABLES ###\n",
    "animal = \"Perro\"\n",
    "#################\n",
    "animal = animal.lower()\n",
    "if (animal == \"perro\"):\n",
    "    print(\"En esta veterinaria si atendemos perros\")\n",
    "elif(animal == \"gato\"):\n",
    "    print(\"En esta veterinaria si atendemos gatos\")\n",
    "else:\n",
    "    print(\"En esta veterinaria solo atendemos perros y gatos\")"
   ]
  },
  {
   "cell_type": "markdown",
   "id": "1e5c869c-4209-4c38-bcdc-c9de317b340e",
   "metadata": {},
   "source": [
    "### Ejercicio 1.8"
   ]
  },
  {
   "cell_type": "code",
   "execution_count": 2,
   "id": "ea0448df-f307-4891-bc9b-fe6f9629717e",
   "metadata": {},
   "outputs": [
    {
     "name": "stdout",
     "output_type": "stream",
     "text": [
      "Color primario seleccionado: rojo\n"
     ]
    }
   ],
   "source": [
    "### VARIABLES ###\n",
    "color = \"rojo\"\n",
    "#################\n",
    "\n",
    "color = color.lower()\n",
    "if (color == \"azul\"):\n",
    "    print(\"Color primario seleccionado: azul\")\n",
    "elif(color == \"rojo\"):\n",
    "    print(\"Color primario seleccionado: rojo\")\n",
    "elif(color == \"amarillo\"):\n",
    "    print(\"Color primario seleccionado: amarillo\")\n",
    "else:\n",
    "    print(\"No ha seleccionado un color primario\")"
   ]
  },
  {
   "cell_type": "markdown",
   "id": "7f550a37-ed8b-4889-b1d4-70712cf611ca",
   "metadata": {},
   "source": [
    "### Ejercicio 1.9"
   ]
  },
  {
   "cell_type": "code",
   "execution_count": 9,
   "id": "8f7558ca-120e-4176-80ad-b45580a69a84",
   "metadata": {},
   "outputs": [
    {
     "name": "stdout",
     "output_type": "stream",
     "text": [
      "Usted es menor de edad\n"
     ]
    }
   ],
   "source": [
    "### VARIABLES ###\n",
    "edad = 17\n",
    "#################\n",
    "\n",
    "if (edad >= 18):\n",
    "    print(\"Usted es mayor de edad\")\n",
    "    if(edad >= 65):\n",
    "        print(\" Se encuentra en edad jubilatoria\")\n",
    "    else:\n",
    "        print(\"Se encuentra en edad laboral\")\n",
    "else:\n",
    "    print(\"Usted es menor de edad\")"
   ]
  },
  {
   "cell_type": "markdown",
   "id": "341497f4-a958-476e-8d6c-532de10c18eb",
   "metadata": {},
   "source": [
    "### Ejercicio 1.10"
   ]
  },
  {
   "cell_type": "code",
   "execution_count": 15,
   "id": "1d254dc0-fbc1-4cb6-97a2-3c5039667e76",
   "metadata": {},
   "outputs": [
    {
     "name": "stdout",
     "output_type": "stream",
     "text": [
      "Usted no se ecuentra en edad jubilatoria\n"
     ]
    }
   ],
   "source": [
    "### VARIABLES ###\n",
    "edad = 61\n",
    "genero = \"F\"\n",
    "#################\n",
    "genero = genero.lower()\n",
    "if (edad >= 65 and genero == \"m\"):\n",
    "    print(\"Usted se encuentra en edad jubilatoria\")\n",
    "elif(edad >= 62 and genero == \"f\"):\n",
    "    print(\"Usted se encuentra en edad jubilatoria\")\n",
    "else:\n",
    "    print(\"Usted no se ecuentra en edad jubilatoria\")"
   ]
  },
  {
   "cell_type": "code",
   "execution_count": null,
   "id": "7ffe4946-f716-4d27-a793-d47c537a9c1e",
   "metadata": {},
   "outputs": [],
   "source": []
  }
 ],
 "metadata": {
  "kernelspec": {
   "display_name": "Python 3 (ipykernel)",
   "language": "python",
   "name": "python3"
  },
  "language_info": {
   "codemirror_mode": {
    "name": "ipython",
    "version": 3
   },
   "file_extension": ".py",
   "mimetype": "text/x-python",
   "name": "python",
   "nbconvert_exporter": "python",
   "pygments_lexer": "ipython3",
   "version": "3.11.7"
  }
 },
 "nbformat": 4,
 "nbformat_minor": 5
}
