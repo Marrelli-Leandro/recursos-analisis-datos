{
 "cells": [
  {
   "cell_type": "markdown",
   "id": "4fa387d7-8638-4574-9106-edc245de6397",
   "metadata": {},
   "source": [
    "# PROGRAMACION ORIENTADA A OBJETO"
   ]
  },
  {
   "cell_type": "code",
   "execution_count": 3,
   "id": "239343c7-fd0e-4d3b-8ba3-fda9370b68c9",
   "metadata": {},
   "outputs": [
    {
     "name": "stdout",
     "output_type": "stream",
     "text": [
      "Leandro\n",
      "Ezequiel\n"
     ]
    }
   ],
   "source": [
    "# De esta manera creamos una clase persona con una variable nombre\n",
    "class persona:\n",
    "    nombre = \"Leandro\"\n",
    "\n",
    "print(persona.nombre) # Accedemos a la variable nombre de la clase persona\n",
    "\n",
    "persona.nombre = \"Ezequiel\" # Modificamos el valor de la variable de la clase\n",
    "print(persona.nombre)"
   ]
  },
  {
   "cell_type": "markdown",
   "id": "f9f8b7e0-a0b1-452d-bd04-830dc85fe655",
   "metadata": {},
   "source": [
    "## funcion init Inicializacion de variables"
   ]
  },
  {
   "cell_type": "code",
   "execution_count": 7,
   "id": "fc62b99f-8acc-4640-97f6-159bbf968728",
   "metadata": {},
   "outputs": [
    {
     "name": "stdout",
     "output_type": "stream",
     "text": [
      "Leandro\n",
      "Marrelli\n",
      "34\n"
     ]
    }
   ],
   "source": [
    "# con la funcion __init__ se crea la inicializacion de las variables que deseamos. Luegos estas variables son utilizadas\n",
    "# para crear los objetos necesarios.\n",
    "\n",
    "class personas:\n",
    "    def __init__(self, nombre, apellido, edad): # inicializamos las variables para los objetos q se creen\n",
    "        self.nombre = nombre\n",
    "        self.apellido = apellido\n",
    "        self.edad = edad\n",
    "\n",
    "persona_1 = personas(\"Leandro\",\"Marrelli\",34) #Creamos un objeto persona_1, con esos datos\n",
    "print(persona_1.nombre) #Accedemos al nombre de persona_1\n",
    "print(persona_1.apellido) #Accedemos al apellido de persona_1\n",
    "print(persona_1.edad) #Accedemos a la edad de persona_1"
   ]
  },
  {
   "cell_type": "markdown",
   "id": "5bddeaf2-73b1-4382-9bf5-ebe143f97e57",
   "metadata": {},
   "source": [
    "## funcion str"
   ]
  },
  {
   "cell_type": "code",
   "execution_count": 15,
   "id": "140790fc-09aa-4d0d-9f46-669ab4a568b3",
   "metadata": {},
   "outputs": [
    {
     "name": "stdout",
     "output_type": "stream",
     "text": [
      "persona_1 se llama Leandro Marrelli y tiene 34 años\n"
     ]
    }
   ],
   "source": [
    "# Cuando queremos hacer un printo con un objeto cualquiera, como puede ser persona_1, no devuelve los valores de las variables,\n",
    "# es por eso que es necesario utilizar la funcion srt, con el fin de especificar que queremos ver al momentos de hacer un print\n",
    "\n",
    "class personas:\n",
    "    def __init__(self, nombre, apellido, edad): # inicializamos las variables para los objetos q se creen\n",
    "        self.nombre = nombre\n",
    "        self.apellido = apellido\n",
    "        self.edad = edad\n",
    "    \n",
    "    def __str__(self):\n",
    "        return (f\"persona_1 se llama {self.nombre} {self.apellido} y tiene {self.edad} años\")\n",
    "\n",
    "persona_1 = personas(\"Leandro\",\"Marrelli\",34) #Creamos un objeto persona_1, con esos datos\n",
    "print(persona_1)"
   ]
  },
  {
   "cell_type": "markdown",
   "id": "9d2ffdcb-65d5-48f4-8be0-915e877c59bb",
   "metadata": {},
   "source": [
    "## Ejercicio 1.4"
   ]
  },
  {
   "cell_type": "markdown",
   "id": "66127a81-b506-4c91-8bd1-1ceb39ab7ec2",
   "metadata": {},
   "source": [
    "Creemos una clase moto donde sus atributos sean:\n",
    "- Marca\n",
    "- Capacidad del tanque (L)\n",
    "- Rendimiento por cada litro de combustible (Km/L)\n",
    "- Tiempo andado (h)\n",
    "- Velocidad Media (Km/h)\n",
    "\n",
    "Ademas queremos crear un método (función) el cual nos calcule la distancia restante que le queda a la moto en base a esta fórmula:\n",
    "\n",
    "Distancia Restante (Km) = (Combustible (L) x Rendimiento (Km/L) ) - (Tiempo andado (h) x Velocidad Media (Km/h) )"
   ]
  },
  {
   "cell_type": "code",
   "execution_count": 47,
   "id": "db678efe-710c-4938-906a-bdce5e3b4c0c",
   "metadata": {},
   "outputs": [],
   "source": [
    "class Moto:\n",
    "    def __init__(self,cap_tanque,ren_litro,tiem_marcha,vel_media):\n",
    "        self.cap_tanque = cap_tanque\n",
    "        self.ren_litro = ren_litro\n",
    "        self.tiem_marcha = tiem_marcha\n",
    "        self.vel_media = vel_media\n",
    "    \n",
    "    def __str__(self):\n",
    "        return (f\"La moto tiene: \\n\\t--> un tanque de {self.cap_tanque} litros\\\n",
    "        \\n\\t--> un rendimiento por litro de {self.ren_litro} kilometros\\\n",
    "        \\n\\t--> un tiempo de marcha de {self.tiem_marcha} horas\\\n",
    "        \\n\\t--> una velocidad media de {self.vel_media} km/h\")\n",
    "\n",
    "    def DistRestante(self):\n",
    "        dis_restante = (self.cap_tanque * self.ren_litro) - (self.tiem_marcha * self.vel_media)\n",
    "        return dis_restante"
   ]
  },
  {
   "cell_type": "code",
   "execution_count": 52,
   "id": "d628fa4b-1b69-470d-a01e-731277076442",
   "metadata": {},
   "outputs": [
    {
     "name": "stdout",
     "output_type": "stream",
     "text": [
      "La moto tiene: \n",
      "\t--> un tanque de 10 litros        \n",
      "\t--> un rendimiento por litro de 30 kilometros        \n",
      "\t--> un tiempo de marcha de 3 horas        \n",
      "\t--> una velocidad media de 80 km/h\n",
      "\n",
      "el tiempo restante es 60 horas\n"
     ]
    }
   ],
   "source": [
    "moto_1 = Moto(10,30,3,80)\n",
    "print(moto_1)\n",
    "dis_restante = moto_1.DistRestante()\n",
    "print(f\"\\nel tiempo restante es {dis_restante} horas\")"
   ]
  },
  {
   "cell_type": "markdown",
   "id": "b753870b-4157-42d7-89e7-a84a37ef4d35",
   "metadata": {},
   "source": [
    "## Ejercicio 1.5"
   ]
  },
  {
   "cell_type": "markdown",
   "id": "dc0668f0-9970-46ff-99c4-903aee675c6b",
   "metadata": {},
   "source": [
    "Vamos a crear una clase llamada Vehiculo que represente un vehículo con atributos como marca, modelo, color y velocidad. Implementar métodos para acelerar, girar, frenar y estacionar el vehículo.\r\n",
    "\r\n",
    "Recordemos que hay que seguir estos pasos\r\n",
    "\r\n",
    "Define la clase Vehiculo con un constructor init.\r\n",
    "Definamos como queremos que se muestre nuestro print\r\n",
    "Implementa métodos acelerar, girar, frenar y estacionar.\r\n",
    "En caso de frenar hay que tener en cuenta si el vehiculo se mueve o no\r\n",
    "Crea dos instancias de Vehiculo con diferentes características. Utiliza los métodos de cada instancia para simular acciones de manejo."
   ]
  },
  {
   "cell_type": "code",
   "execution_count": 47,
   "id": "695e787b-301f-4c43-ae39-468113808083",
   "metadata": {},
   "outputs": [],
   "source": [
    "class Vehiculo:\n",
    "    def __init__(self, marca, modelo, color, velocidad):\n",
    "        self.marca = marca\n",
    "        self.modelo = modelo\n",
    "        self.color = color\n",
    "        self.velocidad = velocidad\n",
    "\n",
    "    def __str__(self):\n",
    "        return (f\"El auto {self.marca} {self.modelo}, de color {self.color}, va a una velocidad de {self.velocidad} km/h\")\n",
    "\n",
    "    def Acelerar(self,acel,inc_vel): # los valores requeridos son aceleracion e incremento de velocidad\n",
    "        vel_final = self.velocidad + inc_vel\n",
    "        while(self.velocidad < vel_final):\n",
    "            self.velocidad += acel\n",
    "            if(self.velocidad <= vel_final):\n",
    "                print(self.velocidad)    \n",
    "        if self.velocidad > vel_final:\n",
    "            self.velocidad -= acel\n",
    "            while(self.velocidad < vel_final):\n",
    "                self.velocidad += 1\n",
    "                print(self.velocidad)\n",
    "    \n",
    "    def Girar(self,sentido,frenado):\n",
    "        if(self.velocidad > 20):\n",
    "            while(self.velocidad > 20):\n",
    "                self.velocidad -= frenado\n",
    "                print(self.velocidad)\n",
    "            if(self.velocidad < 20):\n",
    "                while(self.velocidad < 20):\n",
    "                    self.velocidad += 1\n",
    "                    print(self.velocidad)      \n",
    "        elif(self.velocidad < 20):\n",
    "            while(self.velocidad < 20):\n",
    "                self.velocidad += 1\n",
    "                print(self.velocidad)\n",
    "        print(f\"\\nDoblando a la {sentido}\")\n",
    "                \n",
    "    def Frenar(self,frenado,dec_vel):\n",
    "        if(frenado > dec_vel):\n",
    "            print(\"No puede frenar a ese ritmo, el ritmo es mayor a lo que se desea decrementar\")\n",
    "        elif(self.velocidad > dec_vel):\n",
    "            vel_final = self.velocidad - dec_vel\n",
    "            while(self.velocidad > vel_final):\n",
    "                if(self.velocidad >= dec_vel):\n",
    "                    self.velocidad -= frenado\n",
    "                    print(self.velocidad)\n",
    "                else:\n",
    "                    print(\"No puede franar mas a ese ritmo, pasaria a velocidad negativa\")\n",
    "        else:\n",
    "            print(\"No puede frenar a ese ritmo, pasaria a velocidad negativa\")\n",
    "        \n",
    "\n",
    "    def Estacionar(self):\n",
    "        pass"
   ]
  },
  {
   "cell_type": "code",
   "execution_count": 48,
   "id": "360ae261-110f-4e69-94c8-9302db46c7ff",
   "metadata": {},
   "outputs": [
    {
     "name": "stdout",
     "output_type": "stream",
     "text": [
      "El auto Chevrolet Aveo, de color Gris, va a una velocidad de 80 km/h\n"
     ]
    }
   ],
   "source": [
    "auto_1 = Vehiculo(\"Chevrolet\",\"Aveo\",\"Gris\",80)\n",
    "print(auto_1)"
   ]
  },
  {
   "cell_type": "code",
   "execution_count": 40,
   "id": "1ae5aadf-20b8-4a0a-a45a-4a1528445800",
   "metadata": {},
   "outputs": [
    {
     "name": "stdout",
     "output_type": "stream",
     "text": [
      "15\n",
      "20\n",
      "25\n",
      "30\n"
     ]
    }
   ],
   "source": [
    "auto_1.Acelerar(5,20) # los valores requeridos son aceleracion e incremento de velocidad"
   ]
  },
  {
   "cell_type": "code",
   "execution_count": null,
   "id": "b719a055-3d13-4784-bd9d-c388bf27337b",
   "metadata": {},
   "outputs": [],
   "source": [
    "auto_1.Girar(\"derech\",3) # Los valores requeridos son sentido de giro y la desaceleracion"
   ]
  },
  {
   "cell_type": "code",
   "execution_count": 49,
   "id": "b9b4f0d2-842f-44c5-83fc-957f62d1e483",
   "metadata": {},
   "outputs": [
    {
     "name": "stdout",
     "output_type": "stream",
     "text": [
      "No puede frenar a ese ritmo, el ritmo es mayor a lo que se desea decrementar\n"
     ]
    }
   ],
   "source": [
    "auto_1.Frenar(20,10)"
   ]
  },
  {
   "cell_type": "markdown",
   "id": "6b8f8337-9466-4445-81a9-34b3cb2d6728",
   "metadata": {},
   "source": [
    "## TRIBUTOS PRIVADOS"
   ]
  },
  {
   "cell_type": "markdown",
   "id": "70169b46-d3dc-43f8-a206-8d33a5a672d3",
   "metadata": {},
   "source": [
    "Todo lo trabajado anteriormente, fue realizado con atributos publicos, es decis atributos que puede ser observados y modificados en manera simple. El consepto que se verá ahora es el de ATRIBUTOS PRIVADOS, los cuales son atributos que a diferencia de los anteriores, no pueden ser observados y modificados de una manera simple\n",
    "\n",
    "Para crear atributos privados, lo que se hace es agregarle dos guines bajos adelante"
   ]
  },
  {
   "cell_type": "code",
   "execution_count": 30,
   "id": "521eb917-3741-4fce-9006-d31c4e8ab805",
   "metadata": {},
   "outputs": [],
   "source": [
    "class Vehiculo:\n",
    "    def __init__(self, marca, modelo, color):\n",
    "        self.__marca = marca\n",
    "        self.__modelo = modelo\n",
    "        self.__color = color\n",
    "\n",
    "    def getMarca(self):\n",
    "        return f\"{self.__marca}\"\n",
    "    def getModelo(self):\n",
    "        return f\"{self.__modelo}\"\n",
    "    def getColor(self):\n",
    "        return f\"{self.__color}\"\n",
    "\n",
    "    def setMarca(self,marca):\n",
    "        self.__marca = \"Fiat\"\n",
    "    def setModelo(self, modelo):\n",
    "        self.__modelo = \"Palio\"\n",
    "    def setColor(self, color):\n",
    "        self.__color = \"Rojo\""
   ]
  },
  {
   "cell_type": "code",
   "execution_count": 31,
   "id": "677f6dfe-e0dc-44d6-ba3b-e52154420248",
   "metadata": {},
   "outputs": [],
   "source": [
    "vehiculo1 = Vehiculo(\"Chevrolet\",\"aveo\",\"gris\")"
   ]
  },
  {
   "cell_type": "markdown",
   "id": "12397017-49db-4259-bf0c-ea23dab94f9f",
   "metadata": {},
   "source": [
    "Si hacemos una print de Vehiculo1.marca, no se podra ver, ya que los atributos son privados\n",
    "\n",
    "Para poder accede y modificar los atributos privados, seutilizan las siguientes funciones\n",
    "\n",
    "    get ---> la cual es para obtener el valor\n",
    "    set ---> la cual es para modificar el valor\n",
    "\n",
    "Para esto, es neceasrio crear funciones especiales dentro de la clase"
   ]
  },
  {
   "cell_type": "code",
   "execution_count": 32,
   "id": "42e8d0bc-6f01-4fe3-89de-1999166c395b",
   "metadata": {},
   "outputs": [
    {
     "name": "stdout",
     "output_type": "stream",
     "text": [
      "Chevrolet\n",
      "aveo\n",
      "gris\n"
     ]
    }
   ],
   "source": [
    "print(vehiculo1.getMarca())\n",
    "print(vehiculo1.getModelo())\n",
    "print(vehiculo1.getColor())"
   ]
  },
  {
   "cell_type": "code",
   "execution_count": 33,
   "id": "f193e35e-79d0-4153-90a1-25ec4f655a42",
   "metadata": {},
   "outputs": [],
   "source": [
    "vehiculo1.setMarca(\"Fiat\")\n",
    "vehiculo1.setModelo(\"Palio\")\n",
    "vehiculo1.setColor(\"Rojo\")"
   ]
  },
  {
   "cell_type": "code",
   "execution_count": 34,
   "id": "0860b09f-c21b-4a42-a4fb-eb45640a4e5a",
   "metadata": {},
   "outputs": [
    {
     "name": "stdout",
     "output_type": "stream",
     "text": [
      "Fiat\n",
      "Palio\n",
      "Rojo\n"
     ]
    }
   ],
   "source": [
    "print(vehiculo1.getMarca())\n",
    "print(vehiculo1.getModelo())\n",
    "print(vehiculo1.getColor())"
   ]
  },
  {
   "cell_type": "code",
   "execution_count": null,
   "id": "2607c83f-6bd4-4292-99ee-66feaef74823",
   "metadata": {},
   "outputs": [],
   "source": []
  }
 ],
 "metadata": {
  "kernelspec": {
   "display_name": "Python 3 (ipykernel)",
   "language": "python",
   "name": "python3"
  },
  "language_info": {
   "codemirror_mode": {
    "name": "ipython",
    "version": 3
   },
   "file_extension": ".py",
   "mimetype": "text/x-python",
   "name": "python",
   "nbconvert_exporter": "python",
   "pygments_lexer": "ipython3",
   "version": "3.11.7"
  }
 },
 "nbformat": 4,
 "nbformat_minor": 5
}
